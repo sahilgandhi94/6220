{
 "cells": [
  {
   "cell_type": "code",
   "execution_count": 20,
   "metadata": {
    "ExecuteTime": {
     "end_time": "2018-03-11T15:30:03.212923Z",
     "start_time": "2018-03-11T15:30:03.202306Z"
    }
   },
   "outputs": [],
   "source": [
    "import numpy as np\n",
    "\n",
    "from matplotlib import pyplot as plt\n",
    "\n",
    "from sklearn.datasets import fetch_mldata\n",
    "from sklearn.model_selection import train_test_split\n",
    "\n",
    "from sklearn.linear_model import LogisticRegression\n",
    "from sklearn.tree import DecisionTreeClassifier\n",
    "from sklearn.decomposition import PCA"
   ]
  },
  {
   "cell_type": "code",
   "execution_count": 25,
   "metadata": {
    "ExecuteTime": {
     "end_time": "2018-03-11T15:32:42.676892Z",
     "start_time": "2018-03-11T15:32:42.638992Z"
    }
   },
   "outputs": [],
   "source": [
    "def pca_vs_lr_dtc(xtrain, ytrain, xtest, ytest, d, dump_out=True):\n",
    "    pca = PCA(n_components=d)\n",
    "    xptrain = pca.fit_transform(xtrain)\n",
    "    xptest = pca.transform(xtest)\n",
    "    # LR accuracy\n",
    "    lr = LogisticRegression()\n",
    "    lr.fit(xptrain, ytrain)\n",
    "    lrscore = lr.score(xptest, ytest)\n",
    "    # DTC accuracy\n",
    "    dtc = DecisionTreeClassifier()\n",
    "    dtc.fit(xptrain, ytrain)\n",
    "    dtcscore = dtc.score(xptest, ytest)\n",
    "    if dump_out:\n",
    "        print('D = {}'.format(d))\n",
    "        print('LR accuracy: {}'.format(lrscore))\n",
    "        print('DTC accuracy: {}'.format(dtcscore))\n",
    "    else:\n",
    "        return lrscore, dtcscore"
   ]
  },
  {
   "cell_type": "markdown",
   "metadata": {},
   "source": [
    "# MNIST"
   ]
  },
  {
   "cell_type": "code",
   "execution_count": 9,
   "metadata": {
    "ExecuteTime": {
     "end_time": "2018-03-11T15:24:16.945641Z",
     "start_time": "2018-03-11T15:24:16.837620Z"
    }
   },
   "outputs": [],
   "source": [
    "mnist = fetch_mldata('MNIST original', data_home='../Data')\n",
    "mxtrain, mxtest, mytrain, mytest = train_test_split(mnist.data, mnist.target, test_size=0.33, random_state=42)"
   ]
  },
  {
   "cell_type": "markdown",
   "metadata": {},
   "source": [
    "## D=5"
   ]
  },
  {
   "cell_type": "code",
   "execution_count": 10,
   "metadata": {
    "ExecuteTime": {
     "end_time": "2018-03-11T15:24:26.033300Z",
     "start_time": "2018-03-11T15:24:18.420005Z"
    }
   },
   "outputs": [
    {
     "name": "stdout",
     "output_type": "stream",
     "text": [
      "D = 5\n",
      "LR accuracy: 0.6483116883116883\n",
      "DTC accuracy: 0.6625108225108225\n"
     ]
    }
   ],
   "source": [
    "pca_vs_lr_dtc(mxtrain, mytrain, mxtest, mytest, 5)"
   ]
  },
  {
   "cell_type": "markdown",
   "metadata": {},
   "source": [
    "## D=20"
   ]
  },
  {
   "cell_type": "code",
   "execution_count": 11,
   "metadata": {
    "ExecuteTime": {
     "end_time": "2018-03-11T15:25:34.898254Z",
     "start_time": "2018-03-11T15:24:41.862521Z"
    }
   },
   "outputs": [
    {
     "name": "stdout",
     "output_type": "stream",
     "text": [
      "D = 20\n",
      "LR accuracy: 0.8638528138528139\n",
      "DTC accuracy: 0.8418181818181818\n"
     ]
    }
   ],
   "source": [
    "pca_vs_lr_dtc(mxtrain, mytrain, mxtest, mytest, 20)"
   ]
  },
  {
   "cell_type": "markdown",
   "metadata": {},
   "source": [
    "***compare results with problem 1 accuracy**"
   ]
  },
  {
   "cell_type": "markdown",
   "metadata": {},
   "source": [
    "# Spambase"
   ]
  },
  {
   "cell_type": "code",
   "execution_count": 14,
   "metadata": {
    "ExecuteTime": {
     "end_time": "2018-03-11T15:27:06.061307Z",
     "start_time": "2018-03-11T15:27:05.893740Z"
    }
   },
   "outputs": [],
   "source": [
    "def spambasedata():\n",
    "    f = open('../Data/spambase.data')\n",
    "    target = []\n",
    "    spam_data = []    \n",
    "    for line in f.readlines():\n",
    "        target.append(int(line[-2]))\n",
    "        line = line[:-3].strip().split(',')\n",
    "        spam_data.append(list(map(float, line)))\n",
    "    target = np.array(target)\n",
    "    f.close()\n",
    "    f = open('../Data/spambase.names')\n",
    "    names = []\n",
    "    for line in f.readlines()[33:]:\n",
    "        names.append(line.strip().split(':')[0])\n",
    "    f.close()\n",
    "    return spam_data, target, names\n",
    "\n",
    "sdata, starget, snames = spambasedata()"
   ]
  },
  {
   "cell_type": "code",
   "execution_count": 19,
   "metadata": {
    "ExecuteTime": {
     "end_time": "2018-03-11T15:28:44.556876Z",
     "start_time": "2018-03-11T15:28:44.550629Z"
    }
   },
   "outputs": [],
   "source": [
    "sxtrain, sxtest, sytrain, sytest = train_test_split(sdata, starget, test_size=0.33, random_state=42)"
   ]
  },
  {
   "cell_type": "code",
   "execution_count": 27,
   "metadata": {
    "ExecuteTime": {
     "end_time": "2018-03-11T15:36:23.930710Z",
     "start_time": "2018-03-11T15:36:09.001853Z"
    }
   },
   "outputs": [
    {
     "data": {
      "text/plain": [
       "[<matplotlib.lines.Line2D at 0x7fc0d1618b00>]"
      ]
     },
     "execution_count": 27,
     "metadata": {},
     "output_type": "execute_result"
    },
    {
     "data": {
      "text/plain": [
       "[<matplotlib.lines.Line2D at 0x7fc0d15860b8>]"
      ]
     },
     "execution_count": 27,
     "metadata": {},
     "output_type": "execute_result"
    },
    {
     "data": {
      "text/plain": [
       "Text(0.5,0,'No. of dimensions')"
      ]
     },
     "execution_count": 27,
     "metadata": {},
     "output_type": "execute_result"
    },
    {
     "data": {
      "text/plain": [
       "Text(0,0.5,'Scores; LR(red), DTC(blue)')"
      ]
     },
     "execution_count": 27,
     "metadata": {},
     "output_type": "execute_result"
    },
    {
     "data": {
      "image/png": "[encoded data removed]",
      "text/plain": [
       "<matplotlib.figure.Figure at 0x7fc0d2e1e8d0>"
      ]
     },
     "metadata": {
      "image/png": {
       "height": 263,
       "width": 411
      }
     },
     "output_type": "display_data"
    }
   ],
   "source": [
    "lr_scores = []\n",
    "dtc_scores = []\n",
    "for d in range(2, len(sdata[0])):\n",
    "    ls, dts = pca_vs_lr_dtc(sxtrain, sytrain, sxtest, sytest, d, dump_out=False)\n",
    "    lr_scores.append(ls)\n",
    "    dtc_scores.append(dts)\n",
    "\n",
    "plt.plot(range(2, len(sdata[0])), lr_scores, 'r')\n",
    "plt.plot(range(2, len(sdata[0])), dtc_scores, 'b')\n",
    "plt.xlabel('No. of dimensions')\n",
    "plt.ylabel('Scores; LR(red), DTC(blue)')\n",
    "plt.yscale('log')"
   ]
  },
  {
   "cell_type": "code",
   "execution_count": null,
   "metadata": {},
   "outputs": [],
   "source": []
  }
 ],
 "metadata": {
  "kernelspec": {
   "display_name": "Python 3",
   "language": "python",
   "name": "python3"
  },
  "language_info": {
   "codemirror_mode": {
    "name": "ipython",
    "version": 3
   },
   "file_extension": ".py",
   "mimetype": "text/x-python",
   "name": "python",
   "nbconvert_exporter": "python",
   "pygments_lexer": "ipython3",
   "version": "3.6.4"
  },
  "toc": {
   "nav_menu": {},
   "number_sections": true,
   "sideBar": true,
   "skip_h1_title": false,
   "toc_cell": false,
   "toc_position": {},
   "toc_section_display": "block",
   "toc_window_display": false
  },
  "varInspector": {
   "cols": {
    "lenName": 16,
    "lenType": 16,
    "lenVar": 40
   },
   "kernels_config": {
    "python": {
     "delete_cmd_postfix": "",
     "delete_cmd_prefix": "del ",
     "library": "var_list.py",
     "varRefreshCmd": "print(var_dic_list())"
    },
    "r": {
     "delete_cmd_postfix": ") ",
     "delete_cmd_prefix": "rm(",
     "library": "var_list.r",
     "varRefreshCmd": "cat(var_dic_list()) "
    }
   },
   "types_to_exclude": [
    "module",
    "function",
    "builtin_function_or_method",
    "instance",
    "_Feature"
   ],
   "window_display": false
  }
 },
 "nbformat": 4,
 "nbformat_minor": 2
}
