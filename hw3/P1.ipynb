{
 "cells": [
  {
   "cell_type": "code",
   "execution_count": 2,
   "metadata": {
    "ExecuteTime": {
     "end_time": "2018-03-14T21:04:24.123781Z",
     "start_time": "2018-03-14T21:04:12.536912Z"
    }
   },
   "outputs": [],
   "source": [
    "import numpy as np\n",
    "\n",
    "from sklearn.datasets import fetch_20newsgroups\n",
    "from sklearn.datasets import fetch_mldata\n",
    "from sklearn.model_selection import train_test_split\n",
    "\n",
    "from sklearn.linear_model import LogisticRegression\n",
    "from sklearn.tree import DecisionTreeClassifier\n",
    "\n",
    "from sklearn.feature_extraction.text import TfidfVectorizer"
   ]
  },
  {
   "cell_type": "code",
   "execution_count": 3,
   "metadata": {
    "ExecuteTime": {
     "end_time": "2018-03-14T21:04:24.136521Z",
     "start_time": "2018-03-14T21:04:24.127347Z"
    }
   },
   "outputs": [],
   "source": [
    "def runLR(xtrain, ytrain, xtest, ytest):\n",
    "    lr = LogisticRegression()\n",
    "    lr.fit(xtrain, ytrain)\n",
    "    print('Accuracy: ', lr.score(xtest, ytest))\n",
    "    return lr"
   ]
  },
  {
   "cell_type": "code",
   "execution_count": 4,
   "metadata": {
    "ExecuteTime": {
     "end_time": "2018-03-14T21:04:24.160646Z",
     "start_time": "2018-03-14T21:04:24.139779Z"
    }
   },
   "outputs": [],
   "source": [
    "def runDTC(xtrain, ytrain, xtest, ytest, names=None, f=30):\n",
    "    dt = DecisionTreeClassifier()\n",
    "    dt.fit(xtrain, ytrain)\n",
    "    print('Accuracy: ', dt.score(xtest, ytest))\n",
    "    print('Top {} features using DTC'.format(f))\n",
    "    if names is not None:\n",
    "        if type(names) is list:\n",
    "            print([names[z] for z in np.argsort(dt.feature_importances_)[::-1][:f]])\n",
    "        else:\n",
    "            print(names[np.argsort(dt.feature_importances_)[::-1][:f]])\n",
    "    else:\n",
    "        print([np.argsort(dt.feature_importances_)[::-1][:f]])\n",
    "    return dt"
   ]
  },
  {
   "cell_type": "markdown",
   "metadata": {},
   "source": [
    "# 20 News Groups"
   ]
  },
  {
   "cell_type": "code",
   "execution_count": 5,
   "metadata": {
    "ExecuteTime": {
     "end_time": "2018-03-14T21:05:23.998524Z",
     "start_time": "2018-03-14T21:04:43.263046Z"
    }
   },
   "outputs": [
    {
     "name": "stderr",
     "output_type": "stream",
     "text": [
      "Downloading 20news dataset. This may take a few minutes.\n",
      "Downloading dataset from https://ndownloader.figshare.com/files/5975967 (14 MB)\n"
     ]
    }
   ],
   "source": [
    "ngtrain = fetch_20newsgroups(subset='train', data_home='../Data')\n",
    "ngtest = fetch_20newsgroups(subset='test', data_home='../Data')"
   ]
  },
  {
   "cell_type": "code",
   "execution_count": 6,
   "metadata": {
    "ExecuteTime": {
     "end_time": "2018-03-14T21:05:34.521927Z",
     "start_time": "2018-03-14T21:05:24.002961Z"
    }
   },
   "outputs": [],
   "source": [
    "ngtrain_vectorizer = TfidfVectorizer(stop_words='english', strip_accents='ascii')\n",
    "_ngtrain_vectors = ngtrain_vectorizer.fit_transform(ngtrain.data)\n",
    "ngtest_vectorizer = TfidfVectorizer(stop_words='english', strip_accents='ascii')\n",
    "_ngtest_vectors = ngtest_vectorizer.fit_transform(ngtest.data)"
   ]
  },
  {
   "cell_type": "code",
   "execution_count": 7,
   "metadata": {
    "ExecuteTime": {
     "end_time": "2018-03-14T21:05:37.018951Z",
     "start_time": "2018-03-14T21:05:34.539992Z"
    }
   },
   "outputs": [],
   "source": [
    "# remove features in test that are not found in train\n",
    "get_indices = lambda x, y: list(set(np.searchsorted(x, y)))\n",
    "common_features = np.intersect1d(ngtrain_vectorizer.get_feature_names(), ngtest_vectorizer.get_feature_names())\n",
    "ngtrain_vectors = _ngtrain_vectors[:, get_indices(ngtrain_vectorizer.get_feature_names(), common_features)]\n",
    "ngtest_vectors = _ngtest_vectors[:, get_indices(ngtest_vectorizer.get_feature_names(), common_features)]"
   ]
  },
  {
   "cell_type": "markdown",
   "metadata": {},
   "source": [
    "## Logistic Regression"
   ]
  },
  {
   "cell_type": "code",
   "execution_count": 8,
   "metadata": {
    "ExecuteTime": {
     "end_time": "2018-03-14T21:05:53.067862Z",
     "start_time": "2018-03-14T21:05:43.095427Z"
    }
   },
   "outputs": [
    {
     "name": "stdout",
     "output_type": "stream",
     "text": [
      "Accuracy:  0.827535847053\n"
     ]
    }
   ],
   "source": [
    "nglr = runLR(ngtrain_vectors, ngtrain.target, ngtest_vectors, ngtest.target)"
   ]
  },
  {
   "cell_type": "markdown",
   "metadata": {},
   "source": [
    "LogisticRegression of sklearn package uses the one-vs-rest model for a multi-class classification. Because of this, we get 20 (no. of classes in data) different sets of coefficients. Now in order to pick the best 30 features, I have chosen to pick the top 30 from each class instead of choosing the top 30 over all the classes. \n",
    "\n",
    "Since we are using the one-vs-rest model, to predict the output probability for each class, we can choose the most important features (30 in this eg) and use them to classify. "
   ]
  },
  {
   "cell_type": "code",
   "execution_count": 9,
   "metadata": {
    "ExecuteTime": {
     "end_time": "2018-03-14T21:06:12.007249Z",
     "start_time": "2018-03-14T21:06:11.828805Z"
    },
    "scrolled": true
   },
   "outputs": [
    {
     "name": "stdout",
     "output_type": "stream",
     "text": [
      "Top 30 features for class `alt.atheism`:\n",
      "['keith' 'atheism' 'atheists' 'islamic' 'caltech' 'okcforum' 'god' 'islam'\n",
      " 'mathew' 'jaeger' 'livesey' 'rushdie' 'mangoe' 'benedikt' 'umd' 'religion'\n",
      " 'osrhe' 'wingate' 'edu' 'kmr4' 'sgi' 'bible' 'cobb' 'mantis' 'gregg' 'tek'\n",
      " 'solntze' 'atheist' 'bobby' 'ico']\n",
      "------------------------------\n",
      "Top 30 features for class `comp.graphics`:\n",
      "['graphics' 'image' '3d' 'polygon' 'tiff' 'images' 'files' 'pov' '3do'\n",
      " 'format' 'points' 'animation' 'package' 'gif' 'vga' 'sphere' 'color'\n",
      " 'vesa' 'surface' 'algorithm' 'program' 'file' '42' 'looking' 'library'\n",
      " 'code' 'software' 'quicktime' 'xv' 'mpeg']\n",
      "------------------------------\n",
      "Top 30 features for class `comp.os.ms-windows.misc`:\n",
      "['windows' 'file' 'ax' 'driver' 'drivers' 'files' 'cica' 'dos' 'win' 'nt'\n",
      " 'risc' 'ini' 'mouse' 'ms' 'win3' 'fonts' 'font' 'ftp' 'printer' 'access'\n",
      " 'microsoft' 'using' 'bmp' 'tw' 'program' 'card' 'manager' 'diamond'\n",
      " 'norton' 'deskjet']\n",
      "------------------------------\n",
      "Top 30 features for class `comp.sys.ibm.pc.hardware`:\n",
      "['drive' 'card' 'pc' 'scsi' 'bus' 'ide' 'gateway' 'controller' 'monitor'\n",
      " '486' 'port' 'bios' 'vlb' 'motherboard' 'disk' 'isa' 'floppy' 'thanks'\n",
      " 'help' 'irq' 'monitors' 'eisa' 'dos' 'ibm' 'board' 'drives' 'boot'\n",
      " 'memory' 'cpu' 'zeos']\n",
      "------------------------------\n",
      "Top 30 features for class `comp.sys.mac.hardware`:\n",
      "['mac' 'apple' 'quadra' 'duo' 'centris' 'powerbook' 'se' 'lc' 'lciii'\n",
      " 'monitor' 'iisi' 'simms' 'modem' 'c650' 'adb' 'bmug' 'drive' 'simm' '610'\n",
      " 'macintosh' 'upgrade' 'vram' 'nubus' 'clock' 'internal' 'macs' 'problem'\n",
      " 'ram' 'speed' '040']\n",
      "------------------------------\n",
      "Top 30 features for class `comp.windows.x`:\n",
      "['window' 'motif' 'server' 'widget' 'mit' 'x11r5' 'xterm' 'lcs' 'xlib'\n",
      " 'application' 'expo' 'xpert' 'display' 'code' 'sun' 'x11' 'widgets'\n",
      " 'running' 'color' 'lib' 'r5' 'clients' 'imake' 'enterpoop' 'synoptics'\n",
      " 'xdm' 'colormap' 'internet' 'program' 'pixmap']\n",
      "------------------------------\n",
      "Top 30 features for class `misc.forsale`:\n",
      "['sale' 'shipping' 'offer' 'forsale' '00' 'sell' 'condition' 'asking'\n",
      " 'interested' 'wanted' 'price' 'distribution' 'mail' 'email' 'trade'\n",
      " 'games' 'excellent' 'new' 'obo' 'offers' 'includes' 'purdue' 'brand'\n",
      " 'ohio' 'selling' '25' 'cd' 'hiram' 'stereo' 'contact']\n",
      "------------------------------\n",
      "Top 30 features for class `rec.autos`:\n",
      "['car' 'cars' 'engine' 'oil' 'dealer' 'ford' 'toyota' 'automotive' 'auto'\n",
      " 'callison' 'eliot' 'honda' 'com' 'autos' 'warning' 'boyle' 'wagon' 'vw'\n",
      " 'dumbest' 'saturn' 'unisql' 'driving' 'road' 'centerline' 'convertible'\n",
      " 'hp' 'integra' 'jeep' 'truck' 'nissan']\n",
      "------------------------------\n",
      "Top 30 features for class `rec.motorcycles`:\n",
      "['bike' 'dod' 'bikes' 'motorcycle' 'bmw' 'ride' 'riding' 'helmet'\n",
      " 'motorcycles' 'rider' 'com' 'dog' 'ranck' 'honda' 'ama' 'bnr' 'harley'\n",
      " 'moa' 'howland' 'infante' 'sun' 'stafford' 'behanna' 'yamaha' 'ed'\n",
      " 'ducati' 'winona' 'east' 'shaft' 'cop']\n",
      "------------------------------\n",
      "Top 30 features for class `rec.sport.baseball`:\n",
      "['baseball' 'phillies' 'year' 'cubs' 'players' 'edu' 'runs' 'braves'\n",
      " 'pitching' 'sox' 'ball' 'game' 'team' 'alomar' 'hit' 'jewish' 'mets'\n",
      " 'hitter' 'games' 'stadium' 'fan' 'tigers' 'season' 'yankees' 'journalism'\n",
      " 'win' 'giants' 'jays' 'bob' 'uniforms']\n",
      "------------------------------\n",
      "Top 30 features for class `rec.sport.hockey`:\n",
      "['hockey' 'nhl' 'team' 'game' 'ca' 'play' 'playoff' 'leafs' 'season' 'cup'\n",
      " 'players' 'pens' 'espn' 'playoffs' 'detroit' 'wings' 'teams' 'devils'\n",
      " 'pittsburgh' 'rangers' 'flyers' 'ice' 'penguins' 'coach' 'toronto' 'hawks'\n",
      " 'games' 'islanders' 'montreal' 'abc']\n",
      "------------------------------\n",
      "Top 30 features for class `sci.crypt`:\n",
      "['clipper' 'key' 'encryption' 'chip' 'nsa' 'pgp' 'keys' 'security' 'gtoal'\n",
      " 'tapped' 'crypto' 'government' 'code' 'cryptography' 'des' 'secret'\n",
      " 'escrow' 'qualcomm' 'encrypted' 'eff' 'tempest' 'privacy' 'netcom' 'na'\n",
      " 'wiretap' 'algorithm' 'com' 'bontchev' 'intercon' 'clinton']\n",
      "------------------------------\n",
      "Top 30 features for class `sci.electronics`:\n",
      "['circuit' 'electronics' 'power' 'voltage' 'radar' 'tv' 'audio' 'amp'\n",
      " 'ground' 'radio' 'detector' 'motorola' 'ee' 'current' 'cooling' 'line'\n",
      " 'circuits' '8051' 'use' 'phone' 'output' 'wire' 'babb' 'hp' 'uv' 'design'\n",
      " 'receiver' 'low' 'adcom' '256k']\n",
      "------------------------------\n",
      "Top 30 features for class `sci.med`:\n",
      "['msg' 'doctor' 'pitt' 'disease' 'medical' 'geb' 'banks' 'treatment'\n",
      " 'gordon' 'dyer' 'pain' 'cancer' 'food' 'health' 'medicine' 'science'\n",
      " 'foods' 'patients' 'photography' 'med' 'diet' 'syndrome' 'information'\n",
      " 'zisfein' 'symptoms' 'eye' 'effects' 'yeast' 'sas' 'homeopathy']\n",
      "------------------------------\n",
      "Top 30 features for class `sci.space`:\n",
      "['space' 'nasa' 'moon' 'orbit' 'launch' 'henry' 'alaska' 'digex' 'pat'\n",
      " 'shuttle' 'sci' 'lunar' 'spacecraft' 'earth' 'dc' 'access' 'prb' 'flight'\n",
      " 'rockets' 'solar' 'aurora' 'dietz' 'zoo' 'sky' 'ti' 'mars' 'higgins'\n",
      " 'jupiter' 'sunset' 'mccall']\n",
      "------------------------------\n",
      "Top 30 features for class `soc.religion.christian`:\n",
      "['god' 'church' 'rutgers' 'christians' 'christ' 'athos' 'christian'\n",
      " 'christianity' 'clh' 'jesus' 'hell' 'bible' '1993' 'faith' 'catholic'\n",
      " 'sin' 'apr' 'geneva' 'petch' 'easter' 'scripture' 'resurrection' 'jayne'\n",
      " 'fisher' 'married' 'authority' 'truth' 'heaven' 'book' 'sabbath']\n",
      "------------------------------\n",
      "Top 30 features for class `talk.politics.guns`:\n",
      "['gun' 'guns' 'fbi' 'waco' 'weapons' 'atf' 'firearms' 'batf' 'stratus'\n",
      " 'feustel' 'nra' 'handgun' 'rights' 'weapon' 'militia' 'government'\n",
      " 'amendment' 'ranch' 'com' 'cdt' 'firearm' 'handheld' 'ifas' 'survivors'\n",
      " 'gnv' 'law' 'dividian' 'uic' 'colorado' 'hunting']\n",
      "------------------------------\n",
      "Top 30 features for class `talk.politics.mideast`:\n",
      "['israel' 'israeli' 'turkish' 'jews' 'armenians' 'armenian' 'serdar'\n",
      " 'armenia' 'arab' 'turkey' 'argic' 'mcgill' 'jake' 'soldiers' 'jewish'\n",
      " 'holocaust' 'arabs' 'cpr' 'cosmo' 'turks' 'angmar' 'adl' 'iran' 'policy'\n",
      " 'greek' 'columbia' 'zionism' 'adam' 'freedom' 'jerusalem']\n",
      "------------------------------\n",
      "Top 30 features for class `talk.politics.misc`:\n",
      "['clinton' 'kaldis' 'cramer' 'tax' 'optilink' 'drugs' 'gay' 'president'\n",
      " 'government' 'br' 'jobs' 'clayton' 'health' 'state' 'isc' 'sexual'\n",
      " 'people' 'hallam' 'drieux' 'writes' 'trial' 'states' 'broward' 'com'\n",
      " 'phil' 'taxes' 'deficit' 'bush' 'romulus' 'uchicago']\n",
      "------------------------------\n",
      "Top 30 features for class `talk.religion.misc`:\n",
      "['christian' 'sandvik' 'morality' 'koresh' 'jesus' 'objective' 'hudson'\n",
      " 'god' 'biblical' 'order' 'brian' 'weiss' 'rosicrucian' 'frank' 'buffalo'\n",
      " 'tyre' 'mormons' 'kent' 'mitre' 'ch981' 'amdahl' 'jim' 'beast' 'mr'\n",
      " 'thyagi' 'alicea' 'religion' 'meritt' 'tony' 'abortion']\n",
      "------------------------------\n"
     ]
    }
   ],
   "source": [
    "f = 30\n",
    "best_features = {}\n",
    "for i in range(nglr.coef_.shape[0]):\n",
    "    print('Top {} features for class `{}`:'.format(f, ngtrain.target_names[i]))\n",
    "    _features = common_features[np.argsort(nglr.coef_[i])[::-1][:f]]\n",
    "    best_features.update({ngtrain.target_names[i]: _features})\n",
    "    print(_features)\n",
    "    print('--'*15)"
   ]
  },
  {
   "cell_type": "markdown",
   "metadata": {},
   "source": [
    "## Decision Tree Classifier"
   ]
  },
  {
   "cell_type": "code",
   "execution_count": 42,
   "metadata": {
    "ExecuteTime": {
     "end_time": "2018-03-11T06:06:31.725162Z",
     "start_time": "2018-03-11T06:06:15.005392Z"
    }
   },
   "outputs": [
    {
     "name": "stdout",
     "output_type": "stream",
     "text": [
      "Accuracy:  0.57063197026\n",
      "Top 30 features using DTC\n",
      "['clipper' 'dod' 'sale' 'windows' 'hockey' 'god' 'space' 'israel' 'car'\n",
      " 'gun' 'baseball' 'turkish' 'bike' 'mac' 'graphics' 'window' 'nhl'\n",
      " 'rutgers' 'geb' 'atheists' 'encryption' 'motif' 'article' 'orbit'\n",
      " 'controller' 'team' 'nntp' 'com' 'edu' 'apple']\n"
     ]
    }
   ],
   "source": [
    "ngdt = runDTC(ngtrain_vectors, ngtrain.target, ngtest_vectors, ngtest.target, common_features)"
   ]
  },
  {
   "cell_type": "markdown",
   "metadata": {},
   "source": [
    "# MNIST"
   ]
  },
  {
   "cell_type": "code",
   "execution_count": 61,
   "metadata": {
    "ExecuteTime": {
     "end_time": "2018-03-11T15:01:55.206376Z",
     "start_time": "2018-03-11T15:01:55.115890Z"
    }
   },
   "outputs": [],
   "source": [
    "mnist = fetch_mldata('MNIST original', data_home='../Data')\n",
    "mxtrain, mxtest, mytrain, mytest = train_test_split(mnist.data, mnist.target, test_size=0.33, random_state=42)"
   ]
  },
  {
   "cell_type": "markdown",
   "metadata": {},
   "source": [
    "## Logistic Regression"
   ]
  },
  {
   "cell_type": "code",
   "execution_count": 64,
   "metadata": {
    "ExecuteTime": {
     "end_time": "2018-03-11T16:01:58.826731Z",
     "start_time": "2018-03-11T15:02:24.690946Z"
    }
   },
   "outputs": [
    {
     "name": "stdout",
     "output_type": "stream",
     "text": [
      "Accuracy:  0.915714285714\n"
     ]
    }
   ],
   "source": [
    "mnlr = runLR(mxtrain, mytrain, mxtest, mytest)"
   ]
  },
  {
   "cell_type": "code",
   "execution_count": 66,
   "metadata": {
    "ExecuteTime": {
     "end_time": "2018-03-11T17:02:28.163706Z",
     "start_time": "2018-03-11T17:02:28.157953Z"
    }
   },
   "outputs": [
    {
     "data": {
      "text/plain": [
       "(10, 784)"
      ]
     },
     "execution_count": 66,
     "metadata": {},
     "output_type": "execute_result"
    }
   ],
   "source": [
    "mnlr.coef_.shape"
   ]
  },
  {
   "cell_type": "code",
   "execution_count": 71,
   "metadata": {
    "ExecuteTime": {
     "end_time": "2018-03-11T17:08:36.455343Z",
     "start_time": "2018-03-11T17:08:36.408014Z"
    }
   },
   "outputs": [
    {
     "name": "stdout",
     "output_type": "stream",
     "text": [
      "Top 30 features for class `0.0`:\n",
      "[224 503 614  44  89  45 226  69 676 109 668 311  87 143 172 641 118  71\n",
      " 339 586 201 639  59 717 360 711 694 591 257 370]\n",
      "------------------------------\n",
      "Top 30 features for class `1.0`:\n",
      "[641 359 307 312 256 472 697 693 418 416 281 395 586 670 583 174 143  67\n",
      " 396 453 114 276 342 120 531 203 258 535 446 698]\n",
      "------------------------------\n",
      "Top 30 features for class `2.0`:\n",
      "[503 391 706 137 478 505 367 198 277 423 696  80 418 340 221  79 422  34\n",
      "  33 333 165 614 390 396 143 474 313 585 562  14]\n",
      "------------------------------\n",
      "Top 30 features for class `3.0`:\n",
      "[702 197  89 446 361 449 393 586 421 450 561 646 136 668 675 695 387 670\n",
      " 108 590 104 338 367 451 722 395 472 705 748 676]\n",
      "------------------------------\n",
      "Top 30 features for class `4.0`:\n",
      "[478 422 393 697 475 337  90 642 281 670 446 558 723 751 109 227 583 254\n",
      " 117 613 360 311 136 556 417 107 669 119 105  68]\n",
      "------------------------------\n",
      "Top 30 features for class `5.0`:\n",
      "[ 88 390 394 361 362 392 724 734  91 416 332 641 170 422 587 143 198 304\n",
      " 333 618 749 675 395 478 704 279 339 424 556 306]\n",
      "------------------------------\n",
      "Top 30 features for class `6.0`:\n",
      "[195 167 139 110  81 171  79 614  47  35  87  40 642 108 452  38  48 142\n",
      " 117 692 311 564  77 450  91 199 586  49 201  64]\n",
      "------------------------------\n",
      "Top 30 features for class `7.0`:\n",
      "[778 282 225 773 530 533 366 446 365 666 775 556 197 133 703 612 750 536\n",
      " 592 722 309 423 339 171 388 764 255 448 675 120]\n",
      "------------------------------\n",
      "Top 30 features for class `8.0`:\n",
      "[451 619 363 114 417 734 750 424 395 335 107  74 704 284 736 669 118 471\n",
      " 500 307 390 332 563  94 255 339 251 397 278 479]\n",
      "------------------------------\n",
      "Top 30 features for class `9.0`:\n",
      "[702 119 725 504 752 777 478 334 732 446 620 774 751 612 585 666 562 228\n",
      " 305 640 255 695 526 721 310 283 734 676 667 677]\n",
      "------------------------------\n"
     ]
    }
   ],
   "source": [
    "f = 30\n",
    "for i in range(mnlr.coef_.shape[0]):\n",
    "    print('Top {} features for class `{}`:'.format(f, np.unique(mnist.target)[i]))\n",
    "    print(np.argsort(mnlr.coef_[i])[::-1][:f])\n",
    "    print('--'*15)"
   ]
  },
  {
   "cell_type": "markdown",
   "metadata": {},
   "source": [
    "## Decision Tree"
   ]
  },
  {
   "cell_type": "code",
   "execution_count": 45,
   "metadata": {
    "ExecuteTime": {
     "end_time": "2018-03-11T06:09:17.314502Z",
     "start_time": "2018-03-11T06:08:53.077741Z"
    }
   },
   "outputs": [
    {
     "name": "stdout",
     "output_type": "stream",
     "text": [
      "Accuracy:  0.868354978355\n",
      "Top 30 features using DTC\n",
      "[array([489, 350, 435, 347, 542, 211, 432, 270, 597, 486, 155, 354, 273,\n",
      "       550, 296, 290, 405, 656, 657, 352, 297, 596, 458, 658, 301, 380,\n",
      "       234, 404, 598, 515])]\n"
     ]
    }
   ],
   "source": [
    "mndtc = runDTC(mxtrain, mytrain, mxtest, mytest)"
   ]
  },
  {
   "cell_type": "markdown",
   "metadata": {},
   "source": [
    "# Spambase dataset"
   ]
  },
  {
   "cell_type": "code",
   "execution_count": 46,
   "metadata": {
    "ExecuteTime": {
     "end_time": "2018-03-11T06:09:25.488004Z",
     "start_time": "2018-03-11T06:09:25.329259Z"
    }
   },
   "outputs": [],
   "source": [
    "def spambasedata():\n",
    "    f = open('../Data/spambase.data')\n",
    "    target = []\n",
    "    spam_data = []    \n",
    "    for line in f.readlines():\n",
    "        target.append(int(line[-2]))\n",
    "        line = line[:-3].strip().split(',')\n",
    "        spam_data.append(list(map(float, line)))\n",
    "    target = np.array(target)\n",
    "    f.close()\n",
    "    f = open('../Data/spambase.names')\n",
    "    names = []\n",
    "    for line in f.readlines()[33:]:\n",
    "        names.append(line.strip().split(':')[0])\n",
    "    f.close()\n",
    "    return spam_data, target, names\n",
    "\n",
    "sdata, starget, snames = spambasedata()"
   ]
  },
  {
   "cell_type": "code",
   "execution_count": 47,
   "metadata": {
    "ExecuteTime": {
     "end_time": "2018-03-11T06:09:26.579825Z",
     "start_time": "2018-03-11T06:09:26.570736Z"
    }
   },
   "outputs": [],
   "source": [
    "sxtrain, sxtest, sytrain, sytest = train_test_split(sdata, starget, test_size=0.33, random_state=42)"
   ]
  },
  {
   "cell_type": "markdown",
   "metadata": {},
   "source": [
    "## Logistic Regression"
   ]
  },
  {
   "cell_type": "code",
   "execution_count": 48,
   "metadata": {
    "ExecuteTime": {
     "end_time": "2018-03-11T06:09:29.418756Z",
     "start_time": "2018-03-11T06:09:29.288449Z"
    }
   },
   "outputs": [
    {
     "name": "stdout",
     "output_type": "stream",
     "text": [
      "Accuracy:  0.930875576037\n"
     ]
    }
   ],
   "source": [
    "slr = runLR(sxtrain, sytrain, sxtest, sytest)"
   ]
  },
  {
   "cell_type": "code",
   "execution_count": 67,
   "metadata": {
    "ExecuteTime": {
     "end_time": "2018-03-11T17:05:08.415970Z",
     "start_time": "2018-03-11T17:05:08.408175Z"
    }
   },
   "outputs": [
    {
     "name": "stdout",
     "output_type": "stream",
     "text": [
      "Top 30 features:\n",
      "['char_freq_$', 'word_freq_000', 'word_freq_remove', 'word_freq_addresses', 'word_freq_order', 'char_freq_#', 'word_freq_free', 'word_freq_business', 'word_freq_technology', 'word_freq_credit', 'word_freq_3d', 'word_freq_our', 'word_freq_over', 'word_freq_internet', 'word_freq_650', 'word_freq_money', 'word_freq_your', 'word_freq_font', 'char_freq_!', 'word_freq_report', 'word_freq_415', 'word_freq_all', 'word_freq_you', 'word_freq_email', 'word_freq_mail', 'word_freq_people', 'capital_run_length_longest', 'capital_run_length_total', 'capital_run_length_average', 'word_freq_telnet']\n"
     ]
    }
   ],
   "source": [
    "f = 30\n",
    "print('Top {} features:'.format(f))\n",
    "print([snames[j] for j in np.argsort(slr.coef_[0])[::-1][:f]])"
   ]
  },
  {
   "cell_type": "markdown",
   "metadata": {},
   "source": [
    "## Decision Tree classifier"
   ]
  },
  {
   "cell_type": "code",
   "execution_count": 60,
   "metadata": {
    "ExecuteTime": {
     "end_time": "2018-03-11T15:00:58.650583Z",
     "start_time": "2018-03-11T15:00:58.528456Z"
    }
   },
   "outputs": [
    {
     "name": "stdout",
     "output_type": "stream",
     "text": [
      "Accuracy:  0.909809084924\n",
      "Top 30 features using DTC\n",
      "['char_freq_$', 'word_freq_remove', 'char_freq_!', 'word_freq_hp', 'capital_run_length_average', 'word_freq_free', 'capital_run_length_longest', 'word_freq_our', 'word_freq_you', 'word_freq_edu', 'word_freq_your', 'word_freq_george', 'word_freq_will', 'word_freq_internet', 'word_freq_85', 'word_freq_technology', 'word_freq_all', 'word_freq_order', 'word_freq_re', 'word_freq_business', 'word_freq_pm', 'capital_run_length_total', 'word_freq_hpl', 'char_freq_;', 'word_freq_money', 'char_freq_#', 'word_freq_make', 'char_freq_(', 'word_freq_receive', 'word_freq_mail']\n"
     ]
    }
   ],
   "source": [
    "sdt = runDTC(sxtrain, sytrain, sxtest, sytest, snames)"
   ]
  },
  {
   "cell_type": "code",
   "execution_count": null,
   "metadata": {},
   "outputs": [],
   "source": []
  }
 ],
 "metadata": {
  "kernelspec": {
   "display_name": "Python 3",
   "language": "python",
   "name": "python3"
  },
  "language_info": {
   "codemirror_mode": {
    "name": "ipython",
    "version": 3
   },
   "file_extension": ".py",
   "mimetype": "text/x-python",
   "name": "python",
   "nbconvert_exporter": "python",
   "pygments_lexer": "ipython3",
   "version": "3.6.4"
  },
  "toc": {
   "nav_menu": {},
   "number_sections": true,
   "sideBar": true,
   "skip_h1_title": false,
   "toc_cell": false,
   "toc_position": {},
   "toc_section_display": "block",
   "toc_window_display": false
  },
  "varInspector": {
   "cols": {
    "lenName": 16,
    "lenType": 16,
    "lenVar": 40
   },
   "kernels_config": {
    "python": {
     "delete_cmd_postfix": "",
     "delete_cmd_prefix": "del ",
     "library": "var_list.py",
     "varRefreshCmd": "print(var_dic_list())"
    },
    "r": {
     "delete_cmd_postfix": ") ",
     "delete_cmd_prefix": "rm(",
     "library": "var_list.r",
     "varRefreshCmd": "cat(var_dic_list()) "
    }
   },
   "types_to_exclude": [
    "module",
    "function",
    "builtin_function_or_method",
    "instance",
    "_Feature"
   ],
   "window_display": false
  }
 },
 "nbformat": 4,
 "nbformat_minor": 2
}
