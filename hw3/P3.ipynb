{
 "cells": [
  {
   "cell_type": "code",
   "execution_count": 35,
   "metadata": {
    "ExecuteTime": {
     "end_time": "2018-03-11T16:43:18.439348Z",
     "start_time": "2018-03-11T16:43:18.421869Z"
    }
   },
   "outputs": [],
   "source": [
    "import numpy as np\n",
    "\n",
    "from copy import deepcopy\n",
    "\n",
    "from matplotlib import pyplot as plt\n",
    "\n",
    "from sklearn.datasets import fetch_mldata\n",
    "from sklearn.model_selection import train_test_split\n",
    "\n",
    "from sklearn.preprocessing import StandardScaler\n",
    "from sklearn.covariance import EmpiricalCovariance\n",
    "\n",
    "from sklearn.linear_model import LogisticRegression\n",
    "from sklearn.tree import DecisionTreeClassifier\n",
    "from sklearn.decomposition import PCA"
   ]
  },
  {
   "cell_type": "code",
   "execution_count": 4,
   "metadata": {
    "ExecuteTime": {
     "end_time": "2018-03-11T16:08:51.520874Z",
     "start_time": "2018-03-11T16:08:51.482356Z"
    }
   },
   "outputs": [],
   "source": [
    "def pca_vs_lr_dtc(xtrain, ytrain, xtest, ytest, d, pca_cls=PCA, dump_out=True):\n",
    "    pca = pca_cls(n_components=d)\n",
    "    xptrain = pca.fit_transform(xtrain)\n",
    "    xptest = pca.transform(xtest)\n",
    "    # LR accuracy\n",
    "    lr = LogisticRegression()\n",
    "    lr.fit(xptrain, ytrain)\n",
    "    lrscore = lr.score(xptest, ytest)\n",
    "    # DTC accuracy\n",
    "    dtc = DecisionTreeClassifier()\n",
    "    dtc.fit(xptrain, ytrain)\n",
    "    dtcscore = dtc.score(xptest, ytest)\n",
    "    if dump_out:\n",
    "        print('D = {}'.format(d))\n",
    "        print('LR accuracy: {}'.format(lrscore))\n",
    "        print('DTC accuracy: {}'.format(dtcscore))\n",
    "    else:\n",
    "        return lrscore, dtcscore"
   ]
  },
  {
   "cell_type": "code",
   "execution_count": 55,
   "metadata": {
    "ExecuteTime": {
     "end_time": "2018-03-11T16:59:39.273515Z",
     "start_time": "2018-03-11T16:59:39.180344Z"
    }
   },
   "outputs": [],
   "source": [
    "class PCAImpl:\n",
    "    \n",
    "    def __init__(self, n_components):\n",
    "        self.n_components = n_components\n",
    "        \n",
    "    def scale_data(self, X):\n",
    "        x = deepcopy(X)\n",
    "        x = x.astype('float64')\n",
    "        _stdscaler = StandardScaler()\n",
    "        x = _stdscaler.fit_transform(x)\n",
    "        return x\n",
    "    \n",
    "    def fit(self, X):\n",
    "        x = self.scale_data(X)\n",
    "        self.scaled_x = x\n",
    "        # compute the covariance and it's eigen values and vectors\n",
    "        empcov = EmpiricalCovariance(assume_centered=True)\n",
    "        cov = empcov.fit(x).covariance_\n",
    "        e_val, e_vec = np.linalg.eig(cov)\n",
    "        self.eigen_values = e_val\n",
    "        self.eigen_vectors = e_vec\n",
    "    \n",
    "    def transform(self, X):\n",
    "        if X is None:\n",
    "            x = self.scaled_x\n",
    "        else:\n",
    "            x = self.scale_data(X)\n",
    "        _indices = np.argsort(self.eigen_values)[::-1]\n",
    "        feature_vectors = self.eigen_vectors[:,_indices][:,:self.n_components] # column vectors\n",
    "        return np.dot(x, feature_vectors)\n",
    "    \n",
    "    def fit_transform(self, X):\n",
    "        self.fit(X)\n",
    "        return self.transform(None)\n",
    "        "
   ]
  },
  {
   "cell_type": "code",
   "execution_count": 7,
   "metadata": {
    "ExecuteTime": {
     "end_time": "2018-03-11T16:25:56.462438Z",
     "start_time": "2018-03-11T16:25:56.357446Z"
    }
   },
   "outputs": [],
   "source": [
    "mnist = fetch_mldata('MNIST original', data_home='../Data')\n",
    "mxtrain, mxtest, mytrain, mytest = train_test_split(mnist.data, mnist.target, test_size=0.33, random_state=42)"
   ]
  },
  {
   "cell_type": "code",
   "execution_count": 57,
   "metadata": {
    "ExecuteTime": {
     "end_time": "2018-03-11T17:01:27.266161Z",
     "start_time": "2018-03-11T17:01:14.394966Z"
    }
   },
   "outputs": [
    {
     "name": "stdout",
     "output_type": "stream",
     "text": [
      "Self implementation:\n",
      "D = 5\n",
      "LR accuracy: 0.6417748917748918\n",
      "DTC accuracy: 0.6708658008658008\n",
      "Scikit implementation:\n",
      "D = 5\n",
      "LR accuracy: 0.6483116883116883\n",
      "DTC accuracy: 0.6606060606060606\n"
     ]
    }
   ],
   "source": [
    "print('Self implementation:')\n",
    "pca_vs_lr_dtc(mxtrain, mytrain, mxtest, mytest, 5, pca_cls=PCAImpl)\n",
    "print('Scikit implementation:')\n",
    "pca_vs_lr_dtc(mxtrain, mytrain, mxtest, mytest, 5, pca_cls=PCA)"
   ]
  },
  {
   "cell_type": "code",
   "execution_count": 58,
   "metadata": {
    "ExecuteTime": {
     "end_time": "2018-03-11T17:02:50.270186Z",
     "start_time": "2018-03-11T17:01:37.890586Z"
    }
   },
   "outputs": [
    {
     "name": "stdout",
     "output_type": "stream",
     "text": [
      "Self implementation:\n",
      "D = 20\n",
      "LR accuracy: 0.8511255411255412\n",
      "DTC accuracy: 0.8344155844155844\n",
      "Scikit implementation:\n",
      "D = 20\n",
      "LR accuracy: 0.8631168831168832\n",
      "DTC accuracy: 0.842987012987013\n"
     ]
    }
   ],
   "source": [
    "print('Self implementation:')\n",
    "pca_vs_lr_dtc(mxtrain, mytrain, mxtest, mytest, 20, pca_cls=PCAImpl)\n",
    "print('Scikit implementation:')\n",
    "pca_vs_lr_dtc(mxtrain, mytrain, mxtest, mytest, 20, pca_cls=PCA)"
   ]
  },
  {
   "cell_type": "code",
   "execution_count": null,
   "metadata": {},
   "outputs": [],
   "source": []
  }
 ],
 "metadata": {
  "kernelspec": {
   "display_name": "Python 3",
   "language": "python",
   "name": "python3"
  },
  "language_info": {
   "codemirror_mode": {
    "name": "ipython",
    "version": 3
   },
   "file_extension": ".py",
   "mimetype": "text/x-python",
   "name": "python",
   "nbconvert_exporter": "python",
   "pygments_lexer": "ipython3",
   "version": "3.6.4"
  },
  "toc": {
   "nav_menu": {},
   "number_sections": true,
   "sideBar": true,
   "skip_h1_title": false,
   "toc_cell": false,
   "toc_position": {},
   "toc_section_display": "block",
   "toc_window_display": false
  },
  "varInspector": {
   "cols": {
    "lenName": 16,
    "lenType": 16,
    "lenVar": 40
   },
   "kernels_config": {
    "python": {
     "delete_cmd_postfix": "",
     "delete_cmd_prefix": "del ",
     "library": "var_list.py",
     "varRefreshCmd": "print(var_dic_list())"
    },
    "r": {
     "delete_cmd_postfix": ") ",
     "delete_cmd_prefix": "rm(",
     "library": "var_list.r",
     "varRefreshCmd": "cat(var_dic_list()) "
    }
   },
   "types_to_exclude": [
    "module",
    "function",
    "builtin_function_or_method",
    "instance",
    "_Feature"
   ],
   "window_display": false
  }
 },
 "nbformat": 4,
 "nbformat_minor": 2
}
