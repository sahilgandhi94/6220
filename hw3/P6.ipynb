{
 "cells": [
  {
   "cell_type": "code",
   "execution_count": 11,
   "metadata": {
    "ExecuteTime": {
     "end_time": "2018-03-12T23:16:36.024486Z",
     "start_time": "2018-03-12T23:16:36.016405Z"
    }
   },
   "outputs": [],
   "source": [
    "import numpy as np\n",
    "\n",
    "from sklearn.datasets import fetch_mldata\n",
    "from sklearn.model_selection import train_test_split\n",
    "\n",
    "from sklearn.linear_model import LogisticRegression\n",
    "from sklearn.tree import DecisionTreeClassifier"
   ]
  },
  {
   "cell_type": "code",
   "execution_count": 12,
   "metadata": {
    "ExecuteTime": {
     "end_time": "2018-03-12T23:16:36.551955Z",
     "start_time": "2018-03-12T23:16:36.543576Z"
    }
   },
   "outputs": [],
   "source": [
    "def runLR(xtrain, ytrain, xtest, ytest):\n",
    "    lr = LogisticRegression()\n",
    "    lr.fit(xtrain, ytrain)\n",
    "    print('Accuracy: ', lr.score(xtest, ytest))\n",
    "    return lr"
   ]
  },
  {
   "cell_type": "code",
   "execution_count": 13,
   "metadata": {
    "ExecuteTime": {
     "end_time": "2018-03-12T23:16:39.025414Z",
     "start_time": "2018-03-12T23:16:39.015413Z"
    }
   },
   "outputs": [],
   "source": [
    "def runDTC(xtrain, ytrain, xtest, ytest, names=None, f=30):\n",
    "    dt = DecisionTreeClassifier()\n",
    "    dt.fit(xtrain, ytrain)\n",
    "    print('Accuracy: ', dt.score(xtest, ytest))\n",
    "    return dt"
   ]
  },
  {
   "cell_type": "code",
   "execution_count": 14,
   "metadata": {
    "ExecuteTime": {
     "end_time": "2018-03-12T23:16:49.960146Z",
     "start_time": "2018-03-12T23:16:49.938354Z"
    }
   },
   "outputs": [],
   "source": [
    "def generate_random_rectangles(N, LOW=0, HIGH=28):\n",
    "    points = []\n",
    "    for i in range(N):\n",
    "        # 1st point is randomly chosen\n",
    "        x1 = np.random.randint(LOW, HIGH-10)\n",
    "        y1 = np.random.randint(LOW, HIGH-10)\n",
    "        x2 = np.random.randint(x1+5, x1+10) # to make sure that the area is big enough to compute features\n",
    "        y2 = np.random.randint(y1+5, y1+10)\n",
    "        points.append((x1, y1, x2, y2))\n",
    "    return points"
   ]
  },
  {
   "cell_type": "code",
   "execution_count": 15,
   "metadata": {
    "ExecuteTime": {
     "end_time": "2018-03-12T23:16:52.464733Z",
     "start_time": "2018-03-12T23:16:52.440724Z"
    }
   },
   "outputs": [],
   "source": [
    "def compute_black_values(data, image_dim=28):\n",
    "    black = [[0 for i in range(image_dim)] for j in range(image_dim)]\n",
    "    # black computation dp\n",
    "    black[0][0] = data[0]\n",
    "    black[0][1] = data[1]\n",
    "    black[1][0] = data[28]\n",
    "    for i in range(image_dim):\n",
    "        for j in range(image_dim):\n",
    "            black[i][j] = black[i][j-1] + black[i-1][j] - black[i-1][j-1] + data[(image_dim*i) + j]\n",
    "    return black"
   ]
  },
  {
   "cell_type": "code",
   "execution_count": 16,
   "metadata": {
    "ExecuteTime": {
     "end_time": "2018-03-12T23:16:57.352534Z",
     "start_time": "2018-03-12T23:16:57.292710Z"
    }
   },
   "outputs": [],
   "source": [
    "def extract_haar_features(rectangles, data):\n",
    "    harr = [[] for i in range(data.shape[0])]\n",
    "    for j in range(data.shape[0]):\n",
    "        black = compute_black_values(data[j])\n",
    "        \n",
    "        for i in range(len(rectangles)):\n",
    "            x1, y1, x2, y2 = rectangles[i]\n",
    "            mx, my = (int((x2-x1)/2), int((y2-y1)/2))\n",
    "            \n",
    "            up_black = black[x2][y2-my] - black[x1][y2-my] - black[x2][y1] + black[x1][y1]\n",
    "            lw_black = black[x2][y2] - black[x1][y2] - black[x2][y1+my] + black[x1][y1+my]\n",
    "            rt_black = black[x2][y2] - black[x1+mx][y2] - black[x2][y1] + black[x1+mx][y1]\n",
    "            lt_black = black[x2-mx][y2] - black[x1][y2] - black[x2-mx][y1] + black[x1][y1]\n",
    "            \n",
    "            harr[j].append(up_black-lw_black)\n",
    "            harr[j].append(lt_black-rt_black)\n",
    "    return np.array(harr)"
   ]
  },
  {
   "cell_type": "code",
   "execution_count": 19,
   "metadata": {
    "ExecuteTime": {
     "end_time": "2018-03-12T23:18:56.449546Z",
     "start_time": "2018-03-12T23:17:25.576767Z"
    }
   },
   "outputs": [],
   "source": [
    "mnist = fetch_mldata('MNIST original', data_home='../Data')\n",
    "harr_data = extract_haar_features(generate_random_rectangles(100), mnist.data)"
   ]
  },
  {
   "cell_type": "code",
   "execution_count": 21,
   "metadata": {
    "ExecuteTime": {
     "end_time": "2018-03-12T23:19:04.112173Z",
     "start_time": "2018-03-12T23:19:04.005767Z"
    }
   },
   "outputs": [],
   "source": [
    "mxtrain, mxtest, mytrain, mytest = train_test_split(harr_data, mnist.target, test_size=0.33, random_state=42)"
   ]
  },
  {
   "cell_type": "code",
   "execution_count": 22,
   "metadata": {
    "ExecuteTime": {
     "end_time": "2018-03-12T23:19:05.385203Z",
     "start_time": "2018-03-12T23:19:05.378887Z"
    }
   },
   "outputs": [
    {
     "data": {
      "text/plain": [
       "(70000, 200)"
      ]
     },
     "execution_count": 22,
     "metadata": {},
     "output_type": "execute_result"
    }
   ],
   "source": [
    "harr_data.shape"
   ]
  },
  {
   "cell_type": "code",
   "execution_count": 26,
   "metadata": {
    "ExecuteTime": {
     "end_time": "2018-03-13T03:34:46.430809Z",
     "start_time": "2018-03-13T03:34:46.425334Z"
    }
   },
   "outputs": [
    {
     "name": "stdout",
     "output_type": "stream",
     "text": [
      "(46900, 200) (46900,) (23100, 200) (23100,)\n"
     ]
    }
   ],
   "source": [
    "print(mxtrain.shape, mytrain.shape, mxtest.shape, mytest.shape)"
   ]
  },
  {
   "cell_type": "code",
   "execution_count": 27,
   "metadata": {
    "ExecuteTime": {
     "end_time": "2018-03-13T03:50:10.015922Z",
     "start_time": "2018-03-13T03:34:48.703416Z"
    }
   },
   "outputs": [
    {
     "name": "stdout",
     "output_type": "stream",
     "text": [
      "Accuracy:  0.912943722943723\n"
     ]
    },
    {
     "data": {
      "text/plain": [
       "LogisticRegression(C=1.0, class_weight=None, dual=False, fit_intercept=True,\n",
       "          intercept_scaling=1, max_iter=100, multi_class='ovr', n_jobs=1,\n",
       "          penalty='l2', random_state=None, solver='liblinear', tol=0.0001,\n",
       "          verbose=0, warm_start=False)"
      ]
     },
     "execution_count": 27,
     "metadata": {},
     "output_type": "execute_result"
    }
   ],
   "source": [
    "runLR(mxtrain, mytrain, mxtest, mytest)"
   ]
  },
  {
   "cell_type": "code",
   "execution_count": 28,
   "metadata": {
    "ExecuteTime": {
     "end_time": "2018-03-13T03:50:41.843339Z",
     "start_time": "2018-03-13T03:50:10.033968Z"
    }
   },
   "outputs": [
    {
     "name": "stdout",
     "output_type": "stream",
     "text": [
      "Accuracy:  0.8874891774891774\n"
     ]
    },
    {
     "data": {
      "text/plain": [
       "DecisionTreeClassifier(class_weight=None, criterion='gini', max_depth=None,\n",
       "            max_features=None, max_leaf_nodes=None,\n",
       "            min_impurity_decrease=0.0, min_impurity_split=None,\n",
       "            min_samples_leaf=1, min_samples_split=2,\n",
       "            min_weight_fraction_leaf=0.0, presort=False, random_state=None,\n",
       "            splitter='best')"
      ]
     },
     "execution_count": 28,
     "metadata": {},
     "output_type": "execute_result"
    }
   ],
   "source": [
    "runDTC(mxtrain, mytrain, mxtest, mytest)"
   ]
  },
  {
   "cell_type": "code",
   "execution_count": null,
   "metadata": {},
   "outputs": [],
   "source": []
  }
 ],
 "metadata": {
  "kernelspec": {
   "display_name": "Python 3",
   "language": "python",
   "name": "python3"
  },
  "language_info": {
   "codemirror_mode": {
    "name": "ipython",
    "version": 3
   },
   "file_extension": ".py",
   "mimetype": "text/x-python",
   "name": "python",
   "nbconvert_exporter": "python",
   "pygments_lexer": "ipython3",
   "version": "3.6.4"
  },
  "toc": {
   "nav_menu": {},
   "number_sections": true,
   "sideBar": true,
   "skip_h1_title": false,
   "toc_cell": false,
   "toc_position": {},
   "toc_section_display": "block",
   "toc_window_display": false
  },
  "varInspector": {
   "cols": {
    "lenName": 16,
    "lenType": 16,
    "lenVar": 40
   },
   "kernels_config": {
    "python": {
     "delete_cmd_postfix": "",
     "delete_cmd_prefix": "del ",
     "library": "var_list.py",
     "varRefreshCmd": "print(var_dic_list())"
    },
    "r": {
     "delete_cmd_postfix": ") ",
     "delete_cmd_prefix": "rm(",
     "library": "var_list.r",
     "varRefreshCmd": "cat(var_dic_list()) "
    }
   },
   "types_to_exclude": [
    "module",
    "function",
    "builtin_function_or_method",
    "instance",
    "_Feature"
   ],
   "window_display": false
  }
 },
 "nbformat": 4,
 "nbformat_minor": 2
}
