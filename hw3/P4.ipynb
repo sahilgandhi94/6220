{
 "cells": [
  {
   "cell_type": "code",
   "execution_count": 10,
   "metadata": {
    "ExecuteTime": {
     "end_time": "2018-03-12T02:31:58.936475Z",
     "start_time": "2018-03-12T02:31:58.917618Z"
    }
   },
   "outputs": [],
   "source": [
    "import numpy as np\n",
    "\n",
    "from sklearn.datasets import fetch_20newsgroups\n",
    "from sklearn.datasets import fetch_mldata\n",
    "from sklearn.model_selection import train_test_split\n",
    "\n",
    "from sklearn.linear_model import LogisticRegression\n",
    "from sklearn.tree import DecisionTreeClassifier\n",
    "\n",
    "from sklearn.feature_extraction.text import TfidfVectorizer\n",
    "\n",
    "from sklearn.feature_selection import SelectKBest\n",
    "from sklearn.feature_selection import chi2\n",
    "from sklearn.feature_selection import mutual_info_classif"
   ]
  },
  {
   "cell_type": "code",
   "execution_count": 2,
   "metadata": {
    "ExecuteTime": {
     "end_time": "2018-03-12T02:29:15.431602Z",
     "start_time": "2018-03-12T02:29:15.423482Z"
    }
   },
   "outputs": [],
   "source": [
    "def runLR(xtrain, ytrain, xtest, ytest):\n",
    "    lr = LogisticRegression()\n",
    "    lr.fit(xtrain, ytrain)\n",
    "    print('Accuracy: ', lr.score(xtest, ytest))\n",
    "    return lr"
   ]
  },
  {
   "cell_type": "code",
   "execution_count": 8,
   "metadata": {
    "ExecuteTime": {
     "end_time": "2018-03-12T02:29:52.616388Z",
     "start_time": "2018-03-12T02:29:52.595866Z"
    }
   },
   "outputs": [],
   "source": [
    "def runDTC(xtrain, ytrain, xtest, ytest, names=None, f=30):\n",
    "    dt = DecisionTreeClassifier()\n",
    "    dt.fit(xtrain, ytrain)\n",
    "    print('Accuracy: ', dt.score(xtest, ytest))\n",
    "#     print('Top {} features using DTC'.format(f))\n",
    "#     if names is not None:\n",
    "#         if type(names) is list:\n",
    "#             print([names[z] for z in np.argsort(dt.feature_importances_)[::-1][:f]])\n",
    "#         else:\n",
    "#             print(names[np.argsort(dt.feature_importances_)[::-1][:f]])\n",
    "#     else:\n",
    "#         print([np.argsort(dt.feature_importances_)[::-1][:f]])\n",
    "    return dt"
   ]
  },
  {
   "cell_type": "code",
   "execution_count": 4,
   "metadata": {
    "ExecuteTime": {
     "end_time": "2018-03-12T02:29:27.861357Z",
     "start_time": "2018-03-12T02:29:17.881868Z"
    }
   },
   "outputs": [],
   "source": [
    "ngtrain = fetch_20newsgroups(subset='train', data_home='../Data')\n",
    "ngtest = fetch_20newsgroups(subset='test', data_home='../Data')\n",
    "\n",
    "ngtrain_vectorizer = TfidfVectorizer(stop_words='english', strip_accents='ascii')\n",
    "_ngtrain_vectors = ngtrain_vectorizer.fit_transform(ngtrain.data)\n",
    "ngtest_vectorizer = TfidfVectorizer(stop_words='english', strip_accents='ascii')\n",
    "_ngtest_vectors = ngtest_vectorizer.fit_transform(ngtest.data)\n",
    "\n",
    "# remove features in test that are not found in train\n",
    "get_indices = lambda x, y: list(set(np.searchsorted(x, y)))\n",
    "common_features = np.intersect1d(ngtrain_vectorizer.get_feature_names(), ngtest_vectorizer.get_feature_names())\n",
    "ngtrain_vectors = _ngtrain_vectors[:, get_indices(ngtrain_vectorizer.get_feature_names(), common_features)]\n",
    "ngtest_vectors = _ngtest_vectors[:, get_indices(ngtest_vectorizer.get_feature_names(), common_features)]"
   ]
  },
  {
   "cell_type": "markdown",
   "metadata": {},
   "source": [
    "# compute top features using chi2"
   ]
  },
  {
   "cell_type": "code",
   "execution_count": 5,
   "metadata": {
    "ExecuteTime": {
     "end_time": "2018-03-12T02:29:30.663837Z",
     "start_time": "2018-03-12T02:29:30.478088Z"
    }
   },
   "outputs": [],
   "source": [
    "select_best = SelectKBest(chi2, k=200)\n",
    "Xchi_train = select_best.fit_transform(ngtrain_vectors, ngtrain.target)\n",
    "Xchi_test = select_best.transform(ngtest_vectors)"
   ]
  },
  {
   "cell_type": "code",
   "execution_count": 7,
   "metadata": {
    "ExecuteTime": {
     "end_time": "2018-03-12T02:29:39.164698Z",
     "start_time": "2018-03-12T02:29:38.488868Z"
    }
   },
   "outputs": [
    {
     "name": "stdout",
     "output_type": "stream",
     "text": [
      "Accuracy:  0.611391396707\n"
     ]
    },
    {
     "data": {
      "text/plain": [
       "LogisticRegression(C=1.0, class_weight=None, dual=False, fit_intercept=True,\n",
       "          intercept_scaling=1, max_iter=100, multi_class='ovr', n_jobs=1,\n",
       "          penalty='l2', random_state=None, solver='liblinear', tol=0.0001,\n",
       "          verbose=0, warm_start=False)"
      ]
     },
     "execution_count": 7,
     "metadata": {},
     "output_type": "execute_result"
    }
   ],
   "source": [
    "runLR(Xchi_train, ngtrain.target, Xchi_test, ngtest.target)"
   ]
  },
  {
   "cell_type": "code",
   "execution_count": 9,
   "metadata": {
    "ExecuteTime": {
     "end_time": "2018-03-12T02:30:05.890451Z",
     "start_time": "2018-03-12T02:30:05.500060Z"
    }
   },
   "outputs": [
    {
     "name": "stdout",
     "output_type": "stream",
     "text": [
      "Accuracy:  0.544609665428\n"
     ]
    },
    {
     "data": {
      "text/plain": [
       "DecisionTreeClassifier(class_weight=None, criterion='gini', max_depth=None,\n",
       "            max_features=None, max_leaf_nodes=None,\n",
       "            min_impurity_decrease=0.0, min_impurity_split=None,\n",
       "            min_samples_leaf=1, min_samples_split=2,\n",
       "            min_weight_fraction_leaf=0.0, presort=False, random_state=None,\n",
       "            splitter='best')"
      ]
     },
     "execution_count": 9,
     "metadata": {},
     "output_type": "execute_result"
    }
   ],
   "source": [
    "runDTC(Xchi_train, ngtrain.target, Xchi_test, ngtest.target)"
   ]
  },
  {
   "cell_type": "markdown",
   "metadata": {},
   "source": [
    "# using mutual information"
   ]
  },
  {
   "cell_type": "code",
   "execution_count": 11,
   "metadata": {
    "ExecuteTime": {
     "end_time": "2018-03-12T02:35:06.510607Z",
     "start_time": "2018-03-12T02:32:35.009493Z"
    }
   },
   "outputs": [],
   "source": [
    "select_best = SelectKBest(mutual_info_classif, k=200)\n",
    "Xmi_train = select_best.fit_transform(ngtrain_vectors, ngtrain.target)\n",
    "Xmi_test = select_best.transform(ngtest_vectors)"
   ]
  },
  {
   "cell_type": "code",
   "execution_count": 12,
   "metadata": {
    "ExecuteTime": {
     "end_time": "2018-03-12T02:35:08.756839Z",
     "start_time": "2018-03-12T02:35:07.346932Z"
    }
   },
   "outputs": [
    {
     "name": "stdout",
     "output_type": "stream",
     "text": [
      "Accuracy:  0.336298459904\n"
     ]
    },
    {
     "data": {
      "text/plain": [
       "LogisticRegression(C=1.0, class_weight=None, dual=False, fit_intercept=True,\n",
       "          intercept_scaling=1, max_iter=100, multi_class='ovr', n_jobs=1,\n",
       "          penalty='l2', random_state=None, solver='liblinear', tol=0.0001,\n",
       "          verbose=0, warm_start=False)"
      ]
     },
     "execution_count": 12,
     "metadata": {},
     "output_type": "execute_result"
    }
   ],
   "source": [
    "runLR(Xmi_train, ngtrain.target, Xmi_test, ngtest.target)"
   ]
  },
  {
   "cell_type": "code",
   "execution_count": 13,
   "metadata": {
    "ExecuteTime": {
     "end_time": "2018-03-12T02:35:12.951206Z",
     "start_time": "2018-03-12T02:35:09.577624Z"
    }
   },
   "outputs": [
    {
     "name": "stdout",
     "output_type": "stream",
     "text": [
      "Accuracy:  0.230350504514\n"
     ]
    },
    {
     "data": {
      "text/plain": [
       "DecisionTreeClassifier(class_weight=None, criterion='gini', max_depth=None,\n",
       "            max_features=None, max_leaf_nodes=None,\n",
       "            min_impurity_decrease=0.0, min_impurity_split=None,\n",
       "            min_samples_leaf=1, min_samples_split=2,\n",
       "            min_weight_fraction_leaf=0.0, presort=False, random_state=None,\n",
       "            splitter='best')"
      ]
     },
     "execution_count": 13,
     "metadata": {},
     "output_type": "execute_result"
    }
   ],
   "source": [
    "runDTC(Xmi_train, ngtrain.target, Xmi_test, ngtest.target)"
   ]
  }
 ],
 "metadata": {
  "kernelspec": {
   "display_name": "Python 3",
   "language": "python",
   "name": "python3"
  },
  "language_info": {
   "codemirror_mode": {
    "name": "ipython",
    "version": 3
   },
   "file_extension": ".py",
   "mimetype": "text/x-python",
   "name": "python",
   "nbconvert_exporter": "python",
   "pygments_lexer": "ipython3",
   "version": "3.6.4"
  },
  "toc": {
   "nav_menu": {},
   "number_sections": true,
   "sideBar": true,
   "skip_h1_title": false,
   "toc_cell": false,
   "toc_position": {},
   "toc_section_display": "block",
   "toc_window_display": false
  },
  "varInspector": {
   "cols": {
    "lenName": 16,
    "lenType": 16,
    "lenVar": 40
   },
   "kernels_config": {
    "python": {
     "delete_cmd_postfix": "",
     "delete_cmd_prefix": "del ",
     "library": "var_list.py",
     "varRefreshCmd": "print(var_dic_list())"
    },
    "r": {
     "delete_cmd_postfix": ") ",
     "delete_cmd_prefix": "rm(",
     "library": "var_list.r",
     "varRefreshCmd": "cat(var_dic_list()) "
    }
   },
   "types_to_exclude": [
    "module",
    "function",
    "builtin_function_or_method",
    "instance",
    "_Feature"
   ],
   "window_display": false
  }
 },
 "nbformat": 4,
 "nbformat_minor": 2
}
