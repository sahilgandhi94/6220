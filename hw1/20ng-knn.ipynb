{
 "cells": [
  {
   "cell_type": "code",
   "execution_count": 1,
   "metadata": {
    "ExecuteTime": {
     "end_time": "2018-01-19T16:43:24.606749Z",
     "start_time": "2018-01-19T16:43:23.349647Z"
    },
    "collapsed": true
   },
   "outputs": [],
   "source": [
    "import numpy as np\n",
    "import pandas as pd\n",
    "from sklearn.datasets import fetch_20newsgroups\n",
    "from sklearn.feature_extraction.text import TfidfVectorizer, CountVectorizer\n",
    "from sklearn.metrics.pairwise import cosine_similarity, euclidean_distances"
   ]
  },
  {
   "cell_type": "code",
   "execution_count": 15,
   "metadata": {
    "ExecuteTime": {
     "end_time": "2018-01-19T16:49:09.962835Z",
     "start_time": "2018-01-19T16:49:09.488153Z"
    },
    "collapsed": true
   },
   "outputs": [],
   "source": [
    "data_train = fetch_20newsgroups(subset='train')\n",
    "data_test = fetch_20newsgroups(subset='test')"
   ]
  },
  {
   "cell_type": "code",
   "execution_count": 16,
   "metadata": {
    "ExecuteTime": {
     "end_time": "2018-01-19T16:49:13.652009Z",
     "start_time": "2018-01-19T16:49:13.642056Z"
    },
    "collapsed": true
   },
   "outputs": [],
   "source": [
    "train_vectorizer = TfidfVectorizer(stop_words='english')\n",
    "test_vectorizer = TfidfVectorizer(stop_words='english')"
   ]
  },
  {
   "cell_type": "code",
   "execution_count": 17,
   "metadata": {
    "ExecuteTime": {
     "end_time": "2018-01-19T16:49:27.914847Z",
     "start_time": "2018-01-19T16:49:21.970246Z"
    }
   },
   "outputs": [
    {
     "name": "stdout",
     "output_type": "stream",
     "text": [
      "(11314, 129796)\n",
      "(11314,)\n",
      "(7532, 93255)\n",
      "(7532,)\n"
     ]
    }
   ],
   "source": [
    "X_train = train_vectorizer.fit_transform(data_train.data)\n",
    "train_features = train_vectorizer.get_feature_names()\n",
    "y_train = data_train.target\n",
    "X_test = test_vectorizer.fit_transform(data_test.data)\n",
    "test_features = test_vectorizer.get_feature_names()\n",
    "y_test = data_test.target\n",
    "\n",
    "print(X_train.shape)\n",
    "print(y_train.shape)\n",
    "print(X_test.shape)\n",
    "print(y_test.shape)"
   ]
  },
  {
   "cell_type": "code",
   "execution_count": 18,
   "metadata": {
    "ExecuteTime": {
     "end_time": "2018-01-19T16:50:47.383953Z",
     "start_time": "2018-01-19T16:50:46.849662Z"
    }
   },
   "outputs": [
    {
     "data": {
      "text/plain": [
       "49600"
      ]
     },
     "execution_count": 18,
     "metadata": {},
     "output_type": "execute_result"
    }
   ],
   "source": [
    "intersect_features = np.intersect1d(train_features, test_features)\n",
    "len(intersect_features)"
   ]
  },
  {
   "cell_type": "code",
   "execution_count": 19,
   "metadata": {
    "ExecuteTime": {
     "end_time": "2018-01-19T16:50:52.062696Z",
     "start_time": "2018-01-19T16:50:52.058894Z"
    },
    "collapsed": true
   },
   "outputs": [],
   "source": [
    "def get_indices(x, y):\n",
    "    ''' returns an index of elements in y for all elements in x'''\n",
    "    return list(set(np.searchsorted(y, x)))"
   ]
  },
  {
   "cell_type": "code",
   "execution_count": 20,
   "metadata": {
    "ExecuteTime": {
     "end_time": "2018-01-19T16:50:53.006048Z",
     "start_time": "2018-01-19T16:50:52.916810Z"
    },
    "collapsed": true
   },
   "outputs": [],
   "source": [
    "train_cols = get_indices(intersect_features, train_features)"
   ]
  },
  {
   "cell_type": "code",
   "execution_count": 21,
   "metadata": {
    "ExecuteTime": {
     "end_time": "2018-01-19T16:50:54.153810Z",
     "start_time": "2018-01-19T16:50:54.072621Z"
    },
    "collapsed": true
   },
   "outputs": [],
   "source": [
    "test_cols = get_indices(intersect_features, test_features)"
   ]
  },
  {
   "cell_type": "code",
   "execution_count": 41,
   "metadata": {
    "ExecuteTime": {
     "end_time": "2018-01-18T15:20:33.334214Z",
     "start_time": "2018-01-18T15:20:33.232695Z"
    }
   },
   "outputs": [
    {
     "data": {
      "text/plain": [
       "(11314, 49600)"
      ]
     },
     "execution_count": 41,
     "metadata": {},
     "output_type": "execute_result"
    }
   ],
   "source": [
    "new_X_train = X_train[:,train_cols]\n",
    "new_X_train.shape"
   ]
  },
  {
   "cell_type": "code",
   "execution_count": 42,
   "metadata": {
    "ExecuteTime": {
     "end_time": "2018-01-18T15:20:33.788996Z",
     "start_time": "2018-01-18T15:20:33.728296Z"
    }
   },
   "outputs": [
    {
     "data": {
      "text/plain": [
       "(7532, 49600)"
      ]
     },
     "execution_count": 42,
     "metadata": {},
     "output_type": "execute_result"
    }
   ],
   "source": [
    "new_X_test = X_test[:,test_cols]\n",
    "new_X_test.shape"
   ]
  },
  {
   "cell_type": "code",
   "execution_count": 43,
   "metadata": {
    "ExecuteTime": {
     "end_time": "2018-01-18T15:20:40.838742Z",
     "start_time": "2018-01-18T15:20:35.127742Z"
    }
   },
   "outputs": [
    {
     "data": {
      "text/plain": [
       "(11314, 7532)"
      ]
     },
     "execution_count": 43,
     "metadata": {},
     "output_type": "execute_result"
    }
   ],
   "source": [
    "cs_tt = cosine_similarity(new_X_train, new_X_test)\n",
    "cs_tt.shape"
   ]
  },
  {
   "cell_type": "code",
   "execution_count": 46,
   "metadata": {
    "ExecuteTime": {
     "end_time": "2018-01-18T15:30:19.510578Z",
     "start_time": "2018-01-18T15:30:19.502470Z"
    },
    "collapsed": true
   },
   "outputs": [],
   "source": [
    "def knn(col, k, sim_mat):\n",
    "    _vec = sim_mat[:,col].tolist()\n",
    "    _vec = sorted(enumerate(_vec), key=lambda x: x[1], reverse=True)\n",
    "    _vec_ind = [x[0] for x in _vec[:k]]\n",
    "    return _vec_ind, [y_train[x] for x in _vec_ind], y_test[col]"
   ]
  },
  {
   "cell_type": "code",
   "execution_count": 62,
   "metadata": {
    "ExecuteTime": {
     "end_time": "2018-01-18T16:33:17.473725Z",
     "start_time": "2018-01-18T16:33:17.357806Z"
    },
    "collapsed": true
   },
   "outputs": [],
   "source": [
    "from time import time\n",
    "\n",
    "test4k = [[2,\n",
    "  4,\n",
    "  6,\n",
    "  8,\n",
    "  10,\n",
    "  12,\n",
    "  14,\n",
    "  16,\n",
    "  18,\n",
    "  20,\n",
    "  22,\n",
    "  24,\n",
    "  26,\n",
    "  28,\n",
    "  30,\n",
    "  32,\n",
    "  34,\n",
    "  36,\n",
    "  38,\n",
    "  40,\n",
    "  42,\n",
    "  44,\n",
    "  46,\n",
    "  48,\n",
    "  50,\n",
    "  52,\n",
    "  54,\n",
    "  56,\n",
    "  58,\n",
    "  60,\n",
    "  62,\n",
    "  64,\n",
    "  66,\n",
    "  68],\n",
    " [0.6336962294211365,\n",
    "  0.6617100371747212,\n",
    "  0.671003717472119,\n",
    "  0.6731279872543813,\n",
    "  0.6769782262347318,\n",
    "  0.6789697291556027,\n",
    "  0.6830855018587361,\n",
    "  0.6845459373340415,\n",
    "  0.6853425385023898,\n",
    "  0.6887944768985661,\n",
    "  0.6898566117896973,\n",
    "  0.6906532129580457,\n",
    "  0.6915825809877855,\n",
    "  0.694768985661179,\n",
    "  0.6960966542750929,\n",
    "  0.6963621879978757,\n",
    "  0.6962294211364843,\n",
    "  0.6968932554434413,\n",
    "  0.6999468932554435,\n",
    "  0.6991502920870951,\n",
    "  0.7002124269782263,\n",
    "  0.7006107275624004,\n",
    "  0.699814126394052,\n",
    "  0.6999468932554435,\n",
    "  0.7002124269782263,\n",
    "  0.701805629314923,\n",
    "  0.7033988316516198,\n",
    "  0.7048592671269251,\n",
    "  0.7057886351566649,\n",
    "  0.70817843866171,\n",
    "  0.7087095061072757,\n",
    "  0.7117631439192778,\n",
    "  0.7093733404142326,\n",
    "  0.7105682421667552]]\n",
    "\n",
    "# for k in range(50, 70, 2):\n",
    "#     scount = 0\n",
    "#     tcount = 0\n",
    "#     t0 = time()\n",
    "#     for c in range(cs_tt.shape[1]):\n",
    "#         ind, pvals, y = knn(c, k, cs_tt)\n",
    "#         pval = max(set(pvals), key=pvals.count)\n",
    "#         tcount += 1\n",
    "#         if pval == y:\n",
    "#             scount += 1\n",
    "#     test4k[0].append(k)\n",
    "#     test4k[1].append(scount/tcount)\n",
    "#     print('k: {}'.format(k))\n",
    "#     print('Match count: {}'.format(scount))\n",
    "#     print('Total count: {}'.format(tcount))\n",
    "#     print('Accuracy: {}'.format(scount/tcount))\n",
    "#     print('Time taken for this run: {}s'.format(time()-t0))\n",
    "#     print('-'*10)"
   ]
  },
  {
   "cell_type": "code",
   "execution_count": 59,
   "metadata": {
    "ExecuteTime": {
     "end_time": "2018-01-18T16:31:20.530500Z",
     "start_time": "2018-01-18T16:31:20.519949Z"
    }
   },
   "outputs": [
    {
     "data": {
      "text/plain": [
       "[[2,\n",
       "  4,\n",
       "  6,\n",
       "  8,\n",
       "  10,\n",
       "  12,\n",
       "  14,\n",
       "  16,\n",
       "  18,\n",
       "  20,\n",
       "  22,\n",
       "  24,\n",
       "  26,\n",
       "  28,\n",
       "  30,\n",
       "  32,\n",
       "  34,\n",
       "  36,\n",
       "  38,\n",
       "  40,\n",
       "  42,\n",
       "  44,\n",
       "  46,\n",
       "  48,\n",
       "  50,\n",
       "  52,\n",
       "  54,\n",
       "  56,\n",
       "  58,\n",
       "  60,\n",
       "  62,\n",
       "  64,\n",
       "  66,\n",
       "  68],\n",
       " [0.6336962294211365,\n",
       "  0.6617100371747212,\n",
       "  0.671003717472119,\n",
       "  0.6731279872543813,\n",
       "  0.6769782262347318,\n",
       "  0.6789697291556027,\n",
       "  0.6830855018587361,\n",
       "  0.6845459373340415,\n",
       "  0.6853425385023898,\n",
       "  0.6887944768985661,\n",
       "  0.6898566117896973,\n",
       "  0.6906532129580457,\n",
       "  0.6915825809877855,\n",
       "  0.694768985661179,\n",
       "  0.6960966542750929,\n",
       "  0.6963621879978757,\n",
       "  0.6962294211364843,\n",
       "  0.6968932554434413,\n",
       "  0.6999468932554435,\n",
       "  0.6991502920870951,\n",
       "  0.7002124269782263,\n",
       "  0.7006107275624004,\n",
       "  0.699814126394052,\n",
       "  0.6999468932554435,\n",
       "  0.7002124269782263,\n",
       "  0.701805629314923,\n",
       "  0.7033988316516198,\n",
       "  0.7048592671269251,\n",
       "  0.7057886351566649,\n",
       "  0.70817843866171,\n",
       "  0.7087095061072757,\n",
       "  0.7117631439192778,\n",
       "  0.7093733404142326,\n",
       "  0.7105682421667552]]"
      ]
     },
     "execution_count": 59,
     "metadata": {},
     "output_type": "execute_result"
    }
   ],
   "source": [
    "test4k"
   ]
  },
  {
   "cell_type": "code",
   "execution_count": 63,
   "metadata": {
    "ExecuteTime": {
     "end_time": "2018-01-18T16:33:21.459858Z",
     "start_time": "2018-01-18T16:33:21.301928Z"
    }
   },
   "outputs": [
    {
     "data": {
      "image/png": "[encoded data removed]",
      "text/plain": [
       "<matplotlib.figure.Figure at 0x1a15ac5828>"
      ]
     },
     "metadata": {},
     "output_type": "display_data"
    }
   ],
   "source": [
    "import matplotlib.pyplot as plt\n",
    "\n",
    "plt.plot(test4k[0], test4k[1])\n",
    "plt.show()"
   ]
  },
  {
   "cell_type": "code",
   "execution_count": 296,
   "metadata": {
    "ExecuteTime": {
     "end_time": "2018-01-18T03:25:27.841030Z",
     "start_time": "2018-01-18T03:25:27.788960Z"
    }
   },
   "outputs": [
    {
     "name": "stdout",
     "output_type": "stream",
     "text": [
      "[10]\n",
      "[[ 0.   0.   0.   0.   0.   0.2  0.   0.   0.   0.   0.4  0.   0.   0.   0.\n",
      "   0.   0.   0.2  0.2  0. ]]\n"
     ]
    }
   ],
   "source": [
    "from sklearn.neighbors import KNeighborsClassifier\n",
    "\n",
    "neigh = KNeighborsClassifier()\n",
    "neigh.fit(new_X_train, y_train)\n",
    "\n",
    "_vec = new_X_test[0]\n",
    "print(neigh.predict(_vec))\n",
    "print(neigh.predict_proba(_vec))"
   ]
  },
  {
   "cell_type": "code",
   "execution_count": null,
   "metadata": {
    "collapsed": true
   },
   "outputs": [],
   "source": []
  }
 ],
 "metadata": {
  "kernelspec": {
   "display_name": "Python 3",
   "language": "python",
   "name": "python3"
  },
  "language_info": {
   "codemirror_mode": {
    "name": "ipython",
    "version": 3
   },
   "file_extension": ".py",
   "mimetype": "text/x-python",
   "name": "python",
   "nbconvert_exporter": "python",
   "pygments_lexer": "ipython3",
   "version": "3.6.4"
  }
 },
 "nbformat": 4,
 "nbformat_minor": 2
}
