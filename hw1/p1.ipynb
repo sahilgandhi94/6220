{
 "cells": [
  {
   "cell_type": "code",
   "execution_count": 1,
   "metadata": {
    "ExecuteTime": {
     "end_time": "2018-01-24T15:11:50.680141Z",
     "start_time": "2018-01-24T15:11:48.214270Z"
    }
   },
   "outputs": [],
   "source": [
    "import matplotlib.pyplot as plt\n",
    "import numpy as np\n",
    "import pandas as pd\n",
    "import time\n",
    "\n",
    "from collections import defaultdict\n",
    "from copy import deepcopy\n",
    "\n",
    "# constants\n",
    "# DATA_LOC = \"/home/ubuntu/projects/datasets/AP_train.txt\"\n",
    "DATA_LOC = \"Aminer/AP_train.txt\"\n",
    "\n",
    "# data formats\n",
    "FORMAT_ID = \"#index\"\n",
    "FORMAT_PAPER_TITLE = \"#*\"\n",
    "FORMAT_AUTHORS = \"#@\"\n",
    "FORMAT_YEAR = \"#t\"\n",
    "FORMAT_VENUE = \"#c\"\n",
    "FORMAT_REFERENCES = \"#%\"\n",
    "FORMAT_ABSTRACT = \"#!\"\n",
    "\n",
    "# data keys\n",
    "ID = \"id\"\n",
    "TITLE = \"title\"\n",
    "AUTHOR = \"author\"\n",
    "YEAR = \"year\"\n",
    "VENUE = \"venue\"\n",
    "REFERENCE = \"reference\"\n",
    "ABSTRACT = \"abstract\""
   ]
  },
  {
   "cell_type": "code",
   "execution_count": 2,
   "metadata": {
    "ExecuteTime": {
     "end_time": "2018-01-24T15:12:41.026880Z",
     "start_time": "2018-01-24T15:11:51.496276Z"
    },
    "scrolled": true
   },
   "outputs": [],
   "source": [
    "def generatetables():\n",
    "    main_table = list()\n",
    "    author_table = list()\n",
    "    reference_table = list()\n",
    "    datum = dict()\n",
    "    with open(DATA_LOC, \"r\", encoding='utf-8') as file:\n",
    "        for line in file.readlines():            \n",
    "            if FORMAT_ID in line:\n",
    "                # yield already existing datum and continue\n",
    "                if len(datum.keys()) > 0:\n",
    "                    main_table.append(datum)\n",
    "                datum = dict() # re-initialize local datum\n",
    "                datum[ID] = line.strip(FORMAT_ID).strip()\n",
    "            elif FORMAT_PAPER_TITLE in line[:10]:\n",
    "                datum[TITLE] = line.strip(FORMAT_PAPER_TITLE).strip()\n",
    "            elif FORMAT_REFERENCES in line[:10]:\n",
    "                reference_table.append({ID: datum[ID], REFERENCE: line.strip(FORMAT_REFERENCES).strip()})\n",
    "            elif FORMAT_AUTHORS in line[:10]: \n",
    "                for author in line.strip(FORMAT_AUTHORS).strip().split(';'):\n",
    "                    author_table.append({ID: datum[ID], AUTHOR: author.strip()})                    \n",
    "            elif FORMAT_YEAR in line[:10]: \n",
    "                datum[YEAR] = line.strip(FORMAT_YEAR).strip()\n",
    "            elif FORMAT_VENUE in line[:10]: \n",
    "                datum[VENUE] = line.strip(FORMAT_VENUE).strip()\n",
    "            elif FORMAT_ABSTRACT in line[:10]: \n",
    "                datum[ABSTRACT] = line.strip(FORMAT_ABSTRACT).strip()\n",
    "    return main_table, author_table, reference_table\n",
    "\n",
    "# generate all tables\n",
    "main, author, cit = generatetables()\n"
   ]
  },
  {
   "cell_type": "code",
   "execution_count": 3,
   "metadata": {
    "ExecuteTime": {
     "end_time": "2018-01-24T15:13:50.983764Z",
     "start_time": "2018-01-24T15:13:33.577232Z"
    }
   },
   "outputs": [
    {
     "name": "stdout",
     "output_type": "stream",
     "text": [
      "\n",
      "Length of Main DF: 1976814\n",
      "\n",
      "Length of Author DF: 4909848\n",
      "\n",
      "Length of References DF: 7250326\n",
      "\n",
      "Length of Consolidated DF: 23565622\n",
      "\n"
     ]
    }
   ],
   "source": [
    "# combine all tables and compute data\n",
    "main_df = pd.DataFrame(main, columns={ID, TITLE, YEAR, VENUE, ABSTRACT})\n",
    "author_df = pd.DataFrame(author, columns={ID, AUTHOR})\n",
    "ref_df = pd.DataFrame(cit, columns={ID, REFERENCE})\n",
    "\n",
    "consolidated = main_df.merge(author_df, how='outer', on=ID).merge(ref_df, how='outer', on=ID)\n",
    "\n",
    "print('''\n",
    "Length of Main DF: {0}\\n\n",
    "Length of Author DF: {1}\\n\n",
    "Length of References DF: {2}\\n\n",
    "Length of Consolidated DF: {3}\n",
    "'''.format(len(main_df), len(author_df), len(ref_df), len(consolidated)))"
   ]
  },
  {
   "cell_type": "markdown",
   "metadata": {
    "ExecuteTime": {
     "end_time": "2018-01-14T18:51:42.450162Z",
     "start_time": "2018-01-14T18:51:42.444808Z"
    }
   },
   "source": [
    "### A. Compute the number of distinct authors, publication venues, publications, and citations/references"
   ]
  },
  {
   "cell_type": "code",
   "execution_count": 4,
   "metadata": {
    "ExecuteTime": {
     "end_time": "2018-01-24T15:14:50.823408Z",
     "start_time": "2018-01-24T15:14:45.486865Z"
    }
   },
   "outputs": [
    {
     "name": "stdout",
     "output_type": "stream",
     "text": [
      "\n",
      "Distinct Authors: 1478734\n",
      "\n",
      "Distinct Publication venues: 255686\n",
      "\n",
      "Distinct Publications: 1929486\n",
      "\n",
      "Distinct references: 871089\n",
      "\n"
     ]
    }
   ],
   "source": [
    "# distinct authors\n",
    "print('''\n",
    "Distinct Authors: {0}\\n\n",
    "Distinct Publication venues: {1}\\n\n",
    "Distinct Publications: {2}\\n\n",
    "Distinct references: {3}\n",
    "'''.format(\n",
    "    len(author_df.author.unique()),\n",
    "    len(main_df.venue.unique()),\n",
    "    len(main_df.title.unique()),\n",
    "    len(ref_df.reference.unique())\n",
    "))"
   ]
  },
  {
   "cell_type": "markdown",
   "metadata": {},
   "source": [
    "### B. Are these numbers likely to be accurate? As an example look up all the publications venue names associated with the conference “Principles and Practice of Knowledge Discovery in Databases”13 – what do you notice?"
   ]
  },
  {
   "cell_type": "code",
   "execution_count": 5,
   "metadata": {
    "ExecuteTime": {
     "end_time": "2018-01-24T15:15:47.796849Z",
     "start_time": "2018-01-24T15:15:45.471432Z"
    }
   },
   "outputs": [
    {
     "data": {
      "text/html": [
       "<div>\n",
       "<style scoped>\n",
       "    .dataframe tbody tr th:only-of-type {\n",
       "        vertical-align: middle;\n",
       "    }\n",
       "\n",
       "    .dataframe tbody tr th {\n",
       "        vertical-align: top;\n",
       "    }\n",
       "\n",
       "    .dataframe thead th {\n",
       "        text-align: right;\n",
       "    }\n",
       "</style>\n",
       "<table border=\"1\" class=\"dataframe\">\n",
       "  <thead>\n",
       "    <tr style=\"text-align: right;\">\n",
       "      <th></th>\n",
       "      <th>title</th>\n",
       "      <th>venue</th>\n",
       "      <th>id</th>\n",
       "      <th>year</th>\n",
       "      <th>abstract</th>\n",
       "    </tr>\n",
       "  </thead>\n",
       "  <tbody>\n",
       "    <tr>\n",
       "      <th>799595</th>\n",
       "      <td>Summarization of dynamic content in web collec...</td>\n",
       "      <td>PKDD '04 Proceedings of the 8th European Confe...</td>\n",
       "      <td>799597</td>\n",
       "      <td>2004</td>\n",
       "      <td>This paper describes a new research proposal o...</td>\n",
       "    </tr>\n",
       "    <tr>\n",
       "      <th>799732</th>\n",
       "      <td>Proceedings of the 8th European Conference on ...</td>\n",
       "      <td>PKDD '04 Proceedings of the 8th European Confe...</td>\n",
       "      <td>799734</td>\n",
       "      <td>2004</td>\n",
       "      <td>NaN</td>\n",
       "    </tr>\n",
       "    <tr>\n",
       "      <th>799733</th>\n",
       "      <td>Random matrices in data analysis</td>\n",
       "      <td>PKDD '04 Proceedings of the 8th European Confe...</td>\n",
       "      <td>799735</td>\n",
       "      <td>2004</td>\n",
       "      <td>We show how carefully crafted random matrices ...</td>\n",
       "    </tr>\n",
       "    <tr>\n",
       "      <th>799734</th>\n",
       "      <td>Data privacy</td>\n",
       "      <td>PKDD '04 Proceedings of the 8th European Confe...</td>\n",
       "      <td>799736</td>\n",
       "      <td>2004</td>\n",
       "      <td>There is increasing need to build information ...</td>\n",
       "    </tr>\n",
       "    <tr>\n",
       "      <th>799735</th>\n",
       "      <td>Breaking through the syntax barrier: searching...</td>\n",
       "      <td>PKDD '04 Proceedings of the 8th European Confe...</td>\n",
       "      <td>799737</td>\n",
       "      <td>2004</td>\n",
       "      <td>The next wave in search technology will be dri...</td>\n",
       "    </tr>\n",
       "  </tbody>\n",
       "</table>\n",
       "</div>"
      ],
      "text/plain": [
       "                                                    title  \\\n",
       "799595  Summarization of dynamic content in web collec...   \n",
       "799732  Proceedings of the 8th European Conference on ...   \n",
       "799733                   Random matrices in data analysis   \n",
       "799734                                       Data privacy   \n",
       "799735  Breaking through the syntax barrier: searching...   \n",
       "\n",
       "                                                    venue      id  year  \\\n",
       "799595  PKDD '04 Proceedings of the 8th European Confe...  799597  2004   \n",
       "799732  PKDD '04 Proceedings of the 8th European Confe...  799734  2004   \n",
       "799733  PKDD '04 Proceedings of the 8th European Confe...  799735  2004   \n",
       "799734  PKDD '04 Proceedings of the 8th European Confe...  799736  2004   \n",
       "799735  PKDD '04 Proceedings of the 8th European Confe...  799737  2004   \n",
       "\n",
       "                                                 abstract  \n",
       "799595  This paper describes a new research proposal o...  \n",
       "799732                                                NaN  \n",
       "799733  We show how carefully crafted random matrices ...  \n",
       "799734  There is increasing need to build information ...  \n",
       "799735  The next wave in search technology will be dri...  "
      ]
     },
     "execution_count": 5,
     "metadata": {},
     "output_type": "execute_result"
    }
   ],
   "source": [
    "main_df[main_df.venue.str.contains('Principles and Practice of Knowledge Discovery in Databases')][:5]"
   ]
  },
  {
   "cell_type": "markdown",
   "metadata": {
    "ExecuteTime": {
     "end_time": "2018-01-14T19:09:54.859867Z",
     "start_time": "2018-01-14T19:09:54.855322Z"
    }
   },
   "source": [
    "No, the results are not accurate. As we can see in the results above, the strings have some form of 'year' mentioned in them. So even if the actual venue is not different, the string representation of the venue changes because of the change in the year/date."
   ]
  },
  {
   "cell_type": "markdown",
   "metadata": {},
   "source": [
    "### C. For each author, construct the list of publications. Plot a histogram of the number of publications per author (use a logarithmic scale on the y axis)"
   ]
  },
  {
   "cell_type": "code",
   "execution_count": 8,
   "metadata": {
    "ExecuteTime": {
     "end_time": "2018-01-24T15:18:57.221276Z",
     "start_time": "2018-01-24T15:18:36.989133Z"
    },
    "scrolled": true
   },
   "outputs": [],
   "source": [
    "_pubs, _authors = author_df[author_df.author != ''].sort_values([AUTHOR]).values.T"
   ]
  },
  {
   "cell_type": "code",
   "execution_count": 13,
   "metadata": {
    "ExecuteTime": {
     "end_time": "2018-01-23T19:51:19.544036Z",
     "start_time": "2018-01-23T19:51:02.114531Z"
    }
   },
   "outputs": [],
   "source": [
    "_keys, _indices = np.unique(_authors, True)"
   ]
  },
  {
   "cell_type": "code",
   "execution_count": 14,
   "metadata": {
    "ExecuteTime": {
     "end_time": "2018-01-23T20:04:39.991945Z",
     "start_time": "2018-01-23T19:52:00.154022Z"
    }
   },
   "outputs": [
    {
     "ename": "KeyboardInterrupt",
     "evalue": "",
     "output_type": "error",
     "traceback": [
      "\u001b[0;31m---------------------------------------------------------------------------\u001b[0m",
      "\u001b[0;31mKeyboardInterrupt\u001b[0m                         Traceback (most recent call last)",
      "\u001b[0;32m<ipython-input-14-a95e2374a0ae>\u001b[0m in \u001b[0;36m<module>\u001b[0;34m()\u001b[0m\n\u001b[0;32m----> 1\u001b[0;31m \u001b[0mauthor_pubs\u001b[0m \u001b[0;34m=\u001b[0m \u001b[0mpd\u001b[0m\u001b[0;34m.\u001b[0m\u001b[0mDataFrame\u001b[0m\u001b[0;34m(\u001b[0m\u001b[0;34m{\u001b[0m\u001b[0mAUTHOR\u001b[0m\u001b[0;34m:\u001b[0m \u001b[0m_keys\u001b[0m\u001b[0;34m,\u001b[0m \u001b[0;34m'publications'\u001b[0m\u001b[0;34m:\u001b[0m \u001b[0;34m[\u001b[0m\u001b[0mlist\u001b[0m\u001b[0;34m(\u001b[0m\u001b[0mx\u001b[0m\u001b[0;34m)\u001b[0m \u001b[0;32mfor\u001b[0m \u001b[0mx\u001b[0m \u001b[0;32min\u001b[0m \u001b[0mnp\u001b[0m\u001b[0;34m.\u001b[0m\u001b[0msplit\u001b[0m\u001b[0;34m(\u001b[0m\u001b[0m_pubs\u001b[0m\u001b[0;34m,\u001b[0m \u001b[0m_indices\u001b[0m\u001b[0;34m[\u001b[0m\u001b[0;36m1\u001b[0m\u001b[0;34m:\u001b[0m\u001b[0;34m]\u001b[0m\u001b[0;34m)\u001b[0m\u001b[0;34m]\u001b[0m\u001b[0;34m,\u001b[0m \u001b[0;34m'pub_count'\u001b[0m\u001b[0;34m:\u001b[0m \u001b[0;34m[\u001b[0m\u001b[0mlen\u001b[0m\u001b[0;34m(\u001b[0m\u001b[0mlist\u001b[0m\u001b[0;34m(\u001b[0m\u001b[0mx\u001b[0m\u001b[0;34m)\u001b[0m\u001b[0;34m)\u001b[0m \u001b[0;32mfor\u001b[0m \u001b[0mx\u001b[0m \u001b[0;32min\u001b[0m \u001b[0mnp\u001b[0m\u001b[0;34m.\u001b[0m\u001b[0msplit\u001b[0m\u001b[0;34m(\u001b[0m\u001b[0m_pubs\u001b[0m\u001b[0;34m,\u001b[0m \u001b[0m_indices\u001b[0m\u001b[0;34m[\u001b[0m\u001b[0;36m1\u001b[0m\u001b[0;34m:\u001b[0m\u001b[0;34m]\u001b[0m\u001b[0;34m)\u001b[0m\u001b[0;34m]\u001b[0m\u001b[0;34m}\u001b[0m\u001b[0;34m)\u001b[0m\u001b[0;34m\u001b[0m\u001b[0m\n\u001b[0m",
      "\u001b[0;32m<ipython-input-14-a95e2374a0ae>\u001b[0m in \u001b[0;36m<listcomp>\u001b[0;34m(.0)\u001b[0m\n\u001b[0;32m----> 1\u001b[0;31m \u001b[0mauthor_pubs\u001b[0m \u001b[0;34m=\u001b[0m \u001b[0mpd\u001b[0m\u001b[0;34m.\u001b[0m\u001b[0mDataFrame\u001b[0m\u001b[0;34m(\u001b[0m\u001b[0;34m{\u001b[0m\u001b[0mAUTHOR\u001b[0m\u001b[0;34m:\u001b[0m \u001b[0m_keys\u001b[0m\u001b[0;34m,\u001b[0m \u001b[0;34m'publications'\u001b[0m\u001b[0;34m:\u001b[0m \u001b[0;34m[\u001b[0m\u001b[0mlist\u001b[0m\u001b[0;34m(\u001b[0m\u001b[0mx\u001b[0m\u001b[0;34m)\u001b[0m \u001b[0;32mfor\u001b[0m \u001b[0mx\u001b[0m \u001b[0;32min\u001b[0m \u001b[0mnp\u001b[0m\u001b[0;34m.\u001b[0m\u001b[0msplit\u001b[0m\u001b[0;34m(\u001b[0m\u001b[0m_pubs\u001b[0m\u001b[0;34m,\u001b[0m \u001b[0m_indices\u001b[0m\u001b[0;34m[\u001b[0m\u001b[0;36m1\u001b[0m\u001b[0;34m:\u001b[0m\u001b[0;34m]\u001b[0m\u001b[0;34m)\u001b[0m\u001b[0;34m]\u001b[0m\u001b[0;34m,\u001b[0m \u001b[0;34m'pub_count'\u001b[0m\u001b[0;34m:\u001b[0m \u001b[0;34m[\u001b[0m\u001b[0mlen\u001b[0m\u001b[0;34m(\u001b[0m\u001b[0mlist\u001b[0m\u001b[0;34m(\u001b[0m\u001b[0mx\u001b[0m\u001b[0;34m)\u001b[0m\u001b[0;34m)\u001b[0m \u001b[0;32mfor\u001b[0m \u001b[0mx\u001b[0m \u001b[0;32min\u001b[0m \u001b[0mnp\u001b[0m\u001b[0;34m.\u001b[0m\u001b[0msplit\u001b[0m\u001b[0;34m(\u001b[0m\u001b[0m_pubs\u001b[0m\u001b[0;34m,\u001b[0m \u001b[0m_indices\u001b[0m\u001b[0;34m[\u001b[0m\u001b[0;36m1\u001b[0m\u001b[0;34m:\u001b[0m\u001b[0;34m]\u001b[0m\u001b[0;34m)\u001b[0m\u001b[0;34m]\u001b[0m\u001b[0;34m}\u001b[0m\u001b[0;34m)\u001b[0m\u001b[0;34m\u001b[0m\u001b[0m\n\u001b[0m",
      "\u001b[0;31mKeyboardInterrupt\u001b[0m: "
     ]
    }
   ],
   "source": [
    "author_pubs = pd.DataFrame({AUTHOR: _keys, 'publications': [list(x) for x in np.split(_pubs, _indices[1:])], 'pub_count': [len(list(x)) for x in np.split(_pubs, _indices[1:])]})"
   ]
  },
  {
   "cell_type": "code",
   "execution_count": 7,
   "metadata": {
    "ExecuteTime": {
     "end_time": "2018-01-19T15:25:06.983064Z",
     "start_time": "2018-01-19T15:25:06.117614Z"
    },
    "scrolled": false
   },
   "outputs": [
    {
     "data": {
      "image/png": "[encoded data removed]",
      "text/plain": [
       "<matplotlib.figure.Figure at 0x7fd6dfd92550>"
      ]
     },
     "metadata": {},
     "output_type": "display_data"
    }
   ],
   "source": [
    "plt.hist(author_pubs['pub_count'], log=True, bins=50)\n",
    "plt.xlabel('No. of Publications')\n",
    "plt.ylabel('No. of Authors')\n",
    "plt.title('No. of publications per author')\n",
    "plt.show()"
   ]
  },
  {
   "cell_type": "markdown",
   "metadata": {},
   "source": [
    "### D. Calculate the mean and standard deviation of the number of publications per author. Also calculate the Q1 (1st quartile14), Q2 (2nd quartile, or median) and Q3 (3rd quartile) values."
   ]
  },
  {
   "cell_type": "code",
   "execution_count": 8,
   "metadata": {
    "ExecuteTime": {
     "end_time": "2018-01-19T15:25:35.163949Z",
     "start_time": "2018-01-19T15:25:35.093255Z"
    }
   },
   "outputs": [
    {
     "data": {
      "text/plain": [
       "count    1.478736e+06\n",
       "mean     3.291781e+00\n",
       "std      8.871884e+00\n",
       "min      1.000000e+00\n",
       "25%      1.000000e+00\n",
       "50%      1.000000e+00\n",
       "75%      2.000000e+00\n",
       "max      1.071000e+03\n",
       "Name: pub count, dtype: float64"
      ]
     },
     "execution_count": 8,
     "metadata": {},
     "output_type": "execute_result"
    }
   ],
   "source": [
    "author_pubs['pub count'].describe()"
   ]
  },
  {
   "cell_type": "markdown",
   "metadata": {},
   "source": [
    "#### Compare the median to the mean and explain the difference between the two values based on the standard deviation and the 1st and 3rd quartiles.\n",
    "\n",
    "The vast difference between the median and the mean is because the max is very high which skews the mean, but the majority of the authors have 'no. of publications' closer to 1 (the median)."
   ]
  },
  {
   "cell_type": "markdown",
   "metadata": {},
   "source": [
    "### E. Now plot a histogram of the number of publications per venue.."
   ]
  },
  {
   "cell_type": "code",
   "execution_count": 9,
   "metadata": {
    "ExecuteTime": {
     "end_time": "2018-01-24T15:20:45.326005Z",
     "start_time": "2018-01-24T15:20:32.432998Z"
    }
   },
   "outputs": [
    {
     "data": {
      "image/png": "[encoded data removed]",
      "text/plain": [
       "<matplotlib.figure.Figure at 0x7f868e4ca9e8>"
      ]
     },
     "metadata": {},
     "output_type": "display_data"
    }
   ],
   "source": [
    "_pubs, _venues = main_df[main_df[VENUE] != ''][[ID, VENUE]].sort_values([VENUE]).values.T\n",
    "_keys, _indices = np.unique(_venues, True)\n",
    "venue_pubs = pd.DataFrame({VENUE: _keys, 'publications': [list(x) for x in np.split(_pubs, _indices[1:])], 'pub_count': [len(list(x)) for x in np.split(_pubs, _indices[1:])]})\n",
    "\n",
    "plt.hist(venue_pubs['pub_count'], log=True)\n",
    "plt.xlabel('No. of Publications')\n",
    "plt.ylabel('No. of Venues')\n",
    "plt.title('No. of publications per venue')\n",
    "plt.show()"
   ]
  },
  {
   "cell_type": "markdown",
   "metadata": {},
   "source": [
    "#### ...as well as calculate the mean, standard deviation, median, Q1, and Q3 values..."
   ]
  },
  {
   "cell_type": "code",
   "execution_count": 10,
   "metadata": {
    "ExecuteTime": {
     "end_time": "2018-01-24T15:21:34.488163Z",
     "start_time": "2018-01-24T15:21:34.468020Z"
    }
   },
   "outputs": [
    {
     "data": {
      "text/plain": [
       "count    255685.000000\n",
       "mean          7.730962\n",
       "std          83.381070\n",
       "min           1.000000\n",
       "25%           1.000000\n",
       "50%           1.000000\n",
       "75%           1.000000\n",
       "max       11227.000000\n",
       "Name: pub_count, dtype: float64"
      ]
     },
     "execution_count": 10,
     "metadata": {},
     "output_type": "execute_result"
    }
   ],
   "source": [
    "venue_pubs['pub_count'].describe()"
   ]
  },
  {
   "cell_type": "markdown",
   "metadata": {},
   "source": [
    "#### ...What is the venue with the largest number of publications in the dataset?"
   ]
  },
  {
   "cell_type": "code",
   "execution_count": 11,
   "metadata": {
    "ExecuteTime": {
     "end_time": "2018-01-24T15:22:23.846684Z",
     "start_time": "2018-01-24T15:22:23.777196Z"
    }
   },
   "outputs": [
    {
     "data": {
      "text/html": [
       "<div>\n",
       "<style scoped>\n",
       "    .dataframe tbody tr th:only-of-type {\n",
       "        vertical-align: middle;\n",
       "    }\n",
       "\n",
       "    .dataframe tbody tr th {\n",
       "        vertical-align: top;\n",
       "    }\n",
       "\n",
       "    .dataframe thead th {\n",
       "        text-align: right;\n",
       "    }\n",
       "</style>\n",
       "<table border=\"1\" class=\"dataframe\">\n",
       "  <thead>\n",
       "    <tr style=\"text-align: right;\">\n",
       "      <th></th>\n",
       "      <th>pub_count</th>\n",
       "      <th>publications</th>\n",
       "      <th>venue</th>\n",
       "    </tr>\n",
       "  </thead>\n",
       "  <tbody>\n",
       "    <tr>\n",
       "      <th>111541</th>\n",
       "      <td>11227</td>\n",
       "      <td>[1816026, 1815281, 1815280, 1814968, 1814967, ...</td>\n",
       "      <td>IEEE Transactions on Information Theory</td>\n",
       "    </tr>\n",
       "  </tbody>\n",
       "</table>\n",
       "</div>"
      ],
      "text/plain": [
       "        pub_count                                       publications  \\\n",
       "111541      11227  [1816026, 1815281, 1815280, 1814968, 1814967, ...   \n",
       "\n",
       "                                          venue  \n",
       "111541  IEEE Transactions on Information Theory  "
      ]
     },
     "execution_count": 11,
     "metadata": {},
     "output_type": "execute_result"
    }
   ],
   "source": [
    "venue_pubs.sort_values(['pub_count'], ascending=False)[:1]"
   ]
  },
  {
   "cell_type": "markdown",
   "metadata": {},
   "source": [
    "#### F. Plot a histogram of the number of references (number of publications a publication refers to) and citations (number of publications referring to a publication) per publication. "
   ]
  },
  {
   "cell_type": "code",
   "execution_count": 12,
   "metadata": {
    "ExecuteTime": {
     "end_time": "2018-01-24T15:23:22.145213Z",
     "start_time": "2018-01-24T15:23:13.732391Z"
    }
   },
   "outputs": [],
   "source": [
    "publication_cits = ref_df[ref_df[REFERENCE] != ''].groupby([REFERENCE])[ID].count().reset_index(name='cit_count')\n",
    "publication_refs = ref_df.groupby([ID])[REFERENCE].count().reset_index(name='ref_count')"
   ]
  },
  {
   "cell_type": "code",
   "execution_count": 13,
   "metadata": {
    "ExecuteTime": {
     "end_time": "2018-01-19T15:28:36.396011Z",
     "start_time": "2018-01-19T15:28:35.591749Z"
    }
   },
   "outputs": [
    {
     "data": {
      "image/png": "[encoded data removed]",
      "text/plain": [
       "<matplotlib.figure.Figure at 0x7fd6ce7a7f98>"
      ]
     },
     "metadata": {},
     "output_type": "display_data"
    }
   ],
   "source": [
    "f, (ax1, ax2) = plt.subplots(1, 2, sharey=True)\n",
    "\n",
    "ax1.hist(publication_cits['cit_count'], log=True)\n",
    "ax1.set_xlabel('No. of Citations')\n",
    "ax1.set_ylabel('No. of Publications')\n",
    "ax1.set_title('Citations per publications')\n",
    "\n",
    "ax2.hist(publication_refs['ref_count'], log=True)\n",
    "ax2.set_xlabel('No. of References')\n",
    "ax2.set_title('References per publications')\n",
    "\n",
    "plt.show()"
   ]
  },
  {
   "cell_type": "markdown",
   "metadata": {},
   "source": [
    "#### ...What is the publication with the largest number of references?"
   ]
  },
  {
   "cell_type": "code",
   "execution_count": 13,
   "metadata": {
    "ExecuteTime": {
     "end_time": "2018-01-24T15:24:12.670363Z",
     "start_time": "2018-01-24T15:24:12.492298Z"
    }
   },
   "outputs": [
    {
     "data": {
      "text/html": [
       "<div>\n",
       "<style scoped>\n",
       "    .dataframe tbody tr th:only-of-type {\n",
       "        vertical-align: middle;\n",
       "    }\n",
       "\n",
       "    .dataframe tbody tr th {\n",
       "        vertical-align: top;\n",
       "    }\n",
       "\n",
       "    .dataframe thead th {\n",
       "        text-align: right;\n",
       "    }\n",
       "</style>\n",
       "<table border=\"1\" class=\"dataframe\">\n",
       "  <thead>\n",
       "    <tr style=\"text-align: right;\">\n",
       "      <th></th>\n",
       "      <th>id</th>\n",
       "      <th>ref_count</th>\n",
       "    </tr>\n",
       "  </thead>\n",
       "  <tbody>\n",
       "    <tr>\n",
       "      <th>665802</th>\n",
       "      <td>719353</td>\n",
       "      <td>772</td>\n",
       "    </tr>\n",
       "    <tr>\n",
       "      <th>110250</th>\n",
       "      <td>1221204</td>\n",
       "      <td>555</td>\n",
       "    </tr>\n",
       "    <tr>\n",
       "      <th>322075</th>\n",
       "      <td>1583653</td>\n",
       "      <td>527</td>\n",
       "    </tr>\n",
       "    <tr>\n",
       "      <th>195055</th>\n",
       "      <td>1376720</td>\n",
       "      <td>524</td>\n",
       "    </tr>\n",
       "    <tr>\n",
       "      <th>110249</th>\n",
       "      <td>1221200</td>\n",
       "      <td>523</td>\n",
       "    </tr>\n",
       "  </tbody>\n",
       "</table>\n",
       "</div>"
      ],
      "text/plain": [
       "             id  ref_count\n",
       "665802   719353        772\n",
       "110250  1221204        555\n",
       "322075  1583653        527\n",
       "195055  1376720        524\n",
       "110249  1221200        523"
      ]
     },
     "execution_count": 13,
     "metadata": {},
     "output_type": "execute_result"
    }
   ],
   "source": [
    "publication_refs.sort_values(['ref_count'], ascending=False)[:5]"
   ]
  },
  {
   "cell_type": "code",
   "execution_count": 54,
   "metadata": {
    "ExecuteTime": {
     "end_time": "2018-01-19T15:37:07.370108Z",
     "start_time": "2018-01-19T15:37:07.122982Z"
    }
   },
   "outputs": [
    {
     "data": {
      "text/html": [
       "<div>\n",
       "<style>\n",
       "    .dataframe thead tr:only-child th {\n",
       "        text-align: right;\n",
       "    }\n",
       "\n",
       "    .dataframe thead th {\n",
       "        text-align: left;\n",
       "    }\n",
       "\n",
       "    .dataframe tbody tr th {\n",
       "        vertical-align: top;\n",
       "    }\n",
       "</style>\n",
       "<table border=\"1\" class=\"dataframe\">\n",
       "  <thead>\n",
       "    <tr style=\"text-align: right;\">\n",
       "      <th></th>\n",
       "      <th>title</th>\n",
       "      <th>id</th>\n",
       "      <th>abstract</th>\n",
       "      <th>year</th>\n",
       "      <th>venue</th>\n",
       "    </tr>\n",
       "  </thead>\n",
       "  <tbody>\n",
       "    <tr>\n",
       "      <th>719351</th>\n",
       "      <td>Cited References</td>\n",
       "      <td>719353</td>\n",
       "      <td>NaN</td>\n",
       "      <td>2003</td>\n",
       "      <td>Computer algebra handbook</td>\n",
       "    </tr>\n",
       "  </tbody>\n",
       "</table>\n",
       "</div>"
      ],
      "text/plain": [
       "                   title      id abstract  year                      venue\n",
       "719351  Cited References  719353      NaN  2003  Computer algebra handbook"
      ]
     },
     "execution_count": 54,
     "metadata": {},
     "output_type": "execute_result"
    }
   ],
   "source": [
    "main_df[main_df['id'] == '719353']"
   ]
  },
  {
   "cell_type": "code",
   "execution_count": 14,
   "metadata": {
    "ExecuteTime": {
     "end_time": "2018-01-24T15:25:03.240216Z",
     "start_time": "2018-01-24T15:25:03.176275Z"
    }
   },
   "outputs": [
    {
     "data": {
      "text/plain": [
       "count    797454.000000\n",
       "mean          9.091842\n",
       "std           8.725263\n",
       "min           1.000000\n",
       "25%           3.000000\n",
       "50%           7.000000\n",
       "75%          12.000000\n",
       "max         772.000000\n",
       "Name: ref_count, dtype: float64"
      ]
     },
     "execution_count": 14,
     "metadata": {},
     "output_type": "execute_result"
    }
   ],
   "source": [
    "publication_refs['ref_count'].describe()"
   ]
  },
  {
   "cell_type": "markdown",
   "metadata": {},
   "source": [
    "#### What is the publication with the largest number of citations?"
   ]
  },
  {
   "cell_type": "code",
   "execution_count": 15,
   "metadata": {
    "ExecuteTime": {
     "end_time": "2018-01-24T15:25:54.078132Z",
     "start_time": "2018-01-24T15:25:53.878695Z"
    }
   },
   "outputs": [
    {
     "data": {
      "text/html": [
       "<div>\n",
       "<style scoped>\n",
       "    .dataframe tbody tr th:only-of-type {\n",
       "        vertical-align: middle;\n",
       "    }\n",
       "\n",
       "    .dataframe tbody tr th {\n",
       "        vertical-align: top;\n",
       "    }\n",
       "\n",
       "    .dataframe thead th {\n",
       "        text-align: right;\n",
       "    }\n",
       "</style>\n",
       "<table border=\"1\" class=\"dataframe\">\n",
       "  <thead>\n",
       "    <tr style=\"text-align: right;\">\n",
       "      <th></th>\n",
       "      <th>reference</th>\n",
       "      <th>cit_count</th>\n",
       "    </tr>\n",
       "  </thead>\n",
       "  <tbody>\n",
       "    <tr>\n",
       "      <th>526604</th>\n",
       "      <td>408396</td>\n",
       "      <td>7753</td>\n",
       "    </tr>\n",
       "    <tr>\n",
       "      <th>512284</th>\n",
       "      <td>369236</td>\n",
       "      <td>5891</td>\n",
       "    </tr>\n",
       "    <tr>\n",
       "      <th>403024</th>\n",
       "      <td>190581</td>\n",
       "      <td>4748</td>\n",
       "    </tr>\n",
       "    <tr>\n",
       "      <th>180757</th>\n",
       "      <td>136350</td>\n",
       "      <td>4399</td>\n",
       "    </tr>\n",
       "    <tr>\n",
       "      <th>309885</th>\n",
       "      <td>168251</td>\n",
       "      <td>4336</td>\n",
       "    </tr>\n",
       "  </tbody>\n",
       "</table>\n",
       "</div>"
      ],
      "text/plain": [
       "       reference  cit_count\n",
       "526604    408396       7753\n",
       "512284    369236       5891\n",
       "403024    190581       4748\n",
       "180757    136350       4399\n",
       "309885    168251       4336"
      ]
     },
     "execution_count": 15,
     "metadata": {},
     "output_type": "execute_result"
    }
   ],
   "source": [
    "publication_cits.sort_values(['cit_count'], ascending=False)[:5]"
   ]
  },
  {
   "cell_type": "code",
   "execution_count": 56,
   "metadata": {
    "ExecuteTime": {
     "end_time": "2018-01-19T15:37:25.658435Z",
     "start_time": "2018-01-19T15:37:25.410880Z"
    }
   },
   "outputs": [
    {
     "data": {
      "text/html": [
       "<div>\n",
       "<style>\n",
       "    .dataframe thead tr:only-child th {\n",
       "        text-align: right;\n",
       "    }\n",
       "\n",
       "    .dataframe thead th {\n",
       "        text-align: left;\n",
       "    }\n",
       "\n",
       "    .dataframe tbody tr th {\n",
       "        vertical-align: top;\n",
       "    }\n",
       "</style>\n",
       "<table border=\"1\" class=\"dataframe\">\n",
       "  <thead>\n",
       "    <tr style=\"text-align: right;\">\n",
       "      <th></th>\n",
       "      <th>title</th>\n",
       "      <th>id</th>\n",
       "      <th>abstract</th>\n",
       "      <th>year</th>\n",
       "      <th>venue</th>\n",
       "    </tr>\n",
       "  </thead>\n",
       "  <tbody>\n",
       "    <tr>\n",
       "      <th>408394</th>\n",
       "      <td>Computers and Intractability: A Guide to the T...</td>\n",
       "      <td>408396</td>\n",
       "      <td>NaN</td>\n",
       "      <td>1979</td>\n",
       "      <td>Computers and Intractability: A Guide to the T...</td>\n",
       "    </tr>\n",
       "  </tbody>\n",
       "</table>\n",
       "</div>"
      ],
      "text/plain": [
       "                                                    title      id abstract  \\\n",
       "408394  Computers and Intractability: A Guide to the T...  408396      NaN   \n",
       "\n",
       "        year                                              venue  \n",
       "408394  1979  Computers and Intractability: A Guide to the T...  "
      ]
     },
     "execution_count": 56,
     "metadata": {},
     "output_type": "execute_result"
    }
   ],
   "source": [
    "main_df[main_df['id'] == '408396']"
   ]
  },
  {
   "cell_type": "code",
   "execution_count": 67,
   "metadata": {
    "ExecuteTime": {
     "end_time": "2018-01-19T15:44:59.288706Z",
     "start_time": "2018-01-19T15:44:59.242273Z"
    }
   },
   "outputs": [
    {
     "data": {
      "text/plain": [
       "count    871091.000000\n",
       "mean          8.323273\n",
       "std          33.892868\n",
       "min           1.000000\n",
       "25%           1.000000\n",
       "50%           3.000000\n",
       "75%           7.000000\n",
       "max        7753.000000\n",
       "Name: cit_count, dtype: float64"
      ]
     },
     "execution_count": 67,
     "metadata": {},
     "output_type": "execute_result"
    }
   ],
   "source": [
    "publication_cits['cit_count'].describe()"
   ]
  },
  {
   "cell_type": "markdown",
   "metadata": {},
   "source": [
    "#### G. Calculate the so called “impact” factor for each venue. To do so, calculate the total number of citations for the publications in the venue, and then divide this number by the number of publications for the venue. Plot a histogram of the results"
   ]
  },
  {
   "cell_type": "code",
   "execution_count": 25,
   "metadata": {
    "ExecuteTime": {
     "end_time": "2018-01-24T15:45:54.322545Z",
     "start_time": "2018-01-24T15:45:47.820582Z"
    }
   },
   "outputs": [],
   "source": [
    "# impact = average citation for venue\n",
    "\n",
    "pub_cit_dict = {row.reference:row.cit_count for row in publication_cits.itertuples()}\n",
    "\n",
    "impact = list()\n",
    "for row in venue_pubs.itertuples():\n",
    "    tmp_dict = {VENUE: row.venue}\n",
    "    _lst = list()\n",
    "    _raw = list()\n",
    "    for id in row.publications:\n",
    "        _val = pub_cit_dict.get(id, None)\n",
    "        if _val:\n",
    "            _lst.append(_val)\n",
    "            _raw.append(id)\n",
    "    tmp_dict.update({'impact': 0 if len(_lst) == 0 else sum(_lst)/float(len(_lst)), \n",
    "                     'raw': _raw})\n",
    "    impact.append(tmp_dict)\n"
   ]
  },
  {
   "cell_type": "code",
   "execution_count": 26,
   "metadata": {
    "ExecuteTime": {
     "end_time": "2018-01-24T15:46:48.970130Z",
     "start_time": "2018-01-24T15:46:48.229580Z"
    }
   },
   "outputs": [
    {
     "data": {
      "image/png": "[encoded data removed]",
      "text/plain": [
       "<matplotlib.figure.Figure at 0x7f8682b65748>"
      ]
     },
     "metadata": {},
     "output_type": "display_data"
    }
   ],
   "source": [
    "plt.hist([x['impact'] for x in impact], log=True, bins=50)\n",
    "plt.xlabel('Impact')\n",
    "plt.ylabel('No. of Venues')\n",
    "plt.title('Impact per venue')\n",
    "plt.show()"
   ]
  },
  {
   "cell_type": "markdown",
   "metadata": {},
   "source": [
    "#### H. What is the venue with the highest apparent impact factor? "
   ]
  },
  {
   "cell_type": "code",
   "execution_count": 27,
   "metadata": {
    "ExecuteTime": {
     "end_time": "2018-01-24T15:47:42.361079Z",
     "start_time": "2018-01-24T15:47:42.231016Z"
    }
   },
   "outputs": [
    {
     "data": {
      "text/plain": [
       "[{'impact': 7753.0,\n",
       "  'raw': ['408396'],\n",
       "  'venue': 'Computers and Intractability: A Guide to the Theory of NP-Completeness'},\n",
       " {'impact': 5891.0,\n",
       "  'raw': ['369236'],\n",
       "  'venue': 'Genetic Algorithms in Search, Optimization and Machine Learning'},\n",
       " {'impact': 4748.0,\n",
       "  'raw': ['190581'],\n",
       "  'venue': 'The nature of statistical learning theory'},\n",
       " {'impact': 4399.0,\n",
       "  'raw': ['136350'],\n",
       "  'venue': 'C4.5: programs for machine learning'}]"
      ]
     },
     "execution_count": 27,
     "metadata": {},
     "output_type": "execute_result"
    }
   ],
   "source": [
    "sorted(impact, key=lambda x:x['impact'], reverse=True)[:4]"
   ]
  },
  {
   "cell_type": "markdown",
   "metadata": {},
   "source": [
    "#### Do you believe this number? (http://mdanderson.libanswers.com/faq/26159)"
   ]
  },
  {
   "cell_type": "code",
   "execution_count": 130,
   "metadata": {
    "ExecuteTime": {
     "end_time": "2018-01-19T16:35:00.329738Z",
     "start_time": "2018-01-19T16:35:00.058440Z"
    }
   },
   "outputs": [
    {
     "name": "stdout",
     "output_type": "stream",
     "text": [
      "13763\n",
      "255689\n",
      "0.0538271102785024\n"
     ]
    }
   ],
   "source": [
    "tenplus = sorted(impact, key=lambda x:x['impact'])\n",
    "for index, row in enumerate(tenplus):\n",
    "    if row['impact'] <= 10:\n",
    "        continue\n",
    "    break\n",
    "tenplus = tenplus[index:]\n",
    "print(len(tenplus))\n",
    "print(len(impact))\n",
    "print(len(tenplus)/len(impact))"
   ]
  },
  {
   "cell_type": "markdown",
   "metadata": {},
   "source": [
    "About 5% of the journals have a 10+ impact factor. This is different than benchmarks given on the reference link. "
   ]
  },
  {
   "cell_type": "markdown",
   "metadata": {},
   "source": [
    "#### I. Now repeat the calculation from item b., but restrict the calculation to venues with at least 10 publications. How does your histogram change? "
   ]
  },
  {
   "cell_type": "code",
   "execution_count": null,
   "metadata": {
    "ExecuteTime": {
     "end_time": "2018-01-24T15:43:22.955654Z",
     "start_time": "2018-01-24T15:42:56.851Z"
    }
   },
   "outputs": [],
   "source": [
    "impact[:15]"
   ]
  },
  {
   "cell_type": "code",
   "execution_count": 28,
   "metadata": {
    "ExecuteTime": {
     "end_time": "2018-01-24T15:50:30.065412Z",
     "start_time": "2018-01-24T15:50:29.806848Z"
    }
   },
   "outputs": [],
   "source": [
    "# pub_cit_dict = {row.reference:row.cit_count for row in publication_cits.itertuples()}\n",
    "\n",
    "# restricted_impact = list()\n",
    "# for row in venue_pubs.itertuples():\n",
    "#     if len(row.publications) < 10 :\n",
    "#         continue\n",
    "#     tmp_dict = {VENUE: row.venue}\n",
    "#     _lst = list()\n",
    "#     _raw= list()\n",
    "#     for id in row.publications:\n",
    "#         _val = pub_cit_dict.get(id, None)\n",
    "#         if _val:\n",
    "#             _raw.append({'publication': id, 'citation_count': _val})\n",
    "#             _lst.append(_val)\n",
    "#     tmp_dict.update({'impact': 0 if len(_lst) == 0 else sum(_lst)/float(len(_lst)),\n",
    "#                      'raw': _raw})\n",
    "#     restricted_impact.append(tmp_dict)\n",
    "\n",
    "restricted_impact = [x for x in impact if len(x['raw']) >= 10]"
   ]
  },
  {
   "cell_type": "code",
   "execution_count": 31,
   "metadata": {
    "ExecuteTime": {
     "end_time": "2018-01-24T15:53:12.324973Z",
     "start_time": "2018-01-24T15:53:11.853354Z"
    }
   },
   "outputs": [
    {
     "data": {
      "image/png": "[encoded data removed]",
      "text/plain": [
       "<matplotlib.figure.Figure at 0x7f8668604ac8>"
      ]
     },
     "metadata": {},
     "output_type": "display_data"
    }
   ],
   "source": [
    "plt.hist([x['impact'] for x in restricted_impact], log=True)\n",
    "plt.xlabel('Impact')\n",
    "plt.ylabel('No. of Venues')\n",
    "plt.title('Impact per venue')\n",
    "plt.show()"
   ]
  },
  {
   "cell_type": "markdown",
   "metadata": {},
   "source": [
    "#### List the citation counts for all publications from the venue with the highest impact factor."
   ]
  },
  {
   "cell_type": "code",
   "execution_count": 29,
   "metadata": {
    "ExecuteTime": {
     "end_time": "2018-01-24T15:51:25.829691Z",
     "start_time": "2018-01-24T15:51:25.814157Z"
    }
   },
   "outputs": [
    {
     "data": {
      "text/plain": [
       "[{'impact': 214.82608695652175,\n",
       "  'raw': ['340177',\n",
       "   '340176',\n",
       "   '340165',\n",
       "   '340166',\n",
       "   '340167',\n",
       "   '340168',\n",
       "   '340169',\n",
       "   '340170',\n",
       "   '340171',\n",
       "   '340172',\n",
       "   '340164',\n",
       "   '340174',\n",
       "   '340179',\n",
       "   '340173',\n",
       "   '340178',\n",
       "   '340175',\n",
       "   '340181',\n",
       "   '340180',\n",
       "   '340183',\n",
       "   '340184',\n",
       "   '340185',\n",
       "   '340187',\n",
       "   '340182'],\n",
       "  'venue': 'Proceedings of the 2001 conference on Applications, technologies, architectures, and protocols for computer communications'}]"
      ]
     },
     "execution_count": 29,
     "metadata": {},
     "output_type": "execute_result"
    }
   ],
   "source": [
    "sorted(restricted_impact, key=lambda x:x['impact'], reverse=True)[:1]"
   ]
  },
  {
   "cell_type": "markdown",
   "metadata": {},
   "source": [
    "#### How does the impact factor (mean number of citations) compare to the median number of citations?"
   ]
  },
  {
   "cell_type": "markdown",
   "metadata": {
    "collapsed": true
   },
   "source": [
    "The difference mainly stems from the same reason we see a difference in results part H and part I. When we restricted the data to contain venues that had atleast 10 publications, we eliminated outlier venues that had few publications with very high citation count. The median for such outliers is small, but they have a large mean. "
   ]
  },
  {
   "cell_type": "markdown",
   "metadata": {},
   "source": [
    "#### J. Finally, construct a list of publications for each publication year. Use this list to plot the average number of references and average number of citations per publication as a function of time. Explain the differences you see in the trends."
   ]
  },
  {
   "cell_type": "code",
   "execution_count": 33,
   "metadata": {
    "ExecuteTime": {
     "end_time": "2018-01-24T15:54:29.196830Z",
     "start_time": "2018-01-24T15:54:21.466691Z"
    }
   },
   "outputs": [
    {
     "data": {
      "text/html": [
       "<div>\n",
       "<style scoped>\n",
       "    .dataframe tbody tr th:only-of-type {\n",
       "        vertical-align: middle;\n",
       "    }\n",
       "\n",
       "    .dataframe tbody tr th {\n",
       "        vertical-align: top;\n",
       "    }\n",
       "\n",
       "    .dataframe thead th {\n",
       "        text-align: right;\n",
       "    }\n",
       "</style>\n",
       "<table border=\"1\" class=\"dataframe\">\n",
       "  <thead>\n",
       "    <tr style=\"text-align: right;\">\n",
       "      <th></th>\n",
       "      <th>pub_count</th>\n",
       "      <th>publications</th>\n",
       "      <th>year</th>\n",
       "      <th>avg_references</th>\n",
       "      <th>avg_citations</th>\n",
       "    </tr>\n",
       "  </thead>\n",
       "  <tbody>\n",
       "    <tr>\n",
       "      <th>0</th>\n",
       "      <td>1</td>\n",
       "      <td>[716945]</td>\n",
       "      <td>1936</td>\n",
       "      <td>0.0</td>\n",
       "      <td>0.0</td>\n",
       "    </tr>\n",
       "    <tr>\n",
       "      <th>1</th>\n",
       "      <td>1</td>\n",
       "      <td>[837644]</td>\n",
       "      <td>1938</td>\n",
       "      <td>0.0</td>\n",
       "      <td>0.0</td>\n",
       "    </tr>\n",
       "    <tr>\n",
       "      <th>2</th>\n",
       "      <td>1</td>\n",
       "      <td>[683820]</td>\n",
       "      <td>1941</td>\n",
       "      <td>0.0</td>\n",
       "      <td>0.0</td>\n",
       "    </tr>\n",
       "    <tr>\n",
       "      <th>3</th>\n",
       "      <td>1</td>\n",
       "      <td>[840607]</td>\n",
       "      <td>1945</td>\n",
       "      <td>0.0</td>\n",
       "      <td>0.0</td>\n",
       "    </tr>\n",
       "    <tr>\n",
       "      <th>4</th>\n",
       "      <td>1</td>\n",
       "      <td>[683919]</td>\n",
       "      <td>1947</td>\n",
       "      <td>0.0</td>\n",
       "      <td>0.0</td>\n",
       "    </tr>\n",
       "  </tbody>\n",
       "</table>\n",
       "</div>"
      ],
      "text/plain": [
       "   pub_count publications  year  avg_references  avg_citations\n",
       "0          1     [716945]  1936             0.0            0.0\n",
       "1          1     [837644]  1938             0.0            0.0\n",
       "2          1     [683820]  1941             0.0            0.0\n",
       "3          1     [840607]  1945             0.0            0.0\n",
       "4          1     [683919]  1947             0.0            0.0"
      ]
     },
     "execution_count": 33,
     "metadata": {},
     "output_type": "execute_result"
    }
   ],
   "source": [
    "# _pubs, _years = main_df[main_df[YEAR] != ''][[ID, YEAR]].sort_values([YEAR]).values.T\n",
    "_pubs, _years = main_df[pd.to_numeric(main_df[YEAR], errors='coerce').notnull()][[ID, YEAR]].sort_values([YEAR]).values.T\n",
    "_keys, _indices = np.unique(_years, True)\n",
    "yearly_pubs = pd.DataFrame({YEAR: _keys, 'publications': [list(x) for x in np.split(_pubs, _indices[1:])], 'pub_count': [len(list(x)) for x in np.split(_pubs, _indices[1:])]})\n",
    "yearly_pubs['avg_references'] = pd.Series(np.zeros(len(yearly_pubs['pub_count'])), index=yearly_pubs.index)\n",
    "yearly_pubs['avg_citations'] = pd.Series(np.zeros(len(yearly_pubs['pub_count'])), index=yearly_pubs.index)\n",
    "yearly_pubs.head()"
   ]
  },
  {
   "cell_type": "code",
   "execution_count": 39,
   "metadata": {
    "ExecuteTime": {
     "end_time": "2018-01-24T16:04:59.551951Z",
     "start_time": "2018-01-24T16:04:55.116537Z"
    }
   },
   "outputs": [
    {
     "data": {
      "text/html": [
       "<div>\n",
       "<style scoped>\n",
       "    .dataframe tbody tr th:only-of-type {\n",
       "        vertical-align: middle;\n",
       "    }\n",
       "\n",
       "    .dataframe tbody tr th {\n",
       "        vertical-align: top;\n",
       "    }\n",
       "\n",
       "    .dataframe thead th {\n",
       "        text-align: right;\n",
       "    }\n",
       "</style>\n",
       "<table border=\"1\" class=\"dataframe\">\n",
       "  <thead>\n",
       "    <tr style=\"text-align: right;\">\n",
       "      <th></th>\n",
       "      <th>pub_count</th>\n",
       "      <th>publications</th>\n",
       "      <th>year</th>\n",
       "      <th>avg_references</th>\n",
       "      <th>avg_citations</th>\n",
       "    </tr>\n",
       "  </thead>\n",
       "  <tbody>\n",
       "    <tr>\n",
       "      <th>0</th>\n",
       "      <td>1</td>\n",
       "      <td>[716945]</td>\n",
       "      <td>1936</td>\n",
       "      <td>0.0</td>\n",
       "      <td>0.0</td>\n",
       "    </tr>\n",
       "    <tr>\n",
       "      <th>1</th>\n",
       "      <td>1</td>\n",
       "      <td>[837644]</td>\n",
       "      <td>1938</td>\n",
       "      <td>0.0</td>\n",
       "      <td>6.0</td>\n",
       "    </tr>\n",
       "    <tr>\n",
       "      <th>2</th>\n",
       "      <td>1</td>\n",
       "      <td>[683820]</td>\n",
       "      <td>1941</td>\n",
       "      <td>0.0</td>\n",
       "      <td>0.0</td>\n",
       "    </tr>\n",
       "    <tr>\n",
       "      <th>3</th>\n",
       "      <td>1</td>\n",
       "      <td>[840607]</td>\n",
       "      <td>1945</td>\n",
       "      <td>0.0</td>\n",
       "      <td>19.0</td>\n",
       "    </tr>\n",
       "    <tr>\n",
       "      <th>4</th>\n",
       "      <td>1</td>\n",
       "      <td>[683919]</td>\n",
       "      <td>1947</td>\n",
       "      <td>0.0</td>\n",
       "      <td>0.0</td>\n",
       "    </tr>\n",
       "  </tbody>\n",
       "</table>\n",
       "</div>"
      ],
      "text/plain": [
       "   pub_count publications  year  avg_references  avg_citations\n",
       "0          1     [716945]  1936             0.0            0.0\n",
       "1          1     [837644]  1938             0.0            6.0\n",
       "2          1     [683820]  1941             0.0            0.0\n",
       "3          1     [840607]  1945             0.0           19.0\n",
       "4          1     [683919]  1947             0.0            0.0"
      ]
     },
     "execution_count": 39,
     "metadata": {},
     "output_type": "execute_result"
    }
   ],
   "source": [
    "pub_cit_dict = {row.reference:row.cit_count for row in publication_cits.itertuples()}\n",
    "pub_ref_dict = {row.id:row.ref_count for row in publication_refs.itertuples()}\n",
    "\n",
    "for index, row in enumerate(yearly_pubs.itertuples()):\n",
    "    pub_ref_counts = [pub_ref_dict.get(x, 0) for x in row.publications]\n",
    "    pub_cit_counts = [pub_cit_dict.get(x, 0) for x in row.publications]\n",
    "    yearly_pubs.loc[index, 'avg_references'] = sum(pub_ref_counts)/len(pub_ref_counts)\n",
    "    yearly_pubs.loc[index, 'avg_citations'] = sum(pub_cit_counts)/len(pub_cit_counts)\n",
    "\n",
    "yearly_pubs.head()"
   ]
  },
  {
   "cell_type": "code",
   "execution_count": 40,
   "metadata": {
    "ExecuteTime": {
     "end_time": "2018-01-24T16:05:53.397120Z",
     "start_time": "2018-01-24T16:05:53.388776Z"
    }
   },
   "outputs": [
    {
     "data": {
      "text/plain": [
       "count    69.000000\n",
       "mean      1.555866\n",
       "std       1.598308\n",
       "min       0.000000\n",
       "25%       0.346037\n",
       "50%       1.115393\n",
       "75%       1.689493\n",
       "max       5.966652\n",
       "Name: avg_references, dtype: float64"
      ]
     },
     "execution_count": 40,
     "metadata": {},
     "output_type": "execute_result"
    }
   ],
   "source": [
    "yearly_pubs['avg_references'].describe()"
   ]
  },
  {
   "cell_type": "code",
   "execution_count": 41,
   "metadata": {
    "ExecuteTime": {
     "end_time": "2018-01-24T16:06:35.308500Z",
     "start_time": "2018-01-24T16:06:35.294862Z"
    }
   },
   "outputs": [
    {
     "data": {
      "text/plain": [
       "count    69.000000\n",
       "mean      4.059049\n",
       "std       2.746188\n",
       "min       0.000000\n",
       "25%       2.425926\n",
       "50%       4.438535\n",
       "75%       5.489140\n",
       "max      19.000000\n",
       "Name: avg_citations, dtype: float64"
      ]
     },
     "execution_count": 41,
     "metadata": {},
     "output_type": "execute_result"
    }
   ],
   "source": [
    "yearly_pubs['avg_citations'].describe()"
   ]
  },
  {
   "cell_type": "code",
   "execution_count": 43,
   "metadata": {
    "ExecuteTime": {
     "end_time": "2018-01-24T16:08:22.926757Z",
     "start_time": "2018-01-24T16:08:22.686230Z"
    }
   },
   "outputs": [
    {
     "data": {
      "image/png": "[encoded data removed]",
      "text/plain": [
       "<matplotlib.figure.Figure at 0x7f868527b320>"
      ]
     },
     "metadata": {},
     "output_type": "display_data"
    }
   ],
   "source": [
    "plt.plot(yearly_pubs[YEAR].dropna().astype(int), yearly_pubs['avg_citations'])\n",
    "plt.xlabel('Time')\n",
    "plt.ylabel('No. of Citations per Publication')\n",
    "plt.show()"
   ]
  },
  {
   "cell_type": "code",
   "execution_count": 44,
   "metadata": {
    "ExecuteTime": {
     "end_time": "2018-01-24T16:09:19.338238Z",
     "start_time": "2018-01-24T16:09:19.167555Z"
    }
   },
   "outputs": [
    {
     "data": {
      "image/png": "[encoded data removed]",
      "text/plain": [
       "<matplotlib.figure.Figure at 0x7f86852ef7b8>"
      ]
     },
     "metadata": {},
     "output_type": "display_data"
    }
   ],
   "source": [
    "plt.plot(yearly_pubs[YEAR].dropna().astype(int), yearly_pubs['avg_references'])\n",
    "plt.xlabel('Time')\n",
    "plt.ylabel('No. of References per Publication')\n",
    "plt.show()"
   ]
  },
  {
   "cell_type": "code",
   "execution_count": null,
   "metadata": {},
   "outputs": [],
   "source": []
  }
 ],
 "metadata": {
  "kernelspec": {
   "display_name": "Python 3",
   "language": "python",
   "name": "python3"
  },
  "language_info": {
   "codemirror_mode": {
    "name": "ipython",
    "version": 3
   },
   "file_extension": ".py",
   "mimetype": "text/x-python",
   "name": "python",
   "nbconvert_exporter": "python",
   "pygments_lexer": "ipython3",
   "version": "3.6.4"
  },
  "toc": {
   "nav_menu": {},
   "number_sections": true,
   "sideBar": true,
   "skip_h1_title": false,
   "toc_cell": false,
   "toc_position": {},
   "toc_section_display": "block",
   "toc_window_display": false
  },
  "varInspector": {
   "cols": {
    "lenName": 16,
    "lenType": 16,
    "lenVar": 40
   },
   "kernels_config": {
    "python": {
     "delete_cmd_postfix": "",
     "delete_cmd_prefix": "del ",
     "library": "var_list.py",
     "varRefreshCmd": "print(var_dic_list())"
    },
    "r": {
     "delete_cmd_postfix": ") ",
     "delete_cmd_prefix": "rm(",
     "library": "var_list.r",
     "varRefreshCmd": "cat(var_dic_list()) "
    }
   },
   "types_to_exclude": [
    "module",
    "function",
    "builtin_function_or_method",
    "instance",
    "_Feature"
   ],
   "window_display": false
  }
 },
 "nbformat": 4,
 "nbformat_minor": 2
}
