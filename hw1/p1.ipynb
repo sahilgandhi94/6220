{
 "cells": [
  {
   "cell_type": "code",
   "execution_count": 1,
   "metadata": {
    "ExecuteTime": {
     "end_time": "2018-01-14T23:05:54.084662Z",
     "start_time": "2018-01-14T23:05:52.925186Z"
    },
    "collapsed": true
   },
   "outputs": [],
   "source": [
    "import matplotlib.pyplot as plt\n",
    "import numpy as np\n",
    "import pandas as pd\n",
    "import time\n",
    "\n",
    "from copy import deepcopy\n",
    "\n",
    "# constants\n",
    "DATA_LOC = \"/home/ubuntu/projects/datasets/AP_train.txt\"\n",
    "\n",
    "# data formats\n",
    "FORMAT_ID = \"#index\"\n",
    "FORMAT_PAPER_TITLE = \"#*\"\n",
    "FORMAT_AUTHORS = \"#@\"\n",
    "FORMAT_YEAR = \"#t\"\n",
    "FORMAT_VENUE = \"#c\"\n",
    "FORMAT_REFERENCES = \"#%\"\n",
    "FORMAT_ABSTRACT = \"#!\"\n",
    "\n",
    "# data keys\n",
    "ID = \"id\"\n",
    "TITLE = \"title\"\n",
    "AUTHOR = \"author\"\n",
    "YEAR = \"year\"\n",
    "VENUE = \"venue\"\n",
    "REFERENCE = \"reference\"\n",
    "ABSTRACT = \"abstract\""
   ]
  },
  {
   "cell_type": "code",
   "execution_count": 2,
   "metadata": {
    "ExecuteTime": {
     "end_time": "2018-01-14T23:06:44.444459Z",
     "start_time": "2018-01-14T23:05:58.326576Z"
    },
    "collapsed": true,
    "scrolled": true
   },
   "outputs": [],
   "source": [
    "def generatetables():\n",
    "    main_table = list()\n",
    "    author_table = list()\n",
    "    reference_table = list()\n",
    "    datum = dict()\n",
    "    with open(DATA_LOC, \"r\", encoding='utf-8') as file:\n",
    "        for line in file.readlines():            \n",
    "            if FORMAT_ID in line:\n",
    "                # yield already existing datum and continue\n",
    "                if len(datum.keys()) > 0:\n",
    "                    main_table.append(datum)\n",
    "                datum = dict() # re-initialize local datum\n",
    "                datum[ID] = line.strip(FORMAT_ID).strip()\n",
    "            elif FORMAT_PAPER_TITLE in line:\n",
    "                datum[TITLE] = line.strip(FORMAT_PAPER_TITLE).strip()\n",
    "            elif FORMAT_REFERENCES in line:\n",
    "                reference_table.append({ID: datum[ID], REFERENCE: line.strip(FORMAT_REFERENCES).strip()})\n",
    "            elif FORMAT_AUTHORS in line: \n",
    "                for author in line.strip(FORMAT_AUTHORS).strip().split(';'):\n",
    "                    author_table.append({ID: datum[ID], AUTHOR: author.strip()})                    \n",
    "            elif FORMAT_YEAR in line: \n",
    "                datum[YEAR] = line.strip(FORMAT_YEAR).strip()\n",
    "            elif FORMAT_VENUE in line: \n",
    "                datum[VENUE] = line.strip(FORMAT_VENUE).strip()\n",
    "            elif FORMAT_ABSTRACT in line: \n",
    "                datum[ABSTRACT] = line.strip(FORMAT_ABSTRACT).strip()\n",
    "    return main_table, author_table, reference_table\n",
    "\n",
    "# generate all tables\n",
    "main, author, cit = generatetables()\n"
   ]
  },
  {
   "cell_type": "code",
   "execution_count": 3,
   "metadata": {
    "ExecuteTime": {
     "end_time": "2018-01-14T23:06:57.000726Z",
     "start_time": "2018-01-14T23:06:44.446499Z"
    }
   },
   "outputs": [
    {
     "name": "stdout",
     "output_type": "stream",
     "text": [
      "\n",
      "Length of Main DF: 1976814\n",
      "\n",
      "Length of Author DF: 4909851\n",
      "\n",
      "Length of References DF: 7250328\n",
      "\n",
      "Length of Consolidated DF: 23565643\n",
      "\n"
     ]
    }
   ],
   "source": [
    "# combine all tables and compute data\n",
    "main_df = pd.DataFrame(main, columns={ID, TITLE, YEAR, VENUE, ABSTRACT})\n",
    "author_df = pd.DataFrame(author, columns={ID, AUTHOR})\n",
    "ref_df = pd.DataFrame(cit, columns={ID, REFERENCE})\n",
    "\n",
    "consolidated = main_df.merge(author_df, how='outer', on=ID).merge(ref_df, how='outer', on=ID)\n",
    "\n",
    "print('''\n",
    "Length of Main DF: {0}\\n\n",
    "Length of Author DF: {1}\\n\n",
    "Length of References DF: {2}\\n\n",
    "Length of Consolidated DF: {3}\n",
    "'''.format(len(main_df), len(author_df), len(ref_df), len(consolidated)))"
   ]
  },
  {
   "cell_type": "markdown",
   "metadata": {
    "ExecuteTime": {
     "end_time": "2018-01-14T18:51:42.450162Z",
     "start_time": "2018-01-14T18:51:42.444808Z"
    }
   },
   "source": [
    "### A. Compute the number of distinct authors, publication venues, publications, and citations/references"
   ]
  },
  {
   "cell_type": "code",
   "execution_count": 4,
   "metadata": {
    "ExecuteTime": {
     "end_time": "2018-01-14T23:07:04.372563Z",
     "start_time": "2018-01-14T23:07:00.404504Z"
    }
   },
   "outputs": [
    {
     "name": "stdout",
     "output_type": "stream",
     "text": [
      "\n",
      "Distinct Authors: 1483293\n",
      "\n",
      "Distinct Publication venues: 255690\n",
      "\n",
      "Distinct Publications: 1929486\n",
      "\n",
      "Distinct references: 871091\n",
      "\n"
     ]
    }
   ],
   "source": [
    "# distinct authors\n",
    "print('''\n",
    "Distinct Authors: {0}\\n\n",
    "Distinct Publication venues: {1}\\n\n",
    "Distinct Publications: {2}\\n\n",
    "Distinct references: {3}\n",
    "'''.format(\n",
    "    len(author_df.author.unique()),\n",
    "    len(main_df.venue.unique()),\n",
    "    len(main_df.title.unique()),\n",
    "    len(ref_df.reference.unique())\n",
    "))"
   ]
  },
  {
   "cell_type": "markdown",
   "metadata": {},
   "source": [
    "### B. Are these numbers likely to be accurate? As an example look up all the publications venue names associated with the conference “Principles and Practice of Knowledge Discovery in Databases”13 – what do you notice?"
   ]
  },
  {
   "cell_type": "code",
   "execution_count": 5,
   "metadata": {
    "ExecuteTime": {
     "end_time": "2018-01-14T23:07:07.248907Z",
     "start_time": "2018-01-14T23:07:05.661034Z"
    }
   },
   "outputs": [
    {
     "data": {
      "text/html": [
       "<div>\n",
       "<style>\n",
       "    .dataframe thead tr:only-child th {\n",
       "        text-align: right;\n",
       "    }\n",
       "\n",
       "    .dataframe thead th {\n",
       "        text-align: left;\n",
       "    }\n",
       "\n",
       "    .dataframe tbody tr th {\n",
       "        vertical-align: top;\n",
       "    }\n",
       "</style>\n",
       "<table border=\"1\" class=\"dataframe\">\n",
       "  <thead>\n",
       "    <tr style=\"text-align: right;\">\n",
       "      <th></th>\n",
       "      <th>abstract</th>\n",
       "      <th>year</th>\n",
       "      <th>id</th>\n",
       "      <th>title</th>\n",
       "      <th>venue</th>\n",
       "    </tr>\n",
       "  </thead>\n",
       "  <tbody>\n",
       "    <tr>\n",
       "      <th>799595</th>\n",
       "      <td>This paper describes a new research proposal o...</td>\n",
       "      <td>2004</td>\n",
       "      <td>799597</td>\n",
       "      <td>Summarization of dynamic content in web collec...</td>\n",
       "      <td>PKDD '04 Proceedings of the 8th European Confe...</td>\n",
       "    </tr>\n",
       "    <tr>\n",
       "      <th>799732</th>\n",
       "      <td>NaN</td>\n",
       "      <td>2004</td>\n",
       "      <td>799734</td>\n",
       "      <td>Proceedings of the 8th European Conference on ...</td>\n",
       "      <td>PKDD '04 Proceedings of the 8th European Confe...</td>\n",
       "    </tr>\n",
       "    <tr>\n",
       "      <th>799733</th>\n",
       "      <td>We show how carefully crafted random matrices ...</td>\n",
       "      <td>2004</td>\n",
       "      <td>799735</td>\n",
       "      <td>Random matrices in data analysis</td>\n",
       "      <td>PKDD '04 Proceedings of the 8th European Confe...</td>\n",
       "    </tr>\n",
       "    <tr>\n",
       "      <th>799734</th>\n",
       "      <td>There is increasing need to build information ...</td>\n",
       "      <td>2004</td>\n",
       "      <td>799736</td>\n",
       "      <td>Data privacy</td>\n",
       "      <td>PKDD '04 Proceedings of the 8th European Confe...</td>\n",
       "    </tr>\n",
       "    <tr>\n",
       "      <th>799735</th>\n",
       "      <td>The next wave in search technology will be dri...</td>\n",
       "      <td>2004</td>\n",
       "      <td>799737</td>\n",
       "      <td>Breaking through the syntax barrier: searching...</td>\n",
       "      <td>PKDD '04 Proceedings of the 8th European Confe...</td>\n",
       "    </tr>\n",
       "  </tbody>\n",
       "</table>\n",
       "</div>"
      ],
      "text/plain": [
       "                                                 abstract  year      id  \\\n",
       "799595  This paper describes a new research proposal o...  2004  799597   \n",
       "799732                                                NaN  2004  799734   \n",
       "799733  We show how carefully crafted random matrices ...  2004  799735   \n",
       "799734  There is increasing need to build information ...  2004  799736   \n",
       "799735  The next wave in search technology will be dri...  2004  799737   \n",
       "\n",
       "                                                    title  \\\n",
       "799595  Summarization of dynamic content in web collec...   \n",
       "799732  Proceedings of the 8th European Conference on ...   \n",
       "799733                   Random matrices in data analysis   \n",
       "799734                                       Data privacy   \n",
       "799735  Breaking through the syntax barrier: searching...   \n",
       "\n",
       "                                                    venue  \n",
       "799595  PKDD '04 Proceedings of the 8th European Confe...  \n",
       "799732  PKDD '04 Proceedings of the 8th European Confe...  \n",
       "799733  PKDD '04 Proceedings of the 8th European Confe...  \n",
       "799734  PKDD '04 Proceedings of the 8th European Confe...  \n",
       "799735  PKDD '04 Proceedings of the 8th European Confe...  "
      ]
     },
     "execution_count": 5,
     "metadata": {},
     "output_type": "execute_result"
    }
   ],
   "source": [
    "main_df[main_df.venue.str.contains('Principles and Practice of Knowledge Discovery in Databases')][:5]"
   ]
  },
  {
   "cell_type": "markdown",
   "metadata": {
    "ExecuteTime": {
     "end_time": "2018-01-14T19:09:54.859867Z",
     "start_time": "2018-01-14T19:09:54.855322Z"
    }
   },
   "source": [
    "No, the results are not accurate. As we can see in the results above, the strings have some form of 'year' mentioned in them. So even if the actual venue is not different, the string representation of the venue changes because of the change in the year/date."
   ]
  },
  {
   "cell_type": "markdown",
   "metadata": {},
   "source": [
    "### C. For each author, construct the list of publications. Plot a histogram of the number of publications per author (use a logarithmic scale on the y axis)"
   ]
  },
  {
   "cell_type": "code",
   "execution_count": 47,
   "metadata": {
    "ExecuteTime": {
     "end_time": "2018-01-15T00:10:11.031103Z",
     "start_time": "2018-01-15T00:09:35.158145Z"
    },
    "scrolled": false
   },
   "outputs": [
    {
     "data": {
      "text/html": [
       "<div>\n",
       "<style>\n",
       "    .dataframe thead tr:only-child th {\n",
       "        text-align: right;\n",
       "    }\n",
       "\n",
       "    .dataframe thead th {\n",
       "        text-align: left;\n",
       "    }\n",
       "\n",
       "    .dataframe tbody tr th {\n",
       "        vertical-align: top;\n",
       "    }\n",
       "</style>\n",
       "<table border=\"1\" class=\"dataframe\">\n",
       "  <thead>\n",
       "    <tr style=\"text-align: right;\">\n",
       "      <th></th>\n",
       "      <th>author</th>\n",
       "      <th>pub count</th>\n",
       "      <th>publications</th>\n",
       "    </tr>\n",
       "  </thead>\n",
       "  <tbody>\n",
       "    <tr>\n",
       "      <th>0</th>\n",
       "      <td>Fructuoso Amorim</td>\n",
       "      <td>1</td>\n",
       "      <td>[1029805]</td>\n",
       "    </tr>\n",
       "    <tr>\n",
       "      <th>1</th>\n",
       "      <td>Xiaofei Liao</td>\n",
       "      <td>1</td>\n",
       "      <td>[1033654]</td>\n",
       "    </tr>\n",
       "    <tr>\n",
       "      <th>2</th>\n",
       "      <td>1</td>\n",
       "      <td>1</td>\n",
       "      <td>[405430]</td>\n",
       "    </tr>\n",
       "    <tr>\n",
       "      <th>3</th>\n",
       "      <td>3DTotal Team</td>\n",
       "      <td>5</td>\n",
       "      <td>[1890370, 1778111, 1701008, 1970816, 1614895]</td>\n",
       "    </tr>\n",
       "    <tr>\n",
       "      <th>4</th>\n",
       "      <td>3rd Author</td>\n",
       "      <td>1</td>\n",
       "      <td>[2002464]</td>\n",
       "    </tr>\n",
       "    <tr>\n",
       "      <th>5</th>\n",
       "      <td>A. O''Gallagher</td>\n",
       "      <td>2</td>\n",
       "      <td>[666966, 666963]</td>\n",
       "    </tr>\n",
       "    <tr>\n",
       "      <th>6</th>\n",
       "      <td>A. Tortorici Macaluso</td>\n",
       "      <td>1</td>\n",
       "      <td>[34355]</td>\n",
       "    </tr>\n",
       "    <tr>\n",
       "      <th>7</th>\n",
       "      <td>A.O.Demuren</td>\n",
       "      <td>1</td>\n",
       "      <td>[651919]</td>\n",
       "    </tr>\n",
       "    <tr>\n",
       "      <th>8</th>\n",
       "      <td>A.Tamilarasi</td>\n",
       "      <td>1</td>\n",
       "      <td>[1315402]</td>\n",
       "    </tr>\n",
       "    <tr>\n",
       "      <th>9</th>\n",
       "      <td>AAAI</td>\n",
       "      <td>1</td>\n",
       "      <td>[381854]</td>\n",
       "    </tr>\n",
       "    <tr>\n",
       "      <th>10</th>\n",
       "      <td>ACM SIGARCH Staff</td>\n",
       "      <td>1</td>\n",
       "      <td>[384631]</td>\n",
       "    </tr>\n",
       "    <tr>\n",
       "      <th>11</th>\n",
       "      <td>AGI Creative Team</td>\n",
       "      <td>18</td>\n",
       "      <td>[1600072, 1927684, 1909650, 1649982, 1542676, ...</td>\n",
       "    </tr>\n",
       "    <tr>\n",
       "      <th>12</th>\n",
       "      <td>AGI Training Team</td>\n",
       "      <td>2</td>\n",
       "      <td>[1440279, 1441571]</td>\n",
       "    </tr>\n",
       "    <tr>\n",
       "      <th>13</th>\n",
       "      <td>ASET, Association of Super-Advanced Electroni...</td>\n",
       "      <td>1</td>\n",
       "      <td>[313403]</td>\n",
       "    </tr>\n",
       "    <tr>\n",
       "      <th>14</th>\n",
       "      <td>AWWA Research Foundation Staff</td>\n",
       "      <td>1</td>\n",
       "      <td>[392565]</td>\n",
       "    </tr>\n",
       "    <tr>\n",
       "      <th>15</th>\n",
       "      <td>Aaron Harwood</td>\n",
       "      <td>2</td>\n",
       "      <td>[1079346, 1079344]</td>\n",
       "    </tr>\n",
       "    <tr>\n",
       "      <th>16</th>\n",
       "      <td>Aatmesh</td>\n",
       "      <td>1</td>\n",
       "      <td>[1207826]</td>\n",
       "    </tr>\n",
       "    <tr>\n",
       "      <th>17</th>\n",
       "      <td>Abacus Development Group</td>\n",
       "      <td>2</td>\n",
       "      <td>[381598, 380551]</td>\n",
       "    </tr>\n",
       "    <tr>\n",
       "      <th>18</th>\n",
       "      <td>Abaza</td>\n",
       "      <td>1</td>\n",
       "      <td>[1639873]</td>\n",
       "    </tr>\n",
       "    <tr>\n",
       "      <th>19</th>\n",
       "      <td>Abdel-Wahab</td>\n",
       "      <td>1</td>\n",
       "      <td>[661480]</td>\n",
       "    </tr>\n",
       "  </tbody>\n",
       "</table>\n",
       "</div>"
      ],
      "text/plain": [
       "                                               author  pub count  \\\n",
       "0                                    Fructuoso Amorim          1   \n",
       "1                                        Xiaofei Liao          1   \n",
       "2                                                   1          1   \n",
       "3                                        3DTotal Team          5   \n",
       "4                                          3rd Author          1   \n",
       "5                                     A. O''Gallagher          2   \n",
       "6                               A. Tortorici Macaluso          1   \n",
       "7                                         A.O.Demuren          1   \n",
       "8                                        A.Tamilarasi          1   \n",
       "9                                                AAAI          1   \n",
       "10                                  ACM SIGARCH Staff          1   \n",
       "11                                  AGI Creative Team         18   \n",
       "12                                  AGI Training Team          2   \n",
       "13   ASET, Association of Super-Advanced Electroni...          1   \n",
       "14                     AWWA Research Foundation Staff          1   \n",
       "15                                      Aaron Harwood          2   \n",
       "16                                            Aatmesh          1   \n",
       "17                           Abacus Development Group          2   \n",
       "18                                              Abaza          1   \n",
       "19                                        Abdel-Wahab          1   \n",
       "\n",
       "                                         publications  \n",
       "0                                           [1029805]  \n",
       "1                                           [1033654]  \n",
       "2                                            [405430]  \n",
       "3       [1890370, 1778111, 1701008, 1970816, 1614895]  \n",
       "4                                           [2002464]  \n",
       "5                                    [666966, 666963]  \n",
       "6                                             [34355]  \n",
       "7                                            [651919]  \n",
       "8                                           [1315402]  \n",
       "9                                            [381854]  \n",
       "10                                           [384631]  \n",
       "11  [1600072, 1927684, 1909650, 1649982, 1542676, ...  \n",
       "12                                 [1440279, 1441571]  \n",
       "13                                           [313403]  \n",
       "14                                           [392565]  \n",
       "15                                 [1079346, 1079344]  \n",
       "16                                          [1207826]  \n",
       "17                                   [381598, 380551]  \n",
       "18                                          [1639873]  \n",
       "19                                           [661480]  "
      ]
     },
     "execution_count": 47,
     "metadata": {},
     "output_type": "execute_result"
    }
   ],
   "source": [
    "_pubs, _authors = author_df[author_df.author != ''].sort_values([AUTHOR]).values.T\n",
    "_keys, _indices = np.unique(_authors, True)\n",
    "author_pubs = pd.DataFrame({AUTHOR: _keys, 'publications': [list(x) for x in np.split(_pubs, _indices[1:])], 'pub count': [len(list(x)) for x in np.split(_pubs, _indices[1:])]})\n",
    "author_pubs.sort_values([AUTHOR])[:20]"
   ]
  },
  {
   "cell_type": "code",
   "execution_count": 59,
   "metadata": {
    "ExecuteTime": {
     "end_time": "2018-01-15T00:17:27.995456Z",
     "start_time": "2018-01-15T00:17:27.515097Z"
    }
   },
   "outputs": [
    {
     "data": {
      "image/png": "[encoded data removed]",
      "text/plain": [
       "<matplotlib.figure.Figure at 0x7f2dd48e1f98>"
      ]
     },
     "metadata": {},
     "output_type": "display_data"
    }
   ],
   "source": [
    "plt.hist(author_pubs['pub count'], log=True)\n",
    "plt.xlabel('No. of Publications')\n",
    "plt.ylabel('No. of Authors')\n",
    "plt.title('No. of publications per author')\n",
    "plt.show()"
   ]
  },
  {
   "cell_type": "markdown",
   "metadata": {},
   "source": [
    "### D. Calculate the mean and standard deviation of the number of publications per author. Also calculate the Q1 (1st quartile14), Q2 (2nd quartile, or median) and Q3 (3rd quartile) values."
   ]
  },
  {
   "cell_type": "code",
   "execution_count": 44,
   "metadata": {
    "ExecuteTime": {
     "end_time": "2018-01-14T23:57:51.190675Z",
     "start_time": "2018-01-14T23:57:51.118042Z"
    }
   },
   "outputs": [
    {
     "data": {
      "text/plain": [
       "count    1.483292e+06\n",
       "mean     3.281670e+00\n",
       "std      8.836377e+00\n",
       "min      1.000000e+00\n",
       "25%      1.000000e+00\n",
       "50%      1.000000e+00\n",
       "75%      2.000000e+00\n",
       "max      1.056000e+03\n",
       "Name: pub count, dtype: float64"
      ]
     },
     "execution_count": 44,
     "metadata": {},
     "output_type": "execute_result"
    }
   ],
   "source": [
    "author_pubs['pub count'].describe()"
   ]
  },
  {
   "cell_type": "markdown",
   "metadata": {},
   "source": [
    "#### Compare the median to the mean and explain the difference between the two values based on the standard deviation and the 1st and 3rd quartiles.\n",
    "\n",
    "The vast difference between the median and the mean is because the max is very high which skews the mean, but the majority of the authors have 'no. of publications' closes to 1 (the median)."
   ]
  },
  {
   "cell_type": "markdown",
   "metadata": {},
   "source": [
    "### E. Now plot a histogram of the number of publications per venue.."
   ]
  },
  {
   "cell_type": "code",
   "execution_count": 65,
   "metadata": {
    "ExecuteTime": {
     "end_time": "2018-01-15T00:28:03.718553Z",
     "start_time": "2018-01-15T00:28:01.779039Z"
    }
   },
   "outputs": [
    {
     "data": {
      "image/png": "[encoded data removed]",
      "text/plain": [
       "<matplotlib.figure.Figure at 0x7f2dc917b1d0>"
      ]
     },
     "metadata": {},
     "output_type": "display_data"
    }
   ],
   "source": [
    "venue_pubs = main_df[main_df[VENUE] != ''].groupby(VENUE)[ID].count().reset_index(name='pub count')\n",
    "plt.hist(venue_pubs['pub count'], log=True)\n",
    "plt.xlabel('No. of Publications')\n",
    "plt.ylabel('No. of Venues')\n",
    "plt.title('No. of publications per venue')\n",
    "plt.show()"
   ]
  },
  {
   "cell_type": "markdown",
   "metadata": {},
   "source": [
    "#### ...as well as calculate the mean, standard deviation, median, Q1, and Q3 values..."
   ]
  },
  {
   "cell_type": "code",
   "execution_count": 66,
   "metadata": {
    "ExecuteTime": {
     "end_time": "2018-01-15T00:28:40.357388Z",
     "start_time": "2018-01-15T00:28:40.342931Z"
    }
   },
   "outputs": [
    {
     "data": {
      "text/plain": [
       "count    255689.000000\n",
       "mean          7.730841\n",
       "std          83.380244\n",
       "min           1.000000\n",
       "25%           1.000000\n",
       "50%           1.000000\n",
       "75%           1.000000\n",
       "max       11227.000000\n",
       "Name: pub count, dtype: float64"
      ]
     },
     "execution_count": 66,
     "metadata": {},
     "output_type": "execute_result"
    }
   ],
   "source": [
    "venue_pubs['pub count'].describe()"
   ]
  },
  {
   "cell_type": "markdown",
   "metadata": {},
   "source": [
    "#### ...What is the venue with the largest number of publications in the dataset?"
   ]
  },
  {
   "cell_type": "code",
   "execution_count": 68,
   "metadata": {
    "ExecuteTime": {
     "end_time": "2018-01-15T00:29:26.751190Z",
     "start_time": "2018-01-15T00:29:26.721092Z"
    }
   },
   "outputs": [
    {
     "data": {
      "text/html": [
       "<div>\n",
       "<style>\n",
       "    .dataframe thead tr:only-child th {\n",
       "        text-align: right;\n",
       "    }\n",
       "\n",
       "    .dataframe thead th {\n",
       "        text-align: left;\n",
       "    }\n",
       "\n",
       "    .dataframe tbody tr th {\n",
       "        vertical-align: top;\n",
       "    }\n",
       "</style>\n",
       "<table border=\"1\" class=\"dataframe\">\n",
       "  <thead>\n",
       "    <tr style=\"text-align: right;\">\n",
       "      <th></th>\n",
       "      <th>venue</th>\n",
       "      <th>pub count</th>\n",
       "    </tr>\n",
       "  </thead>\n",
       "  <tbody>\n",
       "    <tr>\n",
       "      <th>111545</th>\n",
       "      <td>IEEE Transactions on Information Theory</td>\n",
       "      <td>11227</td>\n",
       "    </tr>\n",
       "  </tbody>\n",
       "</table>\n",
       "</div>"
      ],
      "text/plain": [
       "                                          venue  pub count\n",
       "111545  IEEE Transactions on Information Theory      11227"
      ]
     },
     "execution_count": 68,
     "metadata": {},
     "output_type": "execute_result"
    }
   ],
   "source": [
    "venue_pubs.sort_values(['pub count'], ascending=False)[:1]"
   ]
  },
  {
   "cell_type": "markdown",
   "metadata": {},
   "source": [
    "#### F. Plot a histogram of the number of references (number of publications a publication refers to) and citations (number of publications referring to a publication) per publication. "
   ]
  },
  {
   "cell_type": "code",
   "execution_count": 71,
   "metadata": {
    "ExecuteTime": {
     "end_time": "2018-01-15T00:44:23.054102Z",
     "start_time": "2018-01-15T00:44:17.394668Z"
    }
   },
   "outputs": [],
   "source": [
    "publication_cits = ref_df[ref_df[REFERENCE] != ''].groupby([REFERENCE])[ID].count().reset_index(name='cit count')\n",
    "publication_refs = ref_df.groupby([ID])[REFERENCE].count().reset_index(name='ref count')"
   ]
  },
  {
   "cell_type": "code",
   "execution_count": 82,
   "metadata": {
    "ExecuteTime": {
     "end_time": "2018-01-15T00:54:02.930351Z",
     "start_time": "2018-01-15T00:54:02.190882Z"
    }
   },
   "outputs": [
    {
     "data": {
      "image/png": "[encoded data removed]",
      "text/plain": [
       "<matplotlib.figure.Figure at 0x7f2da5f14860>"
      ]
     },
     "metadata": {},
     "output_type": "display_data"
    }
   ],
   "source": [
    "f, (ax1, ax2) = plt.subplots(1, 2, sharey=True)\n",
    "\n",
    "ax1.hist(publication_cits['cit count'], log=True)\n",
    "ax1.set_xlabel('No. of Citations')\n",
    "ax1.set_ylabel('No. of Publications')\n",
    "ax1.set_title('Citations per publications')\n",
    "\n",
    "ax2.hist(publication_refs['ref count'], log=True)\n",
    "ax2.set_xlabel('No. of References')\n",
    "ax2.set_title('References per publications')\n",
    "\n",
    "plt.show()"
   ]
  },
  {
   "cell_type": "markdown",
   "metadata": {},
   "source": [
    "#### ...What is the publication with the largest number of references?"
   ]
  },
  {
   "cell_type": "code",
   "execution_count": 87,
   "metadata": {
    "ExecuteTime": {
     "end_time": "2018-01-15T00:56:30.686016Z",
     "start_time": "2018-01-15T00:56:30.586111Z"
    }
   },
   "outputs": [
    {
     "data": {
      "text/html": [
       "<div>\n",
       "<style>\n",
       "    .dataframe thead tr:only-child th {\n",
       "        text-align: right;\n",
       "    }\n",
       "\n",
       "    .dataframe thead th {\n",
       "        text-align: left;\n",
       "    }\n",
       "\n",
       "    .dataframe tbody tr th {\n",
       "        vertical-align: top;\n",
       "    }\n",
       "</style>\n",
       "<table border=\"1\" class=\"dataframe\">\n",
       "  <thead>\n",
       "    <tr style=\"text-align: right;\">\n",
       "      <th></th>\n",
       "      <th>id</th>\n",
       "      <th>ref count</th>\n",
       "    </tr>\n",
       "  </thead>\n",
       "  <tbody>\n",
       "    <tr>\n",
       "      <th>665804</th>\n",
       "      <td>719353</td>\n",
       "      <td>772</td>\n",
       "    </tr>\n",
       "    <tr>\n",
       "      <th>110251</th>\n",
       "      <td>1221204</td>\n",
       "      <td>555</td>\n",
       "    </tr>\n",
       "    <tr>\n",
       "      <th>322076</th>\n",
       "      <td>1583653</td>\n",
       "      <td>527</td>\n",
       "    </tr>\n",
       "    <tr>\n",
       "      <th>195056</th>\n",
       "      <td>1376720</td>\n",
       "      <td>524</td>\n",
       "    </tr>\n",
       "    <tr>\n",
       "      <th>110250</th>\n",
       "      <td>1221200</td>\n",
       "      <td>523</td>\n",
       "    </tr>\n",
       "  </tbody>\n",
       "</table>\n",
       "</div>"
      ],
      "text/plain": [
       "             id  ref count\n",
       "665804   719353        772\n",
       "110251  1221204        555\n",
       "322076  1583653        527\n",
       "195056  1376720        524\n",
       "110250  1221200        523"
      ]
     },
     "execution_count": 87,
     "metadata": {},
     "output_type": "execute_result"
    }
   ],
   "source": [
    "publication_refs.sort_values(['ref count'], ascending=False)[:5]"
   ]
  },
  {
   "cell_type": "markdown",
   "metadata": {},
   "source": [
    "#### What is the publication with the largest number of citations?"
   ]
  },
  {
   "cell_type": "code",
   "execution_count": 88,
   "metadata": {
    "ExecuteTime": {
     "end_time": "2018-01-15T00:56:32.451169Z",
     "start_time": "2018-01-15T00:56:32.332819Z"
    }
   },
   "outputs": [
    {
     "data": {
      "text/html": [
       "<div>\n",
       "<style>\n",
       "    .dataframe thead tr:only-child th {\n",
       "        text-align: right;\n",
       "    }\n",
       "\n",
       "    .dataframe thead th {\n",
       "        text-align: left;\n",
       "    }\n",
       "\n",
       "    .dataframe tbody tr th {\n",
       "        vertical-align: top;\n",
       "    }\n",
       "</style>\n",
       "<table border=\"1\" class=\"dataframe\">\n",
       "  <thead>\n",
       "    <tr style=\"text-align: right;\">\n",
       "      <th></th>\n",
       "      <th>reference</th>\n",
       "      <th>cit count</th>\n",
       "    </tr>\n",
       "  </thead>\n",
       "  <tbody>\n",
       "    <tr>\n",
       "      <th>526606</th>\n",
       "      <td>408396</td>\n",
       "      <td>7753</td>\n",
       "    </tr>\n",
       "    <tr>\n",
       "      <th>512286</th>\n",
       "      <td>369236</td>\n",
       "      <td>5891</td>\n",
       "    </tr>\n",
       "    <tr>\n",
       "      <th>403026</th>\n",
       "      <td>190581</td>\n",
       "      <td>4748</td>\n",
       "    </tr>\n",
       "    <tr>\n",
       "      <th>180759</th>\n",
       "      <td>136350</td>\n",
       "      <td>4399</td>\n",
       "    </tr>\n",
       "    <tr>\n",
       "      <th>309887</th>\n",
       "      <td>168251</td>\n",
       "      <td>4336</td>\n",
       "    </tr>\n",
       "  </tbody>\n",
       "</table>\n",
       "</div>"
      ],
      "text/plain": [
       "       reference  cit count\n",
       "526606    408396       7753\n",
       "512286    369236       5891\n",
       "403026    190581       4748\n",
       "180759    136350       4399\n",
       "309887    168251       4336"
      ]
     },
     "execution_count": 88,
     "metadata": {},
     "output_type": "execute_result"
    }
   ],
   "source": [
    "publication_cits.sort_values(['cit count'], ascending=False)[:5]"
   ]
  },
  {
   "cell_type": "markdown",
   "metadata": {},
   "source": [
    "# Do these make sense?"
   ]
  },
  {
   "cell_type": "code",
   "execution_count": null,
   "metadata": {
    "collapsed": true
   },
   "outputs": [],
   "source": []
  },
  {
   "cell_type": "markdown",
   "metadata": {},
   "source": [
    "#### G. Calculate the so called “impact” factor for each venue. To do so, calculate the total number of citations for the publications in the venue, and then divide this number by the number of publications for the venue."
   ]
  },
  {
   "cell_type": "code",
   "execution_count": null,
   "metadata": {
    "collapsed": true
   },
   "outputs": [],
   "source": []
  },
  {
   "cell_type": "markdown",
   "metadata": {},
   "source": [
    "#### Plot a histogram of the results"
   ]
  },
  {
   "cell_type": "code",
   "execution_count": null,
   "metadata": {
    "collapsed": true
   },
   "outputs": [],
   "source": []
  }
 ],
 "metadata": {
  "kernelspec": {
   "display_name": "Python 3",
   "language": "python",
   "name": "python3"
  },
  "language_info": {
   "codemirror_mode": {
    "name": "ipython",
    "version": 3
   },
   "file_extension": ".py",
   "mimetype": "text/x-python",
   "name": "python",
   "nbconvert_exporter": "python",
   "pygments_lexer": "ipython3",
   "version": "3.6.3"
  }
 },
 "nbformat": 4,
 "nbformat_minor": 2
}
