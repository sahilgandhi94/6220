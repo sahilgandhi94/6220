{
 "cells": [
  {
   "cell_type": "code",
   "execution_count": 1,
   "metadata": {
    "ExecuteTime": {
     "end_time": "2018-01-19T14:34:29.757604Z",
     "start_time": "2018-01-19T14:34:24.583979Z"
    }
   },
   "outputs": [],
   "source": [
    "import matplotlib.pyplot as plt\n",
    "import numpy as np\n",
    "import pandas as pd\n",
    "import time\n",
    "\n",
    "from collections import defaultdict\n",
    "from copy import deepcopy\n",
    "\n",
    "# constants\n",
    "# DATA_LOC = \"/home/ubuntu/projects/datasets/AP_train.txt\"\n",
    "DATA_LOC = \"/Users/sahilgandhi/Datasets/AP_train.txt\"\n",
    "\n",
    "# data formats\n",
    "FORMAT_ID = \"#index\"\n",
    "FORMAT_PAPER_TITLE = \"#*\"\n",
    "FORMAT_AUTHORS = \"#@\"\n",
    "FORMAT_YEAR = \"#t\"\n",
    "FORMAT_VENUE = \"#c\"\n",
    "FORMAT_REFERENCES = \"#%\"\n",
    "FORMAT_ABSTRACT = \"#!\"\n",
    "\n",
    "# data keys\n",
    "ID = \"id\"\n",
    "TITLE = \"title\"\n",
    "AUTHOR = \"author\"\n",
    "YEAR = \"year\"\n",
    "VENUE = \"venue\"\n",
    "REFERENCE = \"reference\"\n",
    "ABSTRACT = \"abstract\""
   ]
  },
  {
   "cell_type": "code",
   "execution_count": 3,
   "metadata": {
    "ExecuteTime": {
     "end_time": "2018-01-19T14:37:00.607165Z",
     "start_time": "2018-01-19T14:35:41.248128Z"
    },
    "scrolled": true
   },
   "outputs": [],
   "source": [
    "def generatetables():\n",
    "    main_table = list()\n",
    "    author_table = list()\n",
    "    reference_table = list()\n",
    "    datum = dict()\n",
    "    with open(DATA_LOC, \"r\", encoding='utf-8') as file:\n",
    "        for line in file.readlines():            \n",
    "            if FORMAT_ID in line:\n",
    "                # yield already existing datum and continue\n",
    "                if len(datum.keys()) > 0:\n",
    "                    main_table.append(datum)\n",
    "                datum = dict() # re-initialize local datum\n",
    "                datum[ID] = line.strip(FORMAT_ID).strip()\n",
    "            elif FORMAT_PAPER_TITLE in line:\n",
    "                datum[TITLE] = line.strip(FORMAT_PAPER_TITLE).strip()\n",
    "            elif FORMAT_REFERENCES in line:\n",
    "                reference_table.append({ID: datum[ID], REFERENCE: line.strip(FORMAT_REFERENCES).strip()})\n",
    "            elif FORMAT_AUTHORS in line: \n",
    "                for author in line.strip(FORMAT_AUTHORS).strip().split(';'):\n",
    "                    author_table.append({ID: datum[ID], AUTHOR: author.strip()})                    \n",
    "            elif FORMAT_YEAR in line: \n",
    "                datum[YEAR] = line.strip(FORMAT_YEAR).strip()\n",
    "            elif FORMAT_VENUE in line: \n",
    "                datum[VENUE] = line.strip(FORMAT_VENUE).strip()\n",
    "            elif FORMAT_ABSTRACT in line: \n",
    "                datum[ABSTRACT] = line.strip(FORMAT_ABSTRACT).strip()\n",
    "    return main_table, author_table, reference_table\n",
    "\n",
    "# generate all tables\n",
    "main, author, cit = generatetables()\n"
   ]
  },
  {
   "cell_type": "code",
   "execution_count": 4,
   "metadata": {
    "ExecuteTime": {
     "end_time": "2018-01-19T14:40:48.765804Z",
     "start_time": "2018-01-19T14:40:21.123506Z"
    }
   },
   "outputs": [
    {
     "name": "stdout",
     "output_type": "stream",
     "text": [
      "\n",
      "Length of Main DF: 1976814\n",
      "\n",
      "Length of Author DF: 4909851\n",
      "\n",
      "Length of References DF: 7250328\n",
      "\n",
      "Length of Consolidated DF: 23565643\n",
      "\n"
     ]
    }
   ],
   "source": [
    "# combine all tables and compute data\n",
    "main_df = pd.DataFrame(main, columns={ID, TITLE, YEAR, VENUE, ABSTRACT})\n",
    "author_df = pd.DataFrame(author, columns={ID, AUTHOR})\n",
    "ref_df = pd.DataFrame(cit, columns={ID, REFERENCE})\n",
    "\n",
    "consolidated = main_df.merge(author_df, how='outer', on=ID).merge(ref_df, how='outer', on=ID)\n",
    "\n",
    "print('''\n",
    "Length of Main DF: {0}\\n\n",
    "Length of Author DF: {1}\\n\n",
    "Length of References DF: {2}\\n\n",
    "Length of Consolidated DF: {3}\n",
    "'''.format(len(main_df), len(author_df), len(ref_df), len(consolidated)))"
   ]
  },
  {
   "cell_type": "markdown",
   "metadata": {
    "ExecuteTime": {
     "end_time": "2018-01-14T18:51:42.450162Z",
     "start_time": "2018-01-14T18:51:42.444808Z"
    }
   },
   "source": [
    "### A. Compute the number of distinct authors, publication venues, publications, and citations/references"
   ]
  },
  {
   "cell_type": "code",
   "execution_count": 5,
   "metadata": {
    "ExecuteTime": {
     "end_time": "2018-01-19T14:44:43.985672Z",
     "start_time": "2018-01-19T14:44:38.767970Z"
    }
   },
   "outputs": [
    {
     "name": "stdout",
     "output_type": "stream",
     "text": [
      "\n",
      "Distinct Authors: 1478737\n",
      "\n",
      "Distinct Publication venues: 255690\n",
      "\n",
      "Distinct Publications: 1929486\n",
      "\n",
      "Distinct references: 871091\n",
      "\n"
     ]
    }
   ],
   "source": [
    "# distinct authors\n",
    "print('''\n",
    "Distinct Authors: {0}\\n\n",
    "Distinct Publication venues: {1}\\n\n",
    "Distinct Publications: {2}\\n\n",
    "Distinct references: {3}\n",
    "'''.format(\n",
    "    len(author_df.author.unique()),\n",
    "    len(main_df.venue.unique()),\n",
    "    len(main_df.title.unique()),\n",
    "    len(ref_df.reference.unique())\n",
    "))"
   ]
  },
  {
   "cell_type": "markdown",
   "metadata": {},
   "source": [
    "### B. Are these numbers likely to be accurate? As an example look up all the publications venue names associated with the conference “Principles and Practice of Knowledge Discovery in Databases”13 – what do you notice?"
   ]
  },
  {
   "cell_type": "code",
   "execution_count": 6,
   "metadata": {
    "ExecuteTime": {
     "end_time": "2018-01-19T14:46:06.215881Z",
     "start_time": "2018-01-19T14:46:04.254424Z"
    }
   },
   "outputs": [
    {
     "data": {
      "text/html": [
       "<div>\n",
       "<style scoped>\n",
       "    .dataframe tbody tr th:only-of-type {\n",
       "        vertical-align: middle;\n",
       "    }\n",
       "\n",
       "    .dataframe tbody tr th {\n",
       "        vertical-align: top;\n",
       "    }\n",
       "\n",
       "    .dataframe thead th {\n",
       "        text-align: right;\n",
       "    }\n",
       "</style>\n",
       "<table border=\"1\" class=\"dataframe\">\n",
       "  <thead>\n",
       "    <tr style=\"text-align: right;\">\n",
       "      <th></th>\n",
       "      <th>venue</th>\n",
       "      <th>title</th>\n",
       "      <th>id</th>\n",
       "      <th>year</th>\n",
       "      <th>abstract</th>\n",
       "    </tr>\n",
       "  </thead>\n",
       "  <tbody>\n",
       "    <tr>\n",
       "      <th>799595</th>\n",
       "      <td>PKDD '04 Proceedings of the 8th European Confe...</td>\n",
       "      <td>Summarization of dynamic content in web collec...</td>\n",
       "      <td>799597</td>\n",
       "      <td>2004</td>\n",
       "      <td>This paper describes a new research proposal o...</td>\n",
       "    </tr>\n",
       "    <tr>\n",
       "      <th>799732</th>\n",
       "      <td>PKDD '04 Proceedings of the 8th European Confe...</td>\n",
       "      <td>Proceedings of the 8th European Conference on ...</td>\n",
       "      <td>799734</td>\n",
       "      <td>2004</td>\n",
       "      <td>NaN</td>\n",
       "    </tr>\n",
       "    <tr>\n",
       "      <th>799733</th>\n",
       "      <td>PKDD '04 Proceedings of the 8th European Confe...</td>\n",
       "      <td>Random matrices in data analysis</td>\n",
       "      <td>799735</td>\n",
       "      <td>2004</td>\n",
       "      <td>We show how carefully crafted random matrices ...</td>\n",
       "    </tr>\n",
       "    <tr>\n",
       "      <th>799734</th>\n",
       "      <td>PKDD '04 Proceedings of the 8th European Confe...</td>\n",
       "      <td>Data privacy</td>\n",
       "      <td>799736</td>\n",
       "      <td>2004</td>\n",
       "      <td>There is increasing need to build information ...</td>\n",
       "    </tr>\n",
       "    <tr>\n",
       "      <th>799735</th>\n",
       "      <td>PKDD '04 Proceedings of the 8th European Confe...</td>\n",
       "      <td>Breaking through the syntax barrier: searching...</td>\n",
       "      <td>799737</td>\n",
       "      <td>2004</td>\n",
       "      <td>The next wave in search technology will be dri...</td>\n",
       "    </tr>\n",
       "  </tbody>\n",
       "</table>\n",
       "</div>"
      ],
      "text/plain": [
       "                                                    venue  \\\n",
       "799595  PKDD '04 Proceedings of the 8th European Confe...   \n",
       "799732  PKDD '04 Proceedings of the 8th European Confe...   \n",
       "799733  PKDD '04 Proceedings of the 8th European Confe...   \n",
       "799734  PKDD '04 Proceedings of the 8th European Confe...   \n",
       "799735  PKDD '04 Proceedings of the 8th European Confe...   \n",
       "\n",
       "                                                    title      id  year  \\\n",
       "799595  Summarization of dynamic content in web collec...  799597  2004   \n",
       "799732  Proceedings of the 8th European Conference on ...  799734  2004   \n",
       "799733                   Random matrices in data analysis  799735  2004   \n",
       "799734                                       Data privacy  799736  2004   \n",
       "799735  Breaking through the syntax barrier: searching...  799737  2004   \n",
       "\n",
       "                                                 abstract  \n",
       "799595  This paper describes a new research proposal o...  \n",
       "799732                                                NaN  \n",
       "799733  We show how carefully crafted random matrices ...  \n",
       "799734  There is increasing need to build information ...  \n",
       "799735  The next wave in search technology will be dri...  "
      ]
     },
     "execution_count": 6,
     "metadata": {},
     "output_type": "execute_result"
    }
   ],
   "source": [
    "main_df[main_df.venue.str.contains('Principles and Practice of Knowledge Discovery in Databases')][:5]"
   ]
  },
  {
   "cell_type": "markdown",
   "metadata": {
    "ExecuteTime": {
     "end_time": "2018-01-14T19:09:54.859867Z",
     "start_time": "2018-01-14T19:09:54.855322Z"
    }
   },
   "source": [
    "No, the results are not accurate. As we can see in the results above, the strings have some form of 'year' mentioned in them. So even if the actual venue is not different, the string representation of the venue changes because of the change in the year/date."
   ]
  },
  {
   "cell_type": "markdown",
   "metadata": {},
   "source": [
    "### C. For each author, construct the list of publications. Plot a histogram of the number of publications per author (use a logarithmic scale on the y axis)"
   ]
  },
  {
   "cell_type": "code",
   "execution_count": null,
   "metadata": {
    "ExecuteTime": {
     "start_time": "2018-01-19T14:46:19.888Z"
    },
    "scrolled": true
   },
   "outputs": [],
   "source": [
    "_pubs, _authors = author_df[author_df.author != ''].sort_values([AUTHOR]).values.T\n",
    "_keys, _indices = np.unique(_authors, True)\n",
    "author_pubs = pd.DataFrame({AUTHOR: _keys, 'publications': [list(x) for x in np.split(_pubs, _indices[1:])], 'pub count': [len(list(x)) for x in np.split(_pubs, _indices[1:])]})"
   ]
  },
  {
   "cell_type": "code",
   "execution_count": null,
   "metadata": {
    "ExecuteTime": {
     "start_time": "2018-01-15T03:08:47.110Z"
    },
    "scrolled": false
   },
   "outputs": [],
   "source": [
    "plt.hist(author_pubs['pub count'], log=True)\n",
    "plt.xlabel('No. of Publications')\n",
    "plt.ylabel('No. of Authors')\n",
    "plt.title('No. of publications per author')\n",
    "plt.show()"
   ]
  },
  {
   "cell_type": "markdown",
   "metadata": {},
   "source": [
    "### D. Calculate the mean and standard deviation of the number of publications per author. Also calculate the Q1 (1st quartile14), Q2 (2nd quartile, or median) and Q3 (3rd quartile) values."
   ]
  },
  {
   "cell_type": "code",
   "execution_count": null,
   "metadata": {
    "ExecuteTime": {
     "start_time": "2018-01-15T03:08:47.114Z"
    }
   },
   "outputs": [],
   "source": [
    "author_pubs['pub count'].describe()"
   ]
  },
  {
   "cell_type": "markdown",
   "metadata": {},
   "source": [
    "#### Compare the median to the mean and explain the difference between the two values based on the standard deviation and the 1st and 3rd quartiles.\n",
    "\n",
    "The vast difference between the median and the mean is because the max is very high which skews the mean, but the majority of the authors have 'no. of publications' closes to 1 (the median)."
   ]
  },
  {
   "cell_type": "markdown",
   "metadata": {},
   "source": [
    "### E. Now plot a histogram of the number of publications per venue.."
   ]
  },
  {
   "cell_type": "code",
   "execution_count": null,
   "metadata": {
    "ExecuteTime": {
     "start_time": "2018-01-15T03:08:47.119Z"
    }
   },
   "outputs": [],
   "source": [
    "_pubs, _venues = main_df[main_df[VENUE] != ''][[ID, VENUE]].sort_values([VENUE]).values.T\n",
    "_keys, _indices = np.unique(_venues, True)\n",
    "venue_pubs = pd.DataFrame({VENUE: _keys, 'publications': [list(x) for x in np.split(_pubs, _indices[1:])], 'pub_count': [len(list(x)) for x in np.split(_pubs, _indices[1:])]})\n",
    "\n",
    "plt.hist(venue_pubs['pub_count'], log=True)\n",
    "plt.xlabel('No. of Publications')\n",
    "plt.ylabel('No. of Venues')\n",
    "plt.title('No. of publications per venue')\n",
    "plt.show()"
   ]
  },
  {
   "cell_type": "markdown",
   "metadata": {},
   "source": [
    "#### ...as well as calculate the mean, standard deviation, median, Q1, and Q3 values..."
   ]
  },
  {
   "cell_type": "code",
   "execution_count": null,
   "metadata": {
    "ExecuteTime": {
     "start_time": "2018-01-15T03:08:47.123Z"
    }
   },
   "outputs": [],
   "source": [
    "venue_pubs['pub_count'].describe()"
   ]
  },
  {
   "cell_type": "markdown",
   "metadata": {},
   "source": [
    "#### ...What is the venue with the largest number of publications in the dataset?"
   ]
  },
  {
   "cell_type": "code",
   "execution_count": null,
   "metadata": {
    "ExecuteTime": {
     "start_time": "2018-01-15T03:08:47.129Z"
    }
   },
   "outputs": [],
   "source": [
    "venue_pubs.sort_values(['pub_count'], ascending=False)[:1]"
   ]
  },
  {
   "cell_type": "markdown",
   "metadata": {},
   "source": [
    "#### F. Plot a histogram of the number of references (number of publications a publication refers to) and citations (number of publications referring to a publication) per publication. "
   ]
  },
  {
   "cell_type": "code",
   "execution_count": null,
   "metadata": {
    "ExecuteTime": {
     "start_time": "2018-01-15T03:08:47.133Z"
    },
    "collapsed": true
   },
   "outputs": [],
   "source": [
    "publication_cits = ref_df[ref_df[REFERENCE] != ''].groupby([REFERENCE])[ID].count().reset_index(name='cit_count')\n",
    "publication_refs = ref_df.groupby([ID])[REFERENCE].count().reset_index(name='ref_count')"
   ]
  },
  {
   "cell_type": "code",
   "execution_count": null,
   "metadata": {
    "ExecuteTime": {
     "start_time": "2018-01-15T03:08:47.136Z"
    }
   },
   "outputs": [],
   "source": [
    "f, (ax1, ax2) = plt.subplots(1, 2, sharey=True)\n",
    "\n",
    "ax1.hist(publication_cits['cit_count'], log=True)\n",
    "ax1.set_xlabel('No. of Citations')\n",
    "ax1.set_ylabel('No. of Publications')\n",
    "ax1.set_title('Citations per publications')\n",
    "\n",
    "ax2.hist(publication_refs['ref_count'], log=True)\n",
    "ax2.set_xlabel('No. of References')\n",
    "ax2.set_title('References per publications')\n",
    "\n",
    "plt.show()"
   ]
  },
  {
   "cell_type": "markdown",
   "metadata": {},
   "source": [
    "#### ...What is the publication with the largest number of references?"
   ]
  },
  {
   "cell_type": "code",
   "execution_count": null,
   "metadata": {
    "ExecuteTime": {
     "start_time": "2018-01-15T03:08:47.140Z"
    }
   },
   "outputs": [],
   "source": [
    "publication_refs.sort_values(['ref_count'], ascending=False)[:5]"
   ]
  },
  {
   "cell_type": "markdown",
   "metadata": {},
   "source": [
    "#### What is the publication with the largest number of citations?"
   ]
  },
  {
   "cell_type": "code",
   "execution_count": null,
   "metadata": {
    "ExecuteTime": {
     "start_time": "2018-01-15T03:08:47.145Z"
    }
   },
   "outputs": [],
   "source": [
    "publication_cits.sort_values(['cit_count'], ascending=False)[:5]"
   ]
  },
  {
   "cell_type": "markdown",
   "metadata": {},
   "source": [
    "# Do these make sense?"
   ]
  },
  {
   "cell_type": "code",
   "execution_count": null,
   "metadata": {
    "collapsed": true
   },
   "outputs": [],
   "source": []
  },
  {
   "cell_type": "markdown",
   "metadata": {},
   "source": [
    "#### G. Calculate the so called “impact” factor for each venue. To do so, calculate the total number of citations for the publications in the venue, and then divide this number by the number of publications for the venue. Plot a histogram of the results"
   ]
  },
  {
   "cell_type": "code",
   "execution_count": null,
   "metadata": {
    "ExecuteTime": {
     "start_time": "2018-01-15T03:08:47.150Z"
    },
    "collapsed": true
   },
   "outputs": [],
   "source": [
    "# impact = average citation for venue\n",
    "\n",
    "pub_cit_dict = {row.reference:row.cit_count for row in publication_cits.itertuples()}\n",
    "\n",
    "impact = list()\n",
    "for row in venue_pubs.itertuples():\n",
    "    tmp_dict = {VENUE: row.venue}\n",
    "    _lst = list()\n",
    "    for id in row.publications:\n",
    "        _val = pub_cit_dict.get(id, None)\n",
    "        if _val:\n",
    "            _lst.append(_val)\n",
    "    tmp_dict.update({'impact': 0 if len(_lst) == 0 else sum(_lst)/float(len(_lst))})\n",
    "    impact.append(tmp_dict)\n"
   ]
  },
  {
   "cell_type": "code",
   "execution_count": 1,
   "metadata": {
    "ExecuteTime": {
     "end_time": "2018-01-19T00:30:23.211025Z",
     "start_time": "2018-01-19T00:30:23.032105Z"
    }
   },
   "outputs": [
    {
     "ename": "NameError",
     "evalue": "name 'plt' is not defined",
     "output_type": "error",
     "traceback": [
      "\u001b[0;31m---------------------------------------------------------------------------\u001b[0m",
      "\u001b[0;31mNameError\u001b[0m                                 Traceback (most recent call last)",
      "\u001b[0;32m<ipython-input-1-e0fecb6eed0b>\u001b[0m in \u001b[0;36m<module>\u001b[0;34m()\u001b[0m\n\u001b[0;32m----> 1\u001b[0;31m \u001b[0mplt\u001b[0m\u001b[0;34m.\u001b[0m\u001b[0mhist\u001b[0m\u001b[0;34m(\u001b[0m\u001b[0;34m[\u001b[0m\u001b[0mx\u001b[0m\u001b[0;34m[\u001b[0m\u001b[0;34m'impact'\u001b[0m\u001b[0;34m]\u001b[0m \u001b[0;32mfor\u001b[0m \u001b[0mx\u001b[0m \u001b[0;32min\u001b[0m \u001b[0mimpact\u001b[0m\u001b[0;34m]\u001b[0m\u001b[0;34m,\u001b[0m \u001b[0mlog\u001b[0m\u001b[0;34m=\u001b[0m\u001b[0;32mTrue\u001b[0m\u001b[0;34m)\u001b[0m\u001b[0;34m\u001b[0m\u001b[0m\n\u001b[0m\u001b[1;32m      2\u001b[0m \u001b[0mplt\u001b[0m\u001b[0;34m.\u001b[0m\u001b[0mxlabel\u001b[0m\u001b[0;34m(\u001b[0m\u001b[0;34m'Impact'\u001b[0m\u001b[0;34m)\u001b[0m\u001b[0;34m\u001b[0m\u001b[0m\n\u001b[1;32m      3\u001b[0m \u001b[0mplt\u001b[0m\u001b[0;34m.\u001b[0m\u001b[0mylabel\u001b[0m\u001b[0;34m(\u001b[0m\u001b[0;34m'No. of Venues'\u001b[0m\u001b[0;34m)\u001b[0m\u001b[0;34m\u001b[0m\u001b[0m\n\u001b[1;32m      4\u001b[0m \u001b[0mplt\u001b[0m\u001b[0;34m.\u001b[0m\u001b[0mtitle\u001b[0m\u001b[0;34m(\u001b[0m\u001b[0;34m'Impact per venue'\u001b[0m\u001b[0;34m)\u001b[0m\u001b[0;34m\u001b[0m\u001b[0m\n\u001b[1;32m      5\u001b[0m \u001b[0mplt\u001b[0m\u001b[0;34m.\u001b[0m\u001b[0mshow\u001b[0m\u001b[0;34m(\u001b[0m\u001b[0;34m)\u001b[0m\u001b[0;34m\u001b[0m\u001b[0m\n",
      "\u001b[0;31mNameError\u001b[0m: name 'plt' is not defined"
     ]
    }
   ],
   "source": [
    "plt.hist([x['impact'] for x in impact], log=True)\n",
    "plt.xlabel('Impact')\n",
    "plt.ylabel('No. of Venues')\n",
    "plt.title('Impact per venue')\n",
    "plt.show()"
   ]
  },
  {
   "cell_type": "markdown",
   "metadata": {},
   "source": [
    "#### H. What is the venue with the highest apparent impact factor? "
   ]
  },
  {
   "cell_type": "code",
   "execution_count": null,
   "metadata": {
    "ExecuteTime": {
     "start_time": "2018-01-15T03:08:47.156Z"
    }
   },
   "outputs": [],
   "source": [
    "sorted(impact, key=lambda x:x['impact'], reverse=True)[:1]"
   ]
  },
  {
   "cell_type": "markdown",
   "metadata": {},
   "source": [
    "#### Do you believe this number? (http://mdanderson.libanswers.com/faq/26159)"
   ]
  },
  {
   "cell_type": "code",
   "execution_count": null,
   "metadata": {
    "collapsed": true
   },
   "outputs": [],
   "source": []
  },
  {
   "cell_type": "markdown",
   "metadata": {},
   "source": [
    "#### I. Now repeat the calculation from item b., but restrict the calculation to venues with at least 10 publications. How does your histogram change? "
   ]
  },
  {
   "cell_type": "code",
   "execution_count": null,
   "metadata": {
    "ExecuteTime": {
     "start_time": "2018-01-15T03:08:47.160Z"
    },
    "collapsed": true
   },
   "outputs": [],
   "source": [
    "pub_cit_dict = {row.reference:row.cit_count for row in publication_cits.itertuples()}\n",
    "\n",
    "restricted_impact = list()\n",
    "for row in venue_pubs.itertuples():\n",
    "    if len(row.publications) < 10 :\n",
    "        continue\n",
    "    tmp_dict = {VENUE: row.venue}\n",
    "    _lst = list()\n",
    "    _raw= list()\n",
    "    for id in row.publications:\n",
    "        _val = pub_cit_dict.get(id, None)\n",
    "        if _val:\n",
    "            _raw.append({'publication': id, 'citation_count': _val})\n",
    "            _lst.append(_val)\n",
    "    tmp_dict.update({'impact': 0 if len(_lst) == 0 else sum(_lst)/float(len(_lst)),\n",
    "                     'raw': _raw})\n",
    "    restricted_impact.append(tmp_dict)"
   ]
  },
  {
   "cell_type": "code",
   "execution_count": null,
   "metadata": {
    "ExecuteTime": {
     "start_time": "2018-01-15T03:08:47.164Z"
    }
   },
   "outputs": [],
   "source": [
    "plt.hist([x['impact'] for x in restricted_impact], log=True)\n",
    "plt.xlabel('Impact')\n",
    "plt.ylabel('No. of Venues')\n",
    "plt.title('Impact per venue')\n",
    "plt.show()"
   ]
  },
  {
   "cell_type": "markdown",
   "metadata": {},
   "source": [
    "#### List the citation counts for all publications from the venue with the highest impact factor."
   ]
  },
  {
   "cell_type": "code",
   "execution_count": null,
   "metadata": {
    "ExecuteTime": {
     "start_time": "2018-01-15T03:08:47.170Z"
    }
   },
   "outputs": [],
   "source": [
    "sorted(restricted_impact, key=lambda x:x['impact'], reverse=True)[:1]"
   ]
  },
  {
   "cell_type": "markdown",
   "metadata": {},
   "source": [
    "#### How does the impact factor (mean number of citations) compare to the median number of citations?"
   ]
  },
  {
   "cell_type": "code",
   "execution_count": null,
   "metadata": {
    "collapsed": true
   },
   "outputs": [],
   "source": []
  },
  {
   "cell_type": "markdown",
   "metadata": {},
   "source": [
    "#### J. Finally, construct a list of publications for each publication year. Use this list to plot the average number of references and average number of citations per publication as a function of time. Explain the differences you see in the trends."
   ]
  },
  {
   "cell_type": "code",
   "execution_count": null,
   "metadata": {
    "collapsed": true
   },
   "outputs": [],
   "source": []
  }
 ],
 "metadata": {
  "kernelspec": {
   "display_name": "Python 3",
   "language": "python",
   "name": "python3"
  },
  "language_info": {
   "codemirror_mode": {
    "name": "ipython",
    "version": 3
   },
   "file_extension": ".py",
   "mimetype": "text/x-python",
   "name": "python",
   "nbconvert_exporter": "python",
   "pygments_lexer": "ipython3",
   "version": "3.6.4"
  }
 },
 "nbformat": 4,
 "nbformat_minor": 2
}
