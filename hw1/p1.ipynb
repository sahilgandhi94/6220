{
 "cells": [
  {
   "cell_type": "code",
   "execution_count": 38,
   "metadata": {
    "collapsed": true,
    "scrolled": true
   },
   "outputs": [],
   "source": [
    "import pandas as pd\n",
    "import numpy as np\n",
    "import time\n",
    "\n",
    "from copy import deepcopy\n",
    "\n",
    "# constants\n",
    "DATA_LOC = \"/home/ubuntu/projects/datasets/AP_test.txt\"\n",
    "\n",
    "# data formats\n",
    "FORMAT_ID = \"#index\"\n",
    "FORMAT_PAPER_TITLE = \"#*\"\n",
    "FORMAT_AUTHORS = \"#@\"\n",
    "FORMAT_YEAR = \"#t\"\n",
    "FORMAT_VENUE = \"#c\"\n",
    "FORMAT_CITATIONS = \"#%\"\n",
    "FORMAT_ABSTRACT = \"#!\"\n",
    "\n",
    "# data keys\n",
    "ID = \"id\"\n",
    "TITLE = \"title\"\n",
    "AUTHOR = \"author\"\n",
    "YEAR = \"year\"\n",
    "VENUE = \"venue\"\n",
    "CITATION = \"citation\"\n",
    "ABSTRACT = \"abstract\"\n"
   ]
  },
  {
   "cell_type": "code",
   "execution_count": 39,
   "metadata": {
    "collapsed": true
   },
   "outputs": [],
   "source": [
    "def generatetables():\n",
    "    main_table = list()\n",
    "    author_table = list()\n",
    "    citation_table = list()\n",
    "    datum = dict()\n",
    "    with open(DATA_LOC, \"r\", encoding='utf-8') as file:\n",
    "        for line in file.readlines():            \n",
    "            if FORMAT_ID in line:\n",
    "                # yield already existing datum and continue\n",
    "                if len(datum.keys()) > 0:\n",
    "                    main_table.append(datum)\n",
    "                datum = dict() # re-initialize local datum\n",
    "                datum[ID] = line.strip(FORMAT_ID).strip()\n",
    "            elif FORMAT_PAPER_TITLE in line:\n",
    "                datum[TITLE] = line.strip(FORMAT_PAPER_TITLE).strip()\n",
    "            elif FORMAT_CITATIONS in line:\n",
    "                citation_table.append({ID: datum[ID], CITATION: line.strip(FORMAT_CITATIONS).strip()})\n",
    "            elif FORMAT_AUTHORS in line: \n",
    "                for author in line.strip(FORMAT_AUTHORS).strip().split(';'):\n",
    "                    author_table.append({ID: datum[ID], AUTHOR: author})                    \n",
    "            elif FORMAT_YEAR in line: \n",
    "                datum[YEAR] = line.strip(FORMAT_YEAR).strip()\n",
    "            elif FORMAT_VENUE in line: \n",
    "                datum[VENUE] = line.strip(FORMAT_VENUE).strip()\n",
    "            elif FORMAT_ABSTRACT in line: \n",
    "                datum[ABSTRACT] = line.strip(FORMAT_ABSTRACT).strip()\n",
    "    return main_table, author_table, citation_table"
   ]
  },
  {
   "cell_type": "code",
   "execution_count": 40,
   "metadata": {},
   "outputs": [
    {
     "name": "stdout",
     "output_type": "stream",
     "text": [
      "0.004236459732055664\n"
     ]
    }
   ],
   "source": [
    "# generate all tables\n",
    "start = time.time()\n",
    "main, author, cit = generatetables()\n",
    "print(time.time()-start)"
   ]
  },
  {
   "cell_type": "code",
   "execution_count": 41,
   "metadata": {},
   "outputs": [
    {
     "name": "stdout",
     "output_type": "stream",
     "text": [
      "0.05514383316040039\n"
     ]
    }
   ],
   "source": [
    "# combine all tables and compute data\n",
    "start = time.time()\n",
    "main_df = pd.DataFrame(main, columns={ID, TITLE, YEAR, VENUE, ABSTRACT})\n",
    "author_df = pd.DataFrame(author, columns={ID, AUTHOR})\n",
    "cit_df = pd.DataFrame(cit, columns={ID, CITATION})\n",
    "data = main_df.merge(author_df, how='outer', on=ID).merge(cit_df, how='outer', on=ID)\n",
    "print(time.time()-start)"
   ]
  },
  {
   "cell_type": "code",
   "execution_count": 42,
   "metadata": {},
   "outputs": [
    {
     "data": {
      "text/plain": [
       "442"
      ]
     },
     "execution_count": 42,
     "metadata": {},
     "output_type": "execute_result"
    }
   ],
   "source": [
    "#total count of data\n",
    "len(data)"
   ]
  },
  {
   "cell_type": "code",
   "execution_count": 43,
   "metadata": {},
   "outputs": [
    {
     "data": {
      "text/plain": [
       "215"
      ]
     },
     "execution_count": 43,
     "metadata": {},
     "output_type": "execute_result"
    }
   ],
   "source": [
    "# solution A\n",
    "\n",
    "# distinct authors\n",
    "len(data.author.unique())"
   ]
  },
  {
   "cell_type": "code",
   "execution_count": 44,
   "metadata": {},
   "outputs": [
    {
     "data": {
      "text/plain": [
       "64"
      ]
     },
     "execution_count": 44,
     "metadata": {},
     "output_type": "execute_result"
    }
   ],
   "source": [
    "# distinct venues\n",
    "len(data.venue.unique())"
   ]
  },
  {
   "cell_type": "code",
   "execution_count": 45,
   "metadata": {},
   "outputs": [
    {
     "data": {
      "text/plain": [
       "142"
      ]
     },
     "execution_count": 45,
     "metadata": {},
     "output_type": "execute_result"
    }
   ],
   "source": [
    "# distinct publications\n",
    "len(data.title.unique())"
   ]
  },
  {
   "cell_type": "code",
   "execution_count": 46,
   "metadata": {},
   "outputs": [
    {
     "data": {
      "text/plain": [
       "140"
      ]
     },
     "execution_count": 46,
     "metadata": {},
     "output_type": "execute_result"
    }
   ],
   "source": [
    "# distinct citations\n",
    "len(data.citation.unique())"
   ]
  },
  {
   "cell_type": "markdown",
   "metadata": {},
   "source": [
    "# Solution B\n",
    "\n",
    "No, the solutions are not accurate. The specified example contains the year of the publication in the publi"
   ]
  },
  {
   "cell_type": "code",
   "execution_count": 61,
   "metadata": {},
   "outputs": [
    {
     "data": {
      "text/plain": [
       "author                     id \n",
       "                           2       1\n",
       "                           20      1\n",
       "A F. Smeaton               64      1\n",
       "A Kreczmar                 34      1\n",
       "A M. Davis                 142     1\n",
       "A Salwicki                 34      1\n",
       "A. A. Rampuria             7       1\n",
       "A. D. Wyner                19      1\n",
       "A. G. Akritas              7       1\n",
       "Adele Goldberg             103     1\n",
       "Alan L. Tharp              77      1\n",
       "Allan Ramsay               74      1\n",
       "Andre Schiper              71      1\n",
       "Andreas Reuter             117    16\n",
       "Andrzej Salwicki           59      1\n",
       "Anne Lee Paxton            73      1\n",
       "Arto Salomaa               15      1\n",
       "Arun K. Majumdar           55      1\n",
       "Avi Rushinek               75      1\n",
       "Avi Wigderson              17      1\n",
       "                           18      1\n",
       "B N.T Foxon                113     1\n",
       "Beat Hirsbrunner           71      1\n",
       "Bertrand Meyer             68      1\n",
       "Broy Manfred               35      1\n",
       "Bruce W. Leverett          49      1\n",
       "C D. Paice                 66      1\n",
       "C D.F Miller               115     1\n",
       "C Faulle                   72      1\n",
       "C J. van Rijsbergen        62      1\n",
       "                                  ..\n",
       "T L. Kunii                 89      1\n",
       "                           96      1\n",
       "Theo Haerder               117    16\n",
       "Tomek Strzalkowski         28      1\n",
       "Tosiyasu L. Kunii          94      1\n",
       "Tsutomu Kamimura           104     1\n",
       "U Kulisch                  132     1\n",
       "U W. Kulisch               134     1\n",
       "U. W Kulisch               129     1\n",
       "Ulrich Kulisch             123     1\n",
       "Ulrich L. Hupbach          38      1\n",
       "Ulrich W. Kulisch          122     1\n",
       "Uzi Vishkin                17      1\n",
       "V J. Rayward-Smith         114     1\n",
       "Viacheslav E. Wolfengagen  27      1\n",
       "Virgil D. Gligor           3       1\n",
       "W Kramer                   134     1\n",
       "W L. Miranker              128     1\n",
       "                           134     1\n",
       "Walt Scacchi               141     1\n",
       "Willard L. Miranker        122     1\n",
       "William C. Troy            30      1\n",
       "William E. Perry           100     1\n",
       "                           102     1\n",
       "                           98      1\n",
       "William R. Mallgren        78      1\n",
       "Wolfgang Bibel             47      8\n",
       "Wolfgang Effelsberg        135    16\n",
       "Won Kim                    136    21\n",
       "Y Wallach                  22      1\n",
       "Name: id, Length: 227, dtype: int64"
      ]
     },
     "execution_count": 61,
     "metadata": {},
     "output_type": "execute_result"
    }
   ],
   "source": [
    "data.groupby([AUTHOR, ID])[ID].count()"
   ]
  },
  {
   "cell_type": "code",
   "execution_count": 53,
   "metadata": {},
   "outputs": [
    {
     "data": {
      "text/html": [
       "<div>\n",
       "<style>\n",
       "    .dataframe thead tr:only-child th {\n",
       "        text-align: right;\n",
       "    }\n",
       "\n",
       "    .dataframe thead th {\n",
       "        text-align: left;\n",
       "    }\n",
       "\n",
       "    .dataframe tbody tr th {\n",
       "        vertical-align: top;\n",
       "    }\n",
       "</style>\n",
       "<table border=\"1\" class=\"dataframe\">\n",
       "  <thead>\n",
       "    <tr style=\"text-align: right;\">\n",
       "      <th></th>\n",
       "      <th>year</th>\n",
       "      <th>title</th>\n",
       "      <th>venue</th>\n",
       "      <th>abstract</th>\n",
       "      <th>author</th>\n",
       "      <th>citation</th>\n",
       "    </tr>\n",
       "    <tr>\n",
       "      <th>id</th>\n",
       "      <th></th>\n",
       "      <th></th>\n",
       "      <th></th>\n",
       "      <th></th>\n",
       "      <th></th>\n",
       "      <th></th>\n",
       "    </tr>\n",
       "  </thead>\n",
       "  <tbody>\n",
       "    <tr>\n",
       "      <th>117</th>\n",
       "      <td>16</td>\n",
       "      <td>16</td>\n",
       "      <td>16</td>\n",
       "      <td>0</td>\n",
       "      <td>16</td>\n",
       "      <td>16</td>\n",
       "    </tr>\n",
       "  </tbody>\n",
       "</table>\n",
       "</div>"
      ],
      "text/plain": [
       "     year  title  venue  abstract  author  citation\n",
       "id                                                 \n",
       "117    16     16     16         0      16        16"
      ]
     },
     "execution_count": 53,
     "metadata": {},
     "output_type": "execute_result"
    }
   ],
   "source": [
    "data[data[AUTHOR] == 'Theo Haerder'].groupby(ID).count()"
   ]
  },
  {
   "cell_type": "code",
   "execution_count": null,
   "metadata": {
    "collapsed": true
   },
   "outputs": [],
   "source": []
  }
 ],
 "metadata": {
  "kernelspec": {
   "display_name": "Python 3",
   "language": "python",
   "name": "python3"
  },
  "language_info": {
   "codemirror_mode": {
    "name": "ipython",
    "version": 3
   },
   "file_extension": ".py",
   "mimetype": "text/x-python",
   "name": "python",
   "nbconvert_exporter": "python",
   "pygments_lexer": "ipython3",
   "version": "3.6.3"
  }
 },
 "nbformat": 4,
 "nbformat_minor": 2
}
