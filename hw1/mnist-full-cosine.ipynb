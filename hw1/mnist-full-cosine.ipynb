{
 "cells": [
  {
   "cell_type": "code",
   "execution_count": 1,
   "metadata": {
    "ExecuteTime": {
     "end_time": "2018-01-19T18:06:12.499887Z",
     "start_time": "2018-01-19T18:06:12.170961Z"
    },
    "collapsed": true
   },
   "outputs": [],
   "source": [
    "import numpy as np\n",
    "import time\n",
    "import os.path as path\n",
    "from sklearn.datasets import fetch_mldata\n",
    "from sklearn.metrics.pairwise import cosine_similarity, euclidean_distances"
   ]
  },
  {
   "cell_type": "code",
   "execution_count": 2,
   "metadata": {
    "ExecuteTime": {
     "end_time": "2018-01-19T18:06:13.394567Z",
     "start_time": "2018-01-19T18:06:13.231442Z"
    }
   },
   "outputs": [
    {
     "name": "stdout",
     "output_type": "stream",
     "text": [
      "(70000, 784)\n"
     ]
    }
   ],
   "source": [
    "# mnist = fetch_mldata('MNIST original')\n",
    "X = fetch_mldata('MNIST original').data.astype('float64')\n",
    "# y = mnist.target\n",
    "print(X.shape)\n",
    "# print(y.shape)"
   ]
  },
  {
   "cell_type": "code",
   "execution_count": 3,
   "metadata": {
    "ExecuteTime": {
     "end_time": "2018-01-19T18:06:14.361319Z",
     "start_time": "2018-01-19T18:06:14.357326Z"
    },
    "collapsed": true
   },
   "outputs": [],
   "source": [
    "csfile = '/home/ubuntu/projects/datasets/mnist-cs.dat'\n",
    "fp = np.memmap(csfile, dtype='float32', mode='w+', shape=(X.shape[0],X.shape[0]))"
   ]
  },
  {
   "cell_type": "code",
   "execution_count": null,
   "metadata": {
    "ExecuteTime": {
     "start_time": "2018-01-19T18:01:37.667Z"
    }
   },
   "outputs": [
    {
     "name": "stdout",
     "output_type": "stream",
     "text": [
      "Finished: 500 31.17830801010132\n"
     ]
    }
   ],
   "source": [
    "step = 10\n",
    "start_index = 0\n",
    "t0 = time.time()\n",
    "for end_index in range(0, X.shape[0]+1, step)[1:]:\n",
    "    fp[start_index:end_index,] = cosine_similarity(X[start_index:end_index,], X)\n",
    "    start_index = end_index\n",
    "    if end_index % 500 == 0:\n",
    "        print('Finished:',end_index, time.time()-t0)"
   ]
  }
 ],
 "metadata": {
  "kernelspec": {
   "display_name": "Python 3",
   "language": "python",
   "name": "python3"
  },
  "language_info": {
   "codemirror_mode": {
    "name": "ipython",
    "version": 3
   },
   "file_extension": ".py",
   "mimetype": "text/x-python",
   "name": "python",
   "nbconvert_exporter": "python",
   "pygments_lexer": "ipython3",
   "version": "3.6.4"
  }
 },
 "nbformat": 4,
 "nbformat_minor": 2
}
