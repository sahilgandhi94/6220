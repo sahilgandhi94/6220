{
 "cells": [
  {
   "cell_type": "code",
   "execution_count": 15,
   "metadata": {
    "ExecuteTime": {
     "end_time": "2018-01-18T04:54:29.331746Z",
     "start_time": "2018-01-18T04:54:29.226821Z"
    }
   },
   "outputs": [],
   "source": [
    "import numpy as np\n",
    "import pandas as pd\n",
    "from sklearn.datasets import fetch_mldata\n",
    "from sklearn.metrics.pairwise import cosine_similarity, euclidean_distances\n",
    "from sklearn.model_selection import train_test_split"
   ]
  },
  {
   "cell_type": "code",
   "execution_count": 16,
   "metadata": {
    "ExecuteTime": {
     "end_time": "2018-01-18T04:54:31.151677Z",
     "start_time": "2018-01-18T04:54:30.211635Z"
    }
   },
   "outputs": [
    {
     "name": "stdout",
     "output_type": "stream",
     "text": [
      "(56000, 784) (14000, 784) (56000,) (14000,)\n"
     ]
    }
   ],
   "source": [
    "mnist = fetch_mldata('MNIST original')\n",
    "X = mnist.data.astype('float64')\n",
    "y = mnist.target\n",
    "\n",
    "X_train, X_test, y_train, y_test = train_test_split(X, y, test_size=0.20, random_state=42)\n",
    "\n",
    "print(X_train.shape, X_test.shape, y_train.shape, y_test.shape)"
   ]
  },
  {
   "cell_type": "code",
   "execution_count": null,
   "metadata": {},
   "outputs": [],
   "source": [
    "train_df = pd.DataFrame(X_train)\n",
    "train_df.shape"
   ]
  },
  {
   "cell_type": "code",
   "execution_count": 13,
   "metadata": {
    "ExecuteTime": {
     "end_time": "2018-01-18T00:03:52.968560Z",
     "start_time": "2018-01-18T00:03:52.965170Z"
    }
   },
   "outputs": [],
   "source": [
    "cos_sim_df = cosine_similarity(train_df)\n",
    "cos_sim_df.shape"
   ]
  },
  {
   "cell_type": "code",
   "execution_count": null,
   "metadata": {
    "ExecuteTime": {
     "end_time": "2018-01-17T19:19:48.249715Z",
     "start_time": "2018-01-17T19:19:47.378050Z"
    }
   },
   "outputs": [],
   "source": [
    "euc_dis_df = euclidean_distances(train_df)\n",
    "euc_dis_df.shape"
   ]
  },
  {
   "cell_type": "code",
   "execution_count": null,
   "metadata": {},
   "outputs": [],
   "source": []
  },
  {
   "cell_type": "code",
   "execution_count": 17,
   "metadata": {
    "ExecuteTime": {
     "end_time": "2018-01-18T04:56:20.723027Z",
     "start_time": "2018-01-18T04:54:54.114679Z"
    }
   },
   "outputs": [
    {
     "data": {
      "text/plain": [
       "(56000, 14000)"
      ]
     },
     "execution_count": 17,
     "metadata": {},
     "output_type": "execute_result"
    }
   ],
   "source": [
    "cs_tt = cosine_similarity(X_train, X_test)\n",
    "cs_tt.shape"
   ]
  },
  {
   "cell_type": "code",
   "execution_count": 18,
   "metadata": {
    "ExecuteTime": {
     "end_time": "2018-01-18T04:56:43.995407Z",
     "start_time": "2018-01-18T04:56:43.419586Z"
    }
   },
   "outputs": [],
   "source": [
    "def knn(col, k, sim_mat):\n",
    "    _vec = sim_mat[:,col].tolist()\n",
    "    _vec = sorted(enumerate(_vec), key=lambda x: x[1], reverse=True)\n",
    "    _vec_ind = [x[0] for x in _vec[:k]]\n",
    "#     _vec_ind = top_k_indices(k, _vec)\n",
    "    return _vec_ind, [y_train[x] for x in _vec_ind], y_test[col]"
   ]
  },
  {
   "cell_type": "code",
   "execution_count": 19,
   "metadata": {
    "ExecuteTime": {
     "end_time": "2018-01-18T05:11:26.200594Z",
     "start_time": "2018-01-18T04:58:17.429276Z"
    }
   },
   "outputs": [
    {
     "name": "stdout",
     "output_type": "stream",
     "text": [
      "count: 100\n",
      "count: 200\n",
      "count: 300\n",
      "count: 400\n",
      "count: 500\n",
      "count: 600\n",
      "count: 700\n",
      "count: 800\n",
      "count: 900\n",
      "count: 1000\n",
      "count: 1100\n",
      "count: 1200\n",
      "count: 1300\n",
      "count: 1400\n",
      "count: 1500\n",
      "count: 1600\n",
      "count: 1700\n",
      "count: 1800\n",
      "count: 1900\n",
      "count: 2000\n",
      "count: 2100\n",
      "count: 2200\n",
      "count: 2300\n",
      "count: 2400\n",
      "count: 2500\n",
      "count: 2600\n",
      "count: 2700\n",
      "count: 2800\n",
      "count: 2900\n",
      "count: 3000\n",
      "count: 3100\n",
      "count: 3200\n",
      "count: 3300\n",
      "count: 3400\n",
      "count: 3500\n",
      "count: 3600\n",
      "count: 3700\n",
      "count: 3800\n",
      "count: 3900\n",
      "count: 4000\n",
      "count: 4100\n",
      "count: 4200\n",
      "count: 4300\n",
      "count: 4400\n",
      "count: 4500\n",
      "count: 4600\n",
      "count: 4700\n",
      "count: 4800\n",
      "count: 4900\n",
      "count: 5000\n",
      "count: 5100\n",
      "count: 5200\n",
      "count: 5300\n",
      "count: 5400\n",
      "count: 5500\n",
      "count: 5600\n",
      "count: 5700\n",
      "count: 5800\n",
      "count: 5900\n",
      "count: 6000\n",
      "count: 6100\n",
      "count: 6200\n",
      "count: 6300\n",
      "count: 6400\n",
      "count: 6500\n",
      "count: 6600\n",
      "count: 6700\n",
      "count: 6800\n",
      "count: 6900\n",
      "count: 7000\n",
      "count: 7100\n",
      "count: 7200\n",
      "count: 7300\n",
      "count: 7400\n",
      "count: 7500\n",
      "count: 7600\n",
      "count: 7700\n",
      "count: 7800\n",
      "count: 7900\n",
      "count: 8000\n",
      "count: 8100\n",
      "count: 8200\n",
      "count: 8300\n",
      "count: 8400\n",
      "count: 8500\n",
      "count: 8600\n",
      "count: 8700\n",
      "count: 8800\n",
      "count: 8900\n",
      "count: 9000\n",
      "count: 9100\n",
      "count: 9200\n",
      "count: 9300\n",
      "count: 9400\n",
      "count: 9500\n",
      "count: 9600\n",
      "count: 9700\n",
      "count: 9800\n",
      "count: 9900\n",
      "count: 10000\n",
      "count: 10100\n",
      "count: 10200\n",
      "count: 10300\n",
      "count: 10400\n",
      "count: 10500\n",
      "count: 10600\n",
      "count: 10700\n",
      "count: 10800\n",
      "count: 10900\n",
      "count: 11000\n",
      "count: 11100\n",
      "count: 11200\n",
      "count: 11300\n",
      "count: 11400\n",
      "count: 11500\n",
      "count: 11600\n",
      "count: 11700\n",
      "count: 11800\n",
      "count: 11900\n",
      "count: 12000\n",
      "count: 12100\n",
      "count: 12200\n",
      "count: 12300\n",
      "count: 12400\n",
      "count: 12500\n",
      "count: 12600\n",
      "count: 12700\n",
      "count: 12800\n",
      "count: 12900\n",
      "count: 13000\n",
      "count: 13100\n",
      "count: 13200\n",
      "count: 13300\n",
      "count: 13400\n",
      "count: 13500\n",
      "count: 13600\n",
      "count: 13700\n",
      "count: 13800\n",
      "count: 13900\n",
      "count: 14000\n",
      "13657\n",
      "14000\n",
      "0.9755\n"
     ]
    }
   ],
   "source": [
    "k = 5\n",
    "\n",
    "scount = 0\n",
    "tcount = 0\n",
    "for c in range(cs_tt.shape[1]):\n",
    "    ind, pvals, y = knn(c, k, cs_tt)\n",
    "    pval = max(set(pvals), key=pvals.count)\n",
    "    tcount += 1\n",
    "    if tcount%100 == 0:\n",
    "        print('count: {}'.format(tcount))\n",
    "    if pval == y:\n",
    "        scount += 1\n",
    "        \n",
    "print(scount)\n",
    "print(tcount)\n",
    "print(scount/tcount)"
   ]
  },
  {
   "cell_type": "code",
   "execution_count": null,
   "metadata": {},
   "outputs": [],
   "source": []
  }
 ],
 "metadata": {
  "kernelspec": {
   "display_name": "Python 3",
   "language": "python",
   "name": "python3"
  },
  "language_info": {
   "codemirror_mode": {
    "name": "ipython",
    "version": 3
   },
   "file_extension": ".py",
   "mimetype": "text/x-python",
   "name": "python",
   "nbconvert_exporter": "python",
   "pygments_lexer": "ipython3",
   "version": "3.6.4"
  }
 },
 "nbformat": 4,
 "nbformat_minor": 2
}
