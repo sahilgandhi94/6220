{
 "cells": [
  {
   "cell_type": "code",
   "execution_count": 240,
   "metadata": {
    "ExecuteTime": {
     "end_time": "2018-04-22T02:31:18.406993Z",
     "start_time": "2018-04-22T02:31:17.591803Z"
    }
   },
   "outputs": [],
   "source": [
    "import numpy as np\n",
    "import pandas as pd\n",
    "\n",
    "# from sklearn.metrics.pairwise import cosine_similarity\n",
    "import scipy\n",
    "from scipy import spatial\n",
    "from scipy import sparse\n",
    "import time\n",
    "\n",
    "import matplotlib.pyplot as plt\n",
    "\n",
    "\n",
    "ML_DATA = '/Users/sahil/scikit_learn_data/ml-100k/'"
   ]
  },
  {
   "cell_type": "code",
   "execution_count": 8,
   "metadata": {
    "ExecuteTime": {
     "end_time": "2018-04-21T22:40:41.087105Z",
     "start_time": "2018-04-21T22:40:40.977248Z"
    }
   },
   "outputs": [
    {
     "name": "stdout",
     "output_type": "stream",
     "text": [
      "(100000, 4)\n"
     ]
    },
    {
     "data": {
      "text/html": [
       "<div>\n",
       "<style scoped>\n",
       "    .dataframe tbody tr th:only-of-type {\n",
       "        vertical-align: middle;\n",
       "    }\n",
       "\n",
       "    .dataframe tbody tr th {\n",
       "        vertical-align: top;\n",
       "    }\n",
       "\n",
       "    .dataframe thead th {\n",
       "        text-align: right;\n",
       "    }\n",
       "</style>\n",
       "<table border=\"1\" class=\"dataframe\">\n",
       "  <thead>\n",
       "    <tr style=\"text-align: right;\">\n",
       "      <th></th>\n",
       "      <th>user_id</th>\n",
       "      <th>movie_id</th>\n",
       "      <th>rating</th>\n",
       "      <th>timestamp</th>\n",
       "    </tr>\n",
       "  </thead>\n",
       "  <tbody>\n",
       "    <tr>\n",
       "      <th>0</th>\n",
       "      <td>196</td>\n",
       "      <td>242</td>\n",
       "      <td>3</td>\n",
       "      <td>1997-12-04 15:55:49</td>\n",
       "    </tr>\n",
       "    <tr>\n",
       "      <th>1</th>\n",
       "      <td>186</td>\n",
       "      <td>302</td>\n",
       "      <td>3</td>\n",
       "      <td>1998-04-04 19:22:22</td>\n",
       "    </tr>\n",
       "    <tr>\n",
       "      <th>2</th>\n",
       "      <td>22</td>\n",
       "      <td>377</td>\n",
       "      <td>1</td>\n",
       "      <td>1997-11-07 07:18:36</td>\n",
       "    </tr>\n",
       "    <tr>\n",
       "      <th>3</th>\n",
       "      <td>244</td>\n",
       "      <td>51</td>\n",
       "      <td>2</td>\n",
       "      <td>1997-11-27 05:02:03</td>\n",
       "    </tr>\n",
       "    <tr>\n",
       "      <th>4</th>\n",
       "      <td>166</td>\n",
       "      <td>346</td>\n",
       "      <td>1</td>\n",
       "      <td>1998-02-02 05:33:16</td>\n",
       "    </tr>\n",
       "  </tbody>\n",
       "</table>\n",
       "</div>"
      ],
      "text/plain": [
       "   user_id  movie_id  rating           timestamp\n",
       "0      196       242       3 1997-12-04 15:55:49\n",
       "1      186       302       3 1998-04-04 19:22:22\n",
       "2       22       377       1 1997-11-07 07:18:36\n",
       "3      244        51       2 1997-11-27 05:02:03\n",
       "4      166       346       1 1998-02-02 05:33:16"
      ]
     },
     "execution_count": 8,
     "metadata": {},
     "output_type": "execute_result"
    }
   ],
   "source": [
    "rating_df = pd.read_table(ML_DATA+'u.data', names=[\"user_id\", \"movie_id\", \"rating\", \"timestamp\"])\n",
    "rating_df['timestamp'] = pd.to_datetime(rating_df['timestamp'], unit='s')\n",
    "print(rating_df.shape)\n",
    "rating_df.head()"
   ]
  },
  {
   "cell_type": "code",
   "execution_count": 147,
   "metadata": {
    "ExecuteTime": {
     "end_time": "2018-04-22T01:11:24.641780Z",
     "start_time": "2018-04-22T01:11:24.630582Z"
    }
   },
   "outputs": [
    {
     "data": {
      "text/plain": [
       "0    3\n",
       "Name: rating, dtype: int64"
      ]
     },
     "execution_count": 147,
     "metadata": {},
     "output_type": "execute_result"
    }
   ],
   "source": [
    "rating_df[(rating_df.user_id == 196) & (rating_df.movie_id == 242)].rating"
   ]
  },
  {
   "cell_type": "code",
   "execution_count": 178,
   "metadata": {
    "ExecuteTime": {
     "end_time": "2018-04-22T01:35:40.123537Z",
     "start_time": "2018-04-22T01:35:40.043827Z"
    }
   },
   "outputs": [
    {
     "name": "stdout",
     "output_type": "stream",
     "text": [
      "(90570, 4)\n"
     ]
    }
   ],
   "source": [
    "train_rating_df = pd.read_table(ML_DATA+'ua.base', names=[\"user_id\", \"movie_id\", \"rating\", \"timestamp\"])\n",
    "train_rating_df['timestamp'] = pd.to_datetime(train_rating_df['timestamp'], unit='s')\n",
    "print(train_rating_df.shape)"
   ]
  },
  {
   "cell_type": "code",
   "execution_count": 200,
   "metadata": {
    "ExecuteTime": {
     "end_time": "2018-04-22T01:48:14.768074Z",
     "start_time": "2018-04-22T01:48:14.755253Z"
    }
   },
   "outputs": [
    {
     "data": {
      "text/html": [
       "<div>\n",
       "<style scoped>\n",
       "    .dataframe tbody tr th:only-of-type {\n",
       "        vertical-align: middle;\n",
       "    }\n",
       "\n",
       "    .dataframe tbody tr th {\n",
       "        vertical-align: top;\n",
       "    }\n",
       "\n",
       "    .dataframe thead th {\n",
       "        text-align: right;\n",
       "    }\n",
       "</style>\n",
       "<table border=\"1\" class=\"dataframe\">\n",
       "  <thead>\n",
       "    <tr style=\"text-align: right;\">\n",
       "      <th></th>\n",
       "      <th>user_id</th>\n",
       "      <th>movie_id</th>\n",
       "      <th>rating</th>\n",
       "      <th>timestamp</th>\n",
       "    </tr>\n",
       "  </thead>\n",
       "  <tbody>\n",
       "    <tr>\n",
       "      <th>0</th>\n",
       "      <td>1</td>\n",
       "      <td>1</td>\n",
       "      <td>5</td>\n",
       "      <td>1997-09-22 22:02:38</td>\n",
       "    </tr>\n",
       "    <tr>\n",
       "      <th>1</th>\n",
       "      <td>1</td>\n",
       "      <td>2</td>\n",
       "      <td>3</td>\n",
       "      <td>1997-10-15 05:26:11</td>\n",
       "    </tr>\n",
       "    <tr>\n",
       "      <th>2</th>\n",
       "      <td>1</td>\n",
       "      <td>3</td>\n",
       "      <td>4</td>\n",
       "      <td>1997-11-03 07:42:40</td>\n",
       "    </tr>\n",
       "    <tr>\n",
       "      <th>3</th>\n",
       "      <td>1</td>\n",
       "      <td>4</td>\n",
       "      <td>3</td>\n",
       "      <td>1997-10-15 05:25:19</td>\n",
       "    </tr>\n",
       "    <tr>\n",
       "      <th>4</th>\n",
       "      <td>1</td>\n",
       "      <td>5</td>\n",
       "      <td>3</td>\n",
       "      <td>1998-03-13 01:15:12</td>\n",
       "    </tr>\n",
       "  </tbody>\n",
       "</table>\n",
       "</div>"
      ],
      "text/plain": [
       "   user_id  movie_id  rating           timestamp\n",
       "0        1         1       5 1997-09-22 22:02:38\n",
       "1        1         2       3 1997-10-15 05:26:11\n",
       "2        1         3       4 1997-11-03 07:42:40\n",
       "3        1         4       3 1997-10-15 05:25:19\n",
       "4        1         5       3 1998-03-13 01:15:12"
      ]
     },
     "execution_count": 200,
     "metadata": {},
     "output_type": "execute_result"
    }
   ],
   "source": [
    "train_rating_df.head()"
   ]
  },
  {
   "cell_type": "code",
   "execution_count": 179,
   "metadata": {
    "ExecuteTime": {
     "end_time": "2018-04-22T01:35:40.251780Z",
     "start_time": "2018-04-22T01:35:40.235021Z"
    }
   },
   "outputs": [
    {
     "name": "stdout",
     "output_type": "stream",
     "text": [
      "(9430, 4)\n"
     ]
    }
   ],
   "source": [
    "test_rating_df = pd.read_table(ML_DATA+'ua.test', names=[\"user_id\", \"movie_id\", \"rating\", \"timestamp\"])\n",
    "test_rating_df['timestamp'] = pd.to_datetime(test_rating_df['timestamp'], unit='s')\n",
    "print(test_rating_df.shape)"
   ]
  },
  {
   "cell_type": "code",
   "execution_count": 9,
   "metadata": {
    "ExecuteTime": {
     "end_time": "2018-04-21T22:40:55.151576Z",
     "start_time": "2018-04-21T22:40:54.889559Z"
    }
   },
   "outputs": [
    {
     "name": "stdout",
     "output_type": "stream",
     "text": [
      "(1682, 24)\n"
     ]
    },
    {
     "data": {
      "text/html": [
       "<div>\n",
       "<style scoped>\n",
       "    .dataframe tbody tr th:only-of-type {\n",
       "        vertical-align: middle;\n",
       "    }\n",
       "\n",
       "    .dataframe tbody tr th {\n",
       "        vertical-align: top;\n",
       "    }\n",
       "\n",
       "    .dataframe thead th {\n",
       "        text-align: right;\n",
       "    }\n",
       "</style>\n",
       "<table border=\"1\" class=\"dataframe\">\n",
       "  <thead>\n",
       "    <tr style=\"text-align: right;\">\n",
       "      <th></th>\n",
       "      <th>movie_id</th>\n",
       "      <th>movie_title</th>\n",
       "      <th>release_date</th>\n",
       "      <th>video_release_date</th>\n",
       "      <th>imdb_url</th>\n",
       "      <th>unknown</th>\n",
       "      <th>action</th>\n",
       "      <th>adventure</th>\n",
       "      <th>animation</th>\n",
       "      <th>children's</th>\n",
       "      <th>...</th>\n",
       "      <th>fantasy</th>\n",
       "      <th>film_noir</th>\n",
       "      <th>horror</th>\n",
       "      <th>musical</th>\n",
       "      <th>mystery</th>\n",
       "      <th>romance</th>\n",
       "      <th>sci_fi</th>\n",
       "      <th>thriller</th>\n",
       "      <th>war</th>\n",
       "      <th>western</th>\n",
       "    </tr>\n",
       "  </thead>\n",
       "  <tbody>\n",
       "    <tr>\n",
       "      <th>0</th>\n",
       "      <td>1</td>\n",
       "      <td>Toy Story (1995)</td>\n",
       "      <td>1995-01-01</td>\n",
       "      <td>NaN</td>\n",
       "      <td>http://us.imdb.com/M/title-exact?Toy%20Story%2...</td>\n",
       "      <td>0</td>\n",
       "      <td>0</td>\n",
       "      <td>0</td>\n",
       "      <td>1</td>\n",
       "      <td>1</td>\n",
       "      <td>...</td>\n",
       "      <td>0</td>\n",
       "      <td>0</td>\n",
       "      <td>0</td>\n",
       "      <td>0</td>\n",
       "      <td>0</td>\n",
       "      <td>0</td>\n",
       "      <td>0</td>\n",
       "      <td>0</td>\n",
       "      <td>0</td>\n",
       "      <td>0</td>\n",
       "    </tr>\n",
       "    <tr>\n",
       "      <th>1</th>\n",
       "      <td>2</td>\n",
       "      <td>GoldenEye (1995)</td>\n",
       "      <td>1995-01-01</td>\n",
       "      <td>NaN</td>\n",
       "      <td>http://us.imdb.com/M/title-exact?GoldenEye%20(...</td>\n",
       "      <td>0</td>\n",
       "      <td>1</td>\n",
       "      <td>1</td>\n",
       "      <td>0</td>\n",
       "      <td>0</td>\n",
       "      <td>...</td>\n",
       "      <td>0</td>\n",
       "      <td>0</td>\n",
       "      <td>0</td>\n",
       "      <td>0</td>\n",
       "      <td>0</td>\n",
       "      <td>0</td>\n",
       "      <td>0</td>\n",
       "      <td>1</td>\n",
       "      <td>0</td>\n",
       "      <td>0</td>\n",
       "    </tr>\n",
       "    <tr>\n",
       "      <th>2</th>\n",
       "      <td>3</td>\n",
       "      <td>Four Rooms (1995)</td>\n",
       "      <td>1995-01-01</td>\n",
       "      <td>NaN</td>\n",
       "      <td>http://us.imdb.com/M/title-exact?Four%20Rooms%...</td>\n",
       "      <td>0</td>\n",
       "      <td>0</td>\n",
       "      <td>0</td>\n",
       "      <td>0</td>\n",
       "      <td>0</td>\n",
       "      <td>...</td>\n",
       "      <td>0</td>\n",
       "      <td>0</td>\n",
       "      <td>0</td>\n",
       "      <td>0</td>\n",
       "      <td>0</td>\n",
       "      <td>0</td>\n",
       "      <td>0</td>\n",
       "      <td>1</td>\n",
       "      <td>0</td>\n",
       "      <td>0</td>\n",
       "    </tr>\n",
       "    <tr>\n",
       "      <th>3</th>\n",
       "      <td>4</td>\n",
       "      <td>Get Shorty (1995)</td>\n",
       "      <td>1995-01-01</td>\n",
       "      <td>NaN</td>\n",
       "      <td>http://us.imdb.com/M/title-exact?Get%20Shorty%...</td>\n",
       "      <td>0</td>\n",
       "      <td>1</td>\n",
       "      <td>0</td>\n",
       "      <td>0</td>\n",
       "      <td>0</td>\n",
       "      <td>...</td>\n",
       "      <td>0</td>\n",
       "      <td>0</td>\n",
       "      <td>0</td>\n",
       "      <td>0</td>\n",
       "      <td>0</td>\n",
       "      <td>0</td>\n",
       "      <td>0</td>\n",
       "      <td>0</td>\n",
       "      <td>0</td>\n",
       "      <td>0</td>\n",
       "    </tr>\n",
       "    <tr>\n",
       "      <th>4</th>\n",
       "      <td>5</td>\n",
       "      <td>Copycat (1995)</td>\n",
       "      <td>1995-01-01</td>\n",
       "      <td>NaN</td>\n",
       "      <td>http://us.imdb.com/M/title-exact?Copycat%20(1995)</td>\n",
       "      <td>0</td>\n",
       "      <td>0</td>\n",
       "      <td>0</td>\n",
       "      <td>0</td>\n",
       "      <td>0</td>\n",
       "      <td>...</td>\n",
       "      <td>0</td>\n",
       "      <td>0</td>\n",
       "      <td>0</td>\n",
       "      <td>0</td>\n",
       "      <td>0</td>\n",
       "      <td>0</td>\n",
       "      <td>0</td>\n",
       "      <td>1</td>\n",
       "      <td>0</td>\n",
       "      <td>0</td>\n",
       "    </tr>\n",
       "  </tbody>\n",
       "</table>\n",
       "<p>5 rows × 24 columns</p>\n",
       "</div>"
      ],
      "text/plain": [
       "   movie_id        movie_title release_date  video_release_date  \\\n",
       "0         1   Toy Story (1995)   1995-01-01                 NaN   \n",
       "1         2   GoldenEye (1995)   1995-01-01                 NaN   \n",
       "2         3  Four Rooms (1995)   1995-01-01                 NaN   \n",
       "3         4  Get Shorty (1995)   1995-01-01                 NaN   \n",
       "4         5     Copycat (1995)   1995-01-01                 NaN   \n",
       "\n",
       "                                            imdb_url  unknown  action  \\\n",
       "0  http://us.imdb.com/M/title-exact?Toy%20Story%2...        0       0   \n",
       "1  http://us.imdb.com/M/title-exact?GoldenEye%20(...        0       1   \n",
       "2  http://us.imdb.com/M/title-exact?Four%20Rooms%...        0       0   \n",
       "3  http://us.imdb.com/M/title-exact?Get%20Shorty%...        0       1   \n",
       "4  http://us.imdb.com/M/title-exact?Copycat%20(1995)        0       0   \n",
       "\n",
       "   adventure  animation  children's   ...     fantasy  film_noir  horror  \\\n",
       "0          0          1           1   ...           0          0       0   \n",
       "1          1          0           0   ...           0          0       0   \n",
       "2          0          0           0   ...           0          0       0   \n",
       "3          0          0           0   ...           0          0       0   \n",
       "4          0          0           0   ...           0          0       0   \n",
       "\n",
       "   musical  mystery  romance  sci_fi  thriller  war  western  \n",
       "0        0        0        0       0         0    0        0  \n",
       "1        0        0        0       0         1    0        0  \n",
       "2        0        0        0       0         1    0        0  \n",
       "3        0        0        0       0         0    0        0  \n",
       "4        0        0        0       0         1    0        0  \n",
       "\n",
       "[5 rows x 24 columns]"
      ]
     },
     "execution_count": 9,
     "metadata": {},
     "output_type": "execute_result"
    }
   ],
   "source": [
    "col_names = [\n",
    "        \"movie_id\", \"movie_title\", \"release_date\", \"video_release_date\",\n",
    "        \"imdb_url\", \"unknown\", \"Action\", \"Adventure\", \"Animation\",\n",
    "        \"Children's\", \"Comedy\", \"Crime\", \"Documentary\", \"Drama\", \"Fantasy\",\n",
    "        \"Film_Noir\", \"Horror\", \"Musical\", \"Mystery\", \"Romance\", \"Sci_Fi\",\n",
    "        \"Thriller\", \"War\", \"Western\"]\n",
    "movie_df = pd.read_table(ML_DATA+'u.item', encoding=\"ISO-8859-1\", sep='|', names=[x.lower() for x in col_names])\n",
    "movie_df[\"release_date\"] = pd.to_datetime(movie_df[\"release_date\"])\n",
    "print(movie_df.shape)\n",
    "movie_df.head()"
   ]
  },
  {
   "cell_type": "code",
   "execution_count": 10,
   "metadata": {
    "ExecuteTime": {
     "end_time": "2018-04-21T22:41:05.278024Z",
     "start_time": "2018-04-21T22:41:05.255237Z"
    }
   },
   "outputs": [
    {
     "name": "stdout",
     "output_type": "stream",
     "text": [
      "(943, 5)\n"
     ]
    },
    {
     "data": {
      "text/html": [
       "<div>\n",
       "<style scoped>\n",
       "    .dataframe tbody tr th:only-of-type {\n",
       "        vertical-align: middle;\n",
       "    }\n",
       "\n",
       "    .dataframe tbody tr th {\n",
       "        vertical-align: top;\n",
       "    }\n",
       "\n",
       "    .dataframe thead th {\n",
       "        text-align: right;\n",
       "    }\n",
       "</style>\n",
       "<table border=\"1\" class=\"dataframe\">\n",
       "  <thead>\n",
       "    <tr style=\"text-align: right;\">\n",
       "      <th></th>\n",
       "      <th>id</th>\n",
       "      <th>age</th>\n",
       "      <th>gender</th>\n",
       "      <th>occupation</th>\n",
       "      <th>zip_code</th>\n",
       "    </tr>\n",
       "  </thead>\n",
       "  <tbody>\n",
       "    <tr>\n",
       "      <th>0</th>\n",
       "      <td>1</td>\n",
       "      <td>24</td>\n",
       "      <td>M</td>\n",
       "      <td>technician</td>\n",
       "      <td>85711</td>\n",
       "    </tr>\n",
       "    <tr>\n",
       "      <th>1</th>\n",
       "      <td>2</td>\n",
       "      <td>53</td>\n",
       "      <td>F</td>\n",
       "      <td>other</td>\n",
       "      <td>94043</td>\n",
       "    </tr>\n",
       "    <tr>\n",
       "      <th>2</th>\n",
       "      <td>3</td>\n",
       "      <td>23</td>\n",
       "      <td>M</td>\n",
       "      <td>writer</td>\n",
       "      <td>32067</td>\n",
       "    </tr>\n",
       "    <tr>\n",
       "      <th>3</th>\n",
       "      <td>4</td>\n",
       "      <td>24</td>\n",
       "      <td>M</td>\n",
       "      <td>technician</td>\n",
       "      <td>43537</td>\n",
       "    </tr>\n",
       "    <tr>\n",
       "      <th>4</th>\n",
       "      <td>5</td>\n",
       "      <td>33</td>\n",
       "      <td>F</td>\n",
       "      <td>other</td>\n",
       "      <td>15213</td>\n",
       "    </tr>\n",
       "  </tbody>\n",
       "</table>\n",
       "</div>"
      ],
      "text/plain": [
       "   id  age gender  occupation zip_code\n",
       "0   1   24      M  technician    85711\n",
       "1   2   53      F       other    94043\n",
       "2   3   23      M      writer    32067\n",
       "3   4   24      M  technician    43537\n",
       "4   5   33      F       other    15213"
      ]
     },
     "execution_count": 10,
     "metadata": {},
     "output_type": "execute_result"
    }
   ],
   "source": [
    "user_df = pd.read_table(ML_DATA+'u.user', names=[\"id\", \"age\", \"gender\", \"occupation\", \"zip_code\"], sep = '|')\n",
    "print(user_df.shape)\n",
    "user_df.head()"
   ]
  },
  {
   "cell_type": "code",
   "execution_count": null,
   "metadata": {},
   "outputs": [],
   "source": []
  },
  {
   "cell_type": "code",
   "execution_count": null,
   "metadata": {},
   "outputs": [],
   "source": []
  },
  {
   "cell_type": "code",
   "execution_count": 180,
   "metadata": {
    "ExecuteTime": {
     "end_time": "2018-04-22T01:36:35.913154Z",
     "start_time": "2018-04-22T01:36:24.685254Z"
    }
   },
   "outputs": [],
   "source": [
    "user_movie_matrix = np.full((user_df.shape[0], movie_df.shape[0]), np.nan)\n",
    "for index, row in train_rating_df.iterrows():\n",
    "    user_movie_matrix[row['user_id']-1, row['movie_id']-1] = row['rating']"
   ]
  },
  {
   "cell_type": "code",
   "execution_count": 190,
   "metadata": {
    "ExecuteTime": {
     "end_time": "2018-04-22T01:42:16.527844Z",
     "start_time": "2018-04-22T01:42:16.518677Z"
    }
   },
   "outputs": [
    {
     "data": {
      "text/plain": [
       "array([[ 5.,  3.,  4., ..., nan, nan, nan],\n",
       "       [ 4., nan, nan, ..., nan, nan, nan],\n",
       "       [nan, nan, nan, ..., nan, nan, nan],\n",
       "       ...,\n",
       "       [ 5., nan, nan, ..., nan, nan, nan],\n",
       "       [nan, nan, nan, ..., nan, nan, nan],\n",
       "       [nan,  5., nan, ..., nan, nan, nan]])"
      ]
     },
     "execution_count": 190,
     "metadata": {},
     "output_type": "execute_result"
    }
   ],
   "source": [
    "user_movie_matrix"
   ]
  },
  {
   "cell_type": "code",
   "execution_count": 182,
   "metadata": {
    "ExecuteTime": {
     "end_time": "2018-04-22T01:39:01.987961Z",
     "start_time": "2018-04-22T01:36:54.165104Z"
    },
    "scrolled": true
   },
   "outputs": [
    {
     "name": "stdout",
     "output_type": "stream",
     "text": [
      "user 0 - 0.161\n",
      "user 100 - 13.78\n",
      "user 200 - 13.965\n",
      "user 300 - 14.642\n",
      "user 400 - 13.646\n",
      "user 500 - 13.562\n",
      "user 600 - 13.193\n",
      "user 700 - 13.046\n",
      "user 800 - 12.881\n",
      "user 900 - 13.737\n"
     ]
    }
   ],
   "source": [
    "user_similarity = np.zeros((user_df.shape[0], user_df.shape[0]))\n",
    "\n",
    "t = time.time()\n",
    "for i in range(user_movie_matrix.shape[0]):\n",
    "    for j in range(user_movie_matrix.shape[0]):\n",
    "        if i == j:\n",
    "            user_similarity[i,j] = 1\n",
    "            continue\n",
    "        ir = user_movie_matrix[i,:]\n",
    "        jr = user_movie_matrix[j,:]\n",
    "#         print(ir.shape, jr.shape)\n",
    "#         print(np.where(~np.isnan(ir))[0], np.where(~np.isnan(jr))[0])\n",
    "        _indices = np.intersect1d(np.where(~np.isnan(ir))[0], np.where(~np.isnan(jr))[0])\n",
    "#         _indices = np.intersect1d(np.where(~np.isnan(ir))[0], np.where(~np.isnan(jr))[0])\n",
    "        if len(_indices) == 0:\n",
    "            user_similarity[i,j] = 0\n",
    "#             print(f' {i}, {j} have no common movies')\n",
    "            continue\n",
    "        user_similarity[i,j] = 1-spatial.distance.cosine(ir[_indices], jr[_indices])\n",
    "    if i%100 == 0:\n",
    "        print(f'user {i} - {round(time.time()-t, 3)}')\n",
    "        t = time.time()"
   ]
  },
  {
   "cell_type": "code",
   "execution_count": 109,
   "metadata": {
    "ExecuteTime": {
     "end_time": "2018-04-22T00:22:58.173353Z",
     "start_time": "2018-04-22T00:22:58.157700Z"
    }
   },
   "outputs": [
    {
     "data": {
      "text/plain": [
       "array([[1.   , 0.961, 0.857, ..., 0.971, 0.924, 0.93 ],\n",
       "       [0.961, 1.   , 0.936, ..., 0.94 , 0.948, 0.977],\n",
       "       [0.857, 0.936, 1.   , ..., 0.973, 0.912, 0.99 ],\n",
       "       ...,\n",
       "       [0.971, 0.94 , 0.973, ..., 1.   , 0.982, 0.961],\n",
       "       [0.924, 0.948, 0.912, ..., 0.982, 1.   , 0.976],\n",
       "       [0.93 , 0.977, 0.99 , ..., 0.961, 0.976, 1.   ]])"
      ]
     },
     "execution_count": 109,
     "metadata": {},
     "output_type": "execute_result"
    }
   ],
   "source": [
    "np.round(user_similarity, 3)"
   ]
  },
  {
   "cell_type": "code",
   "execution_count": 238,
   "metadata": {
    "ExecuteTime": {
     "end_time": "2018-04-22T02:04:24.492699Z",
     "start_time": "2018-04-22T02:04:24.477504Z"
    }
   },
   "outputs": [],
   "source": [
    "def predict_rating(user_id, movie_id, k, sim_matrix):\n",
    "    sim_user_indices = np.argsort(sim_matrix[user_id-1, :])[::-1]\n",
    "    sim_user_ids = [x+1 for x in sim_user_indices if x+1 != user_id] # convert indices to id and remove same user's id\n",
    "    sim_user_ratings = []\n",
    "    weights = []\n",
    "    _k = 0\n",
    "    for u_id in sim_user_ids:\n",
    "        _r = train_rating_df[(train_rating_df.user_id == u_id) & (train_rating_df.movie_id == movie_id)]\n",
    "        if len(_r) == 0 or u_id == user_id:\n",
    "            continue\n",
    "        else:\n",
    "            _k+=1\n",
    "            _r = _r['rating'].values[0]\n",
    "#             print(u_id, sim_matrix[u_id-1, user_id-1], _r)\n",
    "            sim_user_ratings.append(_r)\n",
    "            weights.append(sim_matrix[u_id-1, user_id-1])\n",
    "            if _k == k:\n",
    "                break\n",
    "#     print(sim_user_ratings)\n",
    "#     print(weights)\n",
    "    return np.average(sim_user_ratings, weights=weights)"
   ]
  },
  {
   "cell_type": "code",
   "execution_count": 233,
   "metadata": {
    "ExecuteTime": {
     "end_time": "2018-04-22T01:55:02.357678Z",
     "start_time": "2018-04-22T01:55:01.983121Z"
    }
   },
   "outputs": [
    {
     "name": "stdout",
     "output_type": "stream",
     "text": [
      "[4, 3, 2, 3, 4, 2, 5, 4, 5, 4]\n",
      "[0.9826588185416997, 0.9796466309866624, 0.9780059881267369, 0.9752447566981104, 0.9705957318916849, 0.9683417655698434, 0.9677450841288013, 0.9676084960616761, 0.9657031683831926, 0.9635645012921532]\n"
     ]
    },
    {
     "data": {
      "text/plain": [
       "3.597274168887529"
      ]
     },
     "execution_count": 233,
     "metadata": {},
     "output_type": "execute_result"
    }
   ],
   "source": [
    "predict_rating(1, 20, 10, user_similarity)"
   ]
  },
  {
   "cell_type": "code",
   "execution_count": 165,
   "metadata": {
    "ExecuteTime": {
     "end_time": "2018-04-22T01:24:32.446406Z",
     "start_time": "2018-04-22T01:24:32.439482Z"
    }
   },
   "outputs": [
    {
     "data": {
      "text/plain": [
       "1.0"
      ]
     },
     "execution_count": 165,
     "metadata": {},
     "output_type": "execute_result"
    }
   ],
   "source": [
    "# user_similarity[195, 117]"
   ]
  },
  {
   "cell_type": "code",
   "execution_count": 175,
   "metadata": {
    "ExecuteTime": {
     "end_time": "2018-04-22T01:28:06.518986Z",
     "start_time": "2018-04-22T01:28:06.505830Z"
    }
   },
   "outputs": [
    {
     "data": {
      "text/plain": [
       "(array([654]), array([5.]), array([5.]))"
      ]
     },
     "execution_count": 175,
     "metadata": {},
     "output_type": "execute_result"
    }
   ],
   "source": [
    "# ir = user_movie_matrix[195,:]\n",
    "# jr = user_movie_matrix[117,:]\n",
    "\n",
    "# _indices = np.intersect1d(np.where(~np.isnan(ir))[0], np.where(~np.isnan(jr))[0])\n",
    "# _indices, ir[_indices], jr[_indices]"
   ]
  },
  {
   "cell_type": "code",
   "execution_count": 235,
   "metadata": {
    "ExecuteTime": {
     "end_time": "2018-04-22T02:01:50.564536Z",
     "start_time": "2018-04-22T02:01:50.556304Z"
    }
   },
   "outputs": [],
   "source": [
    "from sklearn.metrics import mean_squared_error"
   ]
  },
  {
   "cell_type": "code",
   "execution_count": 242,
   "metadata": {
    "ExecuteTime": {
     "end_time": "2018-04-22T04:47:24.164885Z",
     "start_time": "2018-04-22T02:32:26.425756Z"
    }
   },
   "outputs": [
    {
     "name": "stdout",
     "output_type": "stream",
     "text": [
      "1 11.863110065460205\n",
      "3 19.0128231048584\n",
      "5 25.00176501274109\n",
      "7 28.48245620727539\n",
      "9 30.752810955047607\n",
      "11 33.76921510696411\n",
      "13 37.891305923461914\n",
      "15 39.19296431541443\n",
      "17 41.26323199272156\n",
      "19 44.69965696334839\n",
      "21 45.83637189865112\n",
      "23 48.31591725349426\n",
      "25 49.00671577453613\n",
      "27 50.38328719139099\n",
      "29 53.43999791145325\n",
      "31 54.61395287513733\n",
      "33 5865.579217910767\n",
      "35 1088.866625070572\n",
      "37 67.24568390846252\n",
      "39 84.24712920188904\n",
      "41 79.98179292678833\n",
      "43 78.60578203201294\n",
      "45 68.27002787590027\n",
      "47 74.63964796066284\n",
      "49 76.7568712234497\n"
     ]
    }
   ],
   "source": [
    "mse = []\n",
    "rmse = []\n",
    "ks = list(range(1, 50, 2))\n",
    "for k in ks:\n",
    "    t = time.time()\n",
    "    y_pred = []\n",
    "    y_true = []\n",
    "    for idx, vals in enumerate(test_rating_df.loc[:, ['user_id', 'movie_id']].values):\n",
    "        user_id, movie_id = vals\n",
    "        y_pred.append(predict_rating(user_id, movie_id, k, user_similarity))\n",
    "        y_true.append(test_rating_df.loc[idx, 'rating'])\n",
    "        \n",
    "        if idx == 101:\n",
    "            print(f'{k} {time.time()-t}')\n",
    "            break\n",
    "    mse.append(mean_squared_error(y_true, y_pred))\n",
    "    rmse.append(np.sqrt(mse[-1]))"
   ]
  },
  {
   "cell_type": "code",
   "execution_count": 244,
   "metadata": {
    "ExecuteTime": {
     "end_time": "2018-04-22T04:48:10.821257Z",
     "start_time": "2018-04-22T04:48:10.664054Z"
    }
   },
   "outputs": [
    {
     "data": {
      "text/plain": [
       "Text(0,0.5,'rmse')"
      ]
     },
     "execution_count": 244,
     "metadata": {},
     "output_type": "execute_result"
    },
    {
     "data": {
      "image/png": "[encoded data removed]",
      "text/plain": [
       "<Figure size 432x288 with 1 Axes>"
      ]
     },
     "metadata": {},
     "output_type": "display_data"
    }
   ],
   "source": [
    "plt.plot(ks, rmse)\n",
    "plt.xlabel('k')\n",
    "plt.ylabel('rmse')"
   ]
  },
  {
   "cell_type": "code",
   "execution_count": null,
   "metadata": {},
   "outputs": [],
   "source": []
  }
 ],
 "metadata": {
  "kernelspec": {
   "display_name": "Python 3",
   "language": "python",
   "name": "python3"
  },
  "language_info": {
   "codemirror_mode": {
    "name": "ipython",
    "version": 3
   },
   "file_extension": ".py",
   "mimetype": "text/x-python",
   "name": "python",
   "nbconvert_exporter": "python",
   "pygments_lexer": "ipython3",
   "version": "3.6.4"
  }
 },
 "nbformat": 4,
 "nbformat_minor": 2
}
