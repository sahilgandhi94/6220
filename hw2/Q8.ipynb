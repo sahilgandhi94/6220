{
 "cells": [
  {
   "cell_type": "code",
   "execution_count": 3,
   "metadata": {
    "ExecuteTime": {
     "end_time": "2018-02-23T19:26:27.900736Z",
     "start_time": "2018-02-23T19:26:27.785779Z"
    }
   },
   "outputs": [],
   "source": [
    "import pandas as pd\n",
    "import numpy as np\n",
    "\n",
    "from matplotlib import pyplot as plt\n",
    "from mpl_toolkits.mplot3d import Axes3D\n",
    "\n",
    "from scipy.stats import describe\n",
    "\n",
    "from sklearn.model_selection import KFold\n",
    "from sklearn.preprocessing import StandardScaler\n",
    "from sklearn.metrics import confusion_matrix\n",
    "from sklearn.metrics.pairwise import euclidean_distances\n",
    "from sklearn.metrics.pairwise import cosine_distances\n",
    "from sklearn.datasets import fetch_20newsgroups\n",
    "from sklearn.feature_extraction.text import TfidfVectorizer\n",
    "from sklearn.metrics.pairwise import euclidean_distances\n",
    "\n",
    "import sys\n",
    "sys.path.append('../Data/fashion-mnist/utils')\n",
    "import mnist_reader\n",
    "\n",
    "from sklearn.datasets import fetch_mldata\n",
    "from sklearn.cluster import AgglomerativeClustering, DBSCAN\n",
    "\n",
    "mnist = fetch_mldata('MNIST original', data_home='../Data')\n",
    "\n",
    "from scipy.cluster.hierarchy import *\n"
   ]
  },
  {
   "cell_type": "code",
   "execution_count": 31,
   "metadata": {
    "ExecuteTime": {
     "end_time": "2018-02-23T20:19:24.286782Z",
     "start_time": "2018-02-23T20:19:24.225292Z"
    }
   },
   "outputs": [],
   "source": [
    "G = lambda cm: [\n",
    "    1 - np.sum(\n",
    "        [(np.square(\n",
    "            cm[i, j] / (np.sum(cm[:, j]) if np.sum(cm[:, j]) > 0 else 1))\n",
    "         ) for i in range(cm.shape[0])]\n",
    "    ) for j in range(cm.shape[1])]\n",
    "gini = lambda cm: np.sum(np.multiply(G(cm), np.sum(cm, axis=0))) / np.sum(cm)\n",
    "purity = lambda cm, tar: np.sum(np.amax(cm, axis=0)) / tar.shape[0]\n",
    "\n",
    "def params(clusters, targets):\n",
    "    cm = confusion_matrix(targets, clusters)\n",
    "    pur = purity(cm, targets)\n",
    "#     gin = gini(cm)\n",
    "    print(\"Purity: \", pur)\n",
    "#     print(\"Gini index: \", gin)\n",
    "    return pur#, gin"
   ]
  },
  {
   "cell_type": "code",
   "execution_count": 5,
   "metadata": {
    "ExecuteTime": {
     "end_time": "2018-02-23T19:26:36.830428Z",
     "start_time": "2018-02-23T19:26:36.820148Z"
    }
   },
   "outputs": [
    {
     "data": {
      "text/plain": [
       "(70000, 784)"
      ]
     },
     "execution_count": 5,
     "metadata": {},
     "output_type": "execute_result"
    }
   ],
   "source": [
    "mnist.data.shape"
   ]
  },
  {
   "cell_type": "code",
   "execution_count": 6,
   "metadata": {
    "ExecuteTime": {
     "end_time": "2018-02-23T19:34:30.336060Z",
     "start_time": "2018-02-23T19:26:37.715350Z"
    }
   },
   "outputs": [],
   "source": [
    "D = euclidean_distances(mnist.data)"
   ]
  },
  {
   "cell_type": "code",
   "execution_count": 7,
   "metadata": {
    "ExecuteTime": {
     "end_time": "2018-02-23T19:34:30.398387Z",
     "start_time": "2018-02-23T19:34:30.392915Z"
    }
   },
   "outputs": [
    {
     "data": {
      "text/plain": [
       "(70000, 70000)"
      ]
     },
     "execution_count": 7,
     "metadata": {},
     "output_type": "execute_result"
    }
   ],
   "source": [
    "D.shape"
   ]
  },
  {
   "cell_type": "code",
   "execution_count": 8,
   "metadata": {
    "ExecuteTime": {
     "end_time": "2018-02-23T19:40:51.335839Z",
     "start_time": "2018-02-23T19:34:30.453756Z"
    }
   },
   "outputs": [],
   "source": [
    "import scipy.spatial.distance as ssd\n",
    "# convert the redundant n*n square matrix form into a condensed nC2 array\n",
    "_D = ssd.squareform(D)"
   ]
  },
  {
   "cell_type": "code",
   "execution_count": 9,
   "metadata": {
    "ExecuteTime": {
     "end_time": "2018-02-23T19:40:51.417535Z",
     "start_time": "2018-02-23T19:40:51.412681Z"
    }
   },
   "outputs": [
    {
     "data": {
      "text/plain": [
       "(2449965000,)"
      ]
     },
     "execution_count": 9,
     "metadata": {},
     "output_type": "execute_result"
    }
   ],
   "source": [
    "_D.shape"
   ]
  },
  {
   "cell_type": "code",
   "execution_count": 10,
   "metadata": {
    "ExecuteTime": {
     "end_time": "2018-02-23T19:52:28.455884Z",
     "start_time": "2018-02-23T19:40:51.479734Z"
    }
   },
   "outputs": [],
   "source": [
    "Zavg = linkage(_D, method='average')"
   ]
  },
  {
   "cell_type": "code",
   "execution_count": 11,
   "metadata": {
    "ExecuteTime": {
     "end_time": "2018-02-23T19:55:04.025360Z",
     "start_time": "2018-02-23T19:52:28.511253Z"
    }
   },
   "outputs": [],
   "source": [
    "Zsingle = single(_D)"
   ]
  },
  {
   "cell_type": "code",
   "execution_count": null,
   "metadata": {},
   "outputs": [],
   "source": []
  },
  {
   "cell_type": "code",
   "execution_count": 128,
   "metadata": {
    "ExecuteTime": {
     "end_time": "2018-02-23T21:32:13.989549Z",
     "start_time": "2018-02-23T21:32:13.986440Z"
    }
   },
   "outputs": [],
   "source": [
    "threshold = 0.7"
   ]
  },
  {
   "cell_type": "code",
   "execution_count": 129,
   "metadata": {
    "ExecuteTime": {
     "end_time": "2018-02-23T21:32:21.120248Z",
     "start_time": "2018-02-23T21:32:14.491762Z"
    }
   },
   "outputs": [
    {
     "name": "stdout",
     "output_type": "stream",
     "text": [
      "Purity:  0.992028571429\n"
     ]
    },
    {
     "data": {
      "text/plain": [
       "0.99202857142857148"
      ]
     },
     "execution_count": 129,
     "metadata": {},
     "output_type": "execute_result"
    },
    {
     "data": {
      "text/plain": [
       "(array([    1,     2,     3, ..., 45269, 45270, 45271], dtype=int32),\n",
       " array([2, 2, 2, ..., 1, 1, 1]))"
      ]
     },
     "execution_count": 129,
     "metadata": {},
     "output_type": "execute_result"
    }
   ],
   "source": [
    "Tavg = fcluster(Zavg, threshold)\n",
    "params(Tavg, mnist.target)\n",
    "np.unique(Tavg, return_counts=True)"
   ]
  },
  {
   "cell_type": "code",
   "execution_count": 75,
   "metadata": {
    "ExecuteTime": {
     "end_time": "2018-02-23T20:26:20.725956Z",
     "start_time": "2018-02-23T20:26:15.569485Z"
    }
   },
   "outputs": [
    {
     "name": "stdout",
     "output_type": "stream",
     "text": [
      "Purity:  0.997385714286\n"
     ]
    },
    {
     "data": {
      "text/plain": [
       "0.99738571428571432"
      ]
     },
     "execution_count": 75,
     "metadata": {},
     "output_type": "execute_result"
    },
    {
     "data": {
      "text/plain": [
       "(array([    1,     2,     3, ..., 39211, 39212, 39213], dtype=int32),\n",
       " array([2, 2, 2, ..., 1, 1, 1]))"
      ]
     },
     "execution_count": 75,
     "metadata": {},
     "output_type": "execute_result"
    }
   ],
   "source": [
    "Tsingle = fcluster(Zsingle, threshold)\n",
    "params(Tsingle, mnist.target)\n",
    "np.unique(Tsingle, return_counts=True)"
   ]
  },
  {
   "cell_type": "code",
   "execution_count": null,
   "metadata": {},
   "outputs": [],
   "source": []
  },
  {
   "cell_type": "code",
   "execution_count": 145,
   "metadata": {
    "ExecuteTime": {
     "end_time": "2018-02-23T21:33:30.259559Z",
     "start_time": "2018-02-23T21:33:29.881402Z"
    }
   },
   "outputs": [
    {
     "data": {
      "text/plain": [
       "(array([  314.,   509.,    27.,   303.,  4630.,    43.,    75.,   198.,\n",
       "          449.,   277.]),\n",
       " array([  3.00000000e+00,   4.51300000e+03,   9.02300000e+03,\n",
       "          1.35330000e+04,   1.80430000e+04,   2.25530000e+04,\n",
       "          2.70630000e+04,   3.15730000e+04,   3.60830000e+04,\n",
       "          4.05930000e+04,   4.51030000e+04]),\n",
       " <a list of 10 Patch objects>)"
      ]
     },
     "execution_count": 145,
     "metadata": {},
     "output_type": "execute_result"
    },
    {
     "data": {
      "image/png": "[encoded data removed]",
      "text/plain": [
       "<matplotlib.figure.Figure at 0x7fc10a35e630>"
      ]
     },
     "metadata": {
      "image/png": {
       "height": 250,
       "width": 383
      }
     },
     "output_type": "display_data"
    }
   ],
   "source": [
    "plt.hist(Tavg[np.where(mnist.target == 8)])\n",
    "plt.show()"
   ]
  },
  {
   "cell_type": "code",
   "execution_count": null,
   "metadata": {},
   "outputs": [],
   "source": []
  },
  {
   "cell_type": "code",
   "execution_count": null,
   "metadata": {},
   "outputs": [],
   "source": []
  },
  {
   "cell_type": "code",
   "execution_count": 124,
   "metadata": {
    "ExecuteTime": {
     "end_time": "2018-02-23T20:52:51.356623Z",
     "start_time": "2018-02-23T20:43:39.344958Z"
    }
   },
   "outputs": [
    {
     "name": "stdout",
     "output_type": "stream",
     "text": [
      "Purity:  0.992085714286\n",
      "Purity:  0.992085714286\n",
      "Purity:  0.992085714286\n",
      "Purity:  0.992085714286\n",
      "Purity:  0.992085714286\n",
      "Purity:  0.992085714286\n",
      "Purity:  0.992085714286\n",
      "Purity:  0.992085714286\n",
      "Purity:  0.992085714286\n",
      "Purity:  0.992085714286\n",
      "Purity:  0.992085714286\n",
      "Purity:  0.992085714286\n",
      "Purity:  0.992085714286\n",
      "Purity:  0.992085714286\n",
      "Purity:  0.992085714286\n",
      "Purity:  0.992085714286\n",
      "Purity:  0.992085714286\n",
      "Purity:  0.992085714286\n",
      "Purity:  0.992085714286\n",
      "Purity:  0.992085714286\n",
      "Purity:  0.992085714286\n",
      "Purity:  0.992085714286\n",
      "Purity:  0.992085714286\n",
      "Purity:  0.992085714286\n",
      "Purity:  0.992085714286\n",
      "Purity:  0.992085714286\n",
      "Purity:  0.992085714286\n",
      "Purity:  0.992085714286\n",
      "Purity:  0.992085714286\n",
      "Purity:  0.992085714286\n",
      "Purity:  0.992085714286\n",
      "Purity:  0.992085714286\n",
      "Purity:  0.992085714286\n",
      "Purity:  0.992085714286\n",
      "Purity:  0.992085714286\n",
      "Purity:  0.992085714286\n",
      "Purity:  0.992085714286\n",
      "Purity:  0.992085714286\n",
      "Purity:  0.992085714286\n",
      "Purity:  0.992085714286\n",
      "Purity:  0.992085714286\n",
      "Purity:  0.992085714286\n",
      "Purity:  0.992085714286\n",
      "Purity:  0.992085714286\n",
      "Purity:  0.992085714286\n",
      "Purity:  0.992085714286\n",
      "Purity:  0.992085714286\n",
      "Purity:  0.992085714286\n",
      "Purity:  0.992085714286\n",
      "Purity:  0.992085714286\n",
      "Purity:  0.992085714286\n",
      "Purity:  0.992085714286\n",
      "Purity:  0.992085714286\n",
      "Purity:  0.992085714286\n",
      "Purity:  0.992085714286\n",
      "Purity:  0.992085714286\n",
      "Purity:  0.992085714286\n",
      "Purity:  0.992085714286\n",
      "Purity:  0.992085714286\n",
      "Purity:  0.992085714286\n",
      "Purity:  0.992085714286\n",
      "Purity:  0.992085714286\n",
      "Purity:  0.992085714286\n",
      "Purity:  0.992085714286\n",
      "Purity:  0.992085714286\n",
      "Purity:  0.992085714286\n",
      "Purity:  0.992057142857\n",
      "Purity:  0.992057142857\n",
      "Purity:  0.992057142857\n",
      "Purity:  0.992057142857\n",
      "Purity:  0.992028571429\n",
      "Purity:  0.984942857143\n",
      "Purity:  0.9849\n",
      "Purity:  0.9849\n",
      "Purity:  0.984814285714\n",
      "Purity:  0.984785714286\n",
      "Purity:  0.984714285714\n",
      "Purity:  0.984642857143\n",
      "Purity:  0.984628571429\n",
      "Purity:  0.984585714286\n",
      "Purity:  0.984542857143\n",
      "Purity:  0.984514285714\n",
      "Purity:  0.984428571429\n",
      "Purity:  0.984314285714\n",
      "Purity:  0.984285714286\n",
      "Purity:  0.984185714286\n",
      "Purity:  0.984128571429\n",
      "Purity:  0.984028571429\n",
      "Purity:  0.983957142857\n",
      "Purity:  0.983842857143\n",
      "Purity:  0.983728571429\n",
      "Purity:  0.983614285714\n",
      "Purity:  0.983457142857\n",
      "Purity:  0.983328571429\n",
      "Purity:  0.9832\n",
      "Purity:  0.983028571429\n",
      "Purity:  0.983\n",
      "Purity:  0.982814285714\n",
      "Purity:  0.982642857143\n",
      "Purity:  0.982485714286\n",
      "Purity:  0.982442857143\n",
      "Purity:  0.982242857143\n",
      "Purity:  0.982185714286\n",
      "Purity:  0.982014285714\n",
      "Purity:  0.981685714286\n",
      "Purity:  0.981414285714\n",
      "Purity:  0.980871428571\n",
      "Purity:  0.980585714286\n",
      "Purity:  0.980028571429\n",
      "Purity:  0.979414285714\n",
      "[45333, 45333, 45333, 45333, 45333, 45333, 45333, 45333, 45333, 45333, 45333, 45333, 45333, 45333, 45333, 45333, 45333, 45333, 45333, 45333, 45333, 45333, 45333, 45333, 45333, 45333, 45333, 45333, 45333, 45333, 45333, 45333, 45333, 45333, 45333, 45333, 45333, 45333, 45333, 45333, 45333, 45333, 45333, 45333, 45333, 45333, 45333, 45333, 45333, 45333, 45333, 45333, 45333, 45333, 45333, 45333, 45333, 45333, 45333, 45332, 45329, 45328, 45327, 45323, 45318, 45314, 45304, 45295, 45283, 45278, 45271, 28009, 27938, 27865, 27796, 27708, 27620, 27536, 27439, 27339, 27232, 27109, 26973, 26848, 26686, 26536, 26388, 26188, 25983, 25789, 25603, 25389, 25157, 24942, 24698, 24407, 24123, 23806, 23502, 23157, 22868, 22503, 22143, 21749, 21305, 20771, 20232, 19601, 18983, 18318]\n",
      "[0.99208571428571424, 0.99208571428571424, 0.99208571428571424, 0.99208571428571424, 0.99208571428571424, 0.99208571428571424, 0.99208571428571424, 0.99208571428571424, 0.99208571428571424, 0.99208571428571424, 0.99208571428571424, 0.99208571428571424, 0.99208571428571424, 0.99208571428571424, 0.99208571428571424, 0.99208571428571424, 0.99208571428571424, 0.99208571428571424, 0.99208571428571424, 0.99208571428571424, 0.99208571428571424, 0.99208571428571424, 0.99208571428571424, 0.99208571428571424, 0.99208571428571424, 0.99208571428571424, 0.99208571428571424, 0.99208571428571424, 0.99208571428571424, 0.99208571428571424, 0.99208571428571424, 0.99208571428571424, 0.99208571428571424, 0.99208571428571424, 0.99208571428571424, 0.99208571428571424, 0.99208571428571424, 0.99208571428571424, 0.99208571428571424, 0.99208571428571424, 0.99208571428571424, 0.99208571428571424, 0.99208571428571424, 0.99208571428571424, 0.99208571428571424, 0.99208571428571424, 0.99208571428571424, 0.99208571428571424, 0.99208571428571424, 0.99208571428571424, 0.99208571428571424, 0.99208571428571424, 0.99208571428571424, 0.99208571428571424, 0.99208571428571424, 0.99208571428571424, 0.99208571428571424, 0.99208571428571424, 0.99208571428571424, 0.99208571428571424, 0.99208571428571424, 0.99208571428571424, 0.99208571428571424, 0.99208571428571424, 0.99208571428571424, 0.99208571428571424, 0.99205714285714286, 0.99205714285714286, 0.99205714285714286, 0.99205714285714286, 0.99202857142857148, 0.98494285714285712, 0.9849, 0.9849, 0.98481428571428575, 0.98478571428571426, 0.98471428571428576, 0.98464285714285715, 0.98462857142857141, 0.98458571428571429, 0.98454285714285716, 0.98451428571428568, 0.98442857142857143, 0.9843142857142857, 0.98428571428571432, 0.98418571428571433, 0.98412857142857146, 0.98402857142857147, 0.98395714285714286, 0.98384285714285713, 0.9837285714285714, 0.98361428571428566, 0.98345714285714281, 0.98332857142857144, 0.98319999999999996, 0.98302857142857147, 0.98299999999999998, 0.98281428571428575, 0.98264285714285715, 0.9824857142857143, 0.98244285714285717, 0.9822428571428572, 0.98218571428571433, 0.98201428571428573, 0.98168571428571427, 0.98141428571428568, 0.98087142857142862, 0.98058571428571428, 0.98002857142857147, 0.97941428571428568]\n"
     ]
    }
   ],
   "source": [
    "ths = np.arange(0, 1.1, 0.01)\n",
    "prs = list()\n",
    "nclst = list()\n",
    "for th in ths:\n",
    "    _Tavg = fcluster(Zavg, th)\n",
    "    _p = params(_Tavg, mnist.target)\n",
    "    prs.append(_p)\n",
    "    nclst.append(len(np.unique(_Tavg)))\n",
    "\n",
    "print(nclst)\n",
    "print(prs)"
   ]
  },
  {
   "cell_type": "code",
   "execution_count": 126,
   "metadata": {
    "ExecuteTime": {
     "end_time": "2018-02-23T21:31:30.307863Z",
     "start_time": "2018-02-23T21:31:29.967686Z"
    }
   },
   "outputs": [
    {
     "data": {
      "text/plain": [
       "[<matplotlib.lines.Line2D at 0x7fc10aae4080>]"
      ]
     },
     "execution_count": 126,
     "metadata": {},
     "output_type": "execute_result"
    },
    {
     "data": {
      "image/png": "[encoded data removed]",
      "text/plain": [
       "<matplotlib.figure.Figure at 0x7fc10ab1b1d0>"
      ]
     },
     "metadata": {
      "image/png": {
       "height": 250,
       "width": 386
      }
     },
     "output_type": "display_data"
    }
   ],
   "source": [
    "plt.plot(ths, prs)"
   ]
  },
  {
   "cell_type": "code",
   "execution_count": 127,
   "metadata": {
    "ExecuteTime": {
     "end_time": "2018-02-23T21:31:35.116723Z",
     "start_time": "2018-02-23T21:31:34.853710Z"
    }
   },
   "outputs": [
    {
     "data": {
      "text/plain": [
       "[<matplotlib.lines.Line2D at 0x7fc10aac23c8>]"
      ]
     },
     "execution_count": 127,
     "metadata": {},
     "output_type": "execute_result"
    },
    {
     "data": {
      "image/png": "[encoded data removed]",
      "text/plain": [
       "<matplotlib.figure.Figure at 0x7fc10ab21320>"
      ]
     },
     "metadata": {
      "image/png": {
       "height": 250,
       "width": 390
      }
     },
     "output_type": "display_data"
    }
   ],
   "source": [
    "plt.plot(ths, nclst)"
   ]
  },
  {
   "cell_type": "code",
   "execution_count": null,
   "metadata": {},
   "outputs": [],
   "source": []
  },
  {
   "cell_type": "code",
   "execution_count": null,
   "metadata": {},
   "outputs": [],
   "source": []
  },
  {
   "cell_type": "code",
   "execution_count": null,
   "metadata": {},
   "outputs": [],
   "source": []
  },
  {
   "cell_type": "code",
   "execution_count": null,
   "metadata": {},
   "outputs": [],
   "source": [
    "# nclst = [45333, 45333, 45333, 45333, 45333, 45333, 45333, 45333, 45333, 45333, 45333, 45333, 45333, 45333, 45333, 45333, 45333, 45333, 45333, 45333, 45333, 45333, 45333, 45333, 45333, 45333, 45333, 45333, 45333, 45333, 45333, 45333, 45333, 45333, 45333, 45333, 45333, 45333, 45333, 45333, 45333, 45333, 45333, 45333, 45333, 45333, 45333, 45333, 45333, 45333, 45333, 45333, 45333, 45333, 45333, 45333, 45333, 45333, 45333, 45332, 45329, 45328, 45327, 45323, 45318, 45314, 45304, 45295, 45283, 45278, 45271, 28009, 27938, 27865, 27796, 27708, 27620, 27536, 27439, 27339, 27232, 27109, 26973, 26848, 26686, 26536, 26388, 26188, 25983, 25789, 25603, 25389, 25157, 24942, 24698, 24407, 24123, 23806, 23502, 23157, 22868, 22503, 22143, 21749, 21305, 20771, 20232, 19601, 18983, 18318]\n",
    "# prs = [0.99208571428571424, 0.99208571428571424, 0.99208571428571424, 0.99208571428571424, 0.99208571428571424, 0.99208571428571424, 0.99208571428571424, 0.99208571428571424, 0.99208571428571424, 0.99208571428571424, 0.99208571428571424, 0.99208571428571424, 0.99208571428571424, 0.99208571428571424, 0.99208571428571424, 0.99208571428571424, 0.99208571428571424, 0.99208571428571424, 0.99208571428571424, 0.99208571428571424, 0.99208571428571424, 0.99208571428571424, 0.99208571428571424, 0.99208571428571424, 0.99208571428571424, 0.99208571428571424, 0.99208571428571424, 0.99208571428571424, 0.99208571428571424, 0.99208571428571424, 0.99208571428571424, 0.99208571428571424, 0.99208571428571424, 0.99208571428571424, 0.99208571428571424, 0.99208571428571424, 0.99208571428571424, 0.99208571428571424, 0.99208571428571424, 0.99208571428571424, 0.99208571428571424, 0.99208571428571424, 0.99208571428571424, 0.99208571428571424, 0.99208571428571424, 0.99208571428571424, 0.99208571428571424, 0.99208571428571424, 0.99208571428571424, 0.99208571428571424, 0.99208571428571424, 0.99208571428571424, 0.99208571428571424, 0.99208571428571424, 0.99208571428571424, 0.99208571428571424, 0.99208571428571424, 0.99208571428571424, 0.99208571428571424, 0.99208571428571424, 0.99208571428571424, 0.99208571428571424, 0.99208571428571424, 0.99208571428571424, 0.99208571428571424, 0.99208571428571424, 0.99205714285714286, 0.99205714285714286, 0.99205714285714286, 0.99205714285714286, 0.99202857142857148, 0.98494285714285712, 0.9849, 0.9849, 0.98481428571428575, 0.98478571428571426, 0.98471428571428576, 0.98464285714285715, 0.98462857142857141, 0.98458571428571429, 0.98454285714285716, 0.98451428571428568, 0.98442857142857143, 0.9843142857142857, 0.98428571428571432, 0.98418571428571433, 0.98412857142857146, 0.98402857142857147, 0.98395714285714286, 0.98384285714285713, 0.9837285714285714, 0.98361428571428566, 0.98345714285714281, 0.98332857142857144, 0.98319999999999996, 0.98302857142857147, 0.98299999999999998, 0.98281428571428575, 0.98264285714285715, 0.9824857142857143, 0.98244285714285717, 0.9822428571428572, 0.98218571428571433, 0.98201428571428573, 0.98168571428571427, 0.98141428571428568, 0.98087142857142862, 0.98058571428571428, 0.98002857142857147, 0.97941428571428568]\n"
   ]
  }
 ],
 "metadata": {
  "kernelspec": {
   "display_name": "Python 3",
   "language": "python",
   "name": "python3"
  },
  "language_info": {
   "codemirror_mode": {
    "name": "ipython",
    "version": 3
   },
   "file_extension": ".py",
   "mimetype": "text/x-python",
   "name": "python",
   "nbconvert_exporter": "python",
   "pygments_lexer": "ipython3",
   "version": "3.6.4"
  },
  "toc": {
   "nav_menu": {},
   "number_sections": true,
   "sideBar": true,
   "skip_h1_title": false,
   "toc_cell": false,
   "toc_position": {},
   "toc_section_display": "block",
   "toc_window_display": false
  },
  "varInspector": {
   "cols": {
    "lenName": 16,
    "lenType": 16,
    "lenVar": 40
   },
   "kernels_config": {
    "python": {
     "delete_cmd_postfix": "",
     "delete_cmd_prefix": "del ",
     "library": "var_list.py",
     "varRefreshCmd": "print(var_dic_list())"
    },
    "r": {
     "delete_cmd_postfix": ") ",
     "delete_cmd_prefix": "rm(",
     "library": "var_list.r",
     "varRefreshCmd": "cat(var_dic_list()) "
    }
   },
   "types_to_exclude": [
    "module",
    "function",
    "builtin_function_or_method",
    "instance",
    "_Feature"
   ],
   "window_display": false
  }
 },
 "nbformat": 4,
 "nbformat_minor": 2
}
