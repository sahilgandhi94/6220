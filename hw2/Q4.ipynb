{
 "cells": [
  {
   "cell_type": "code",
   "execution_count": 9,
   "metadata": {
    "ExecuteTime": {
     "end_time": "2018-02-17T00:05:41.987190Z",
     "start_time": "2018-02-17T00:05:41.977851Z"
    }
   },
   "outputs": [],
   "source": [
    "from sklearn.mixture import GaussianMixture\n",
    "from sklearn.metrics import accuracy_score\n",
    "from sklearn.metrics import confusion_matrix\n",
    "import numpy as np\n",
    "import sys\n",
    "sys.path.append('../Data/fashion-mnist/utils')\n",
    "import mnist_reader"
   ]
  },
  {
   "cell_type": "code",
   "execution_count": 11,
   "metadata": {
    "ExecuteTime": {
     "end_time": "2018-02-17T00:08:25.651004Z",
     "start_time": "2018-02-17T00:08:25.593881Z"
    }
   },
   "outputs": [],
   "source": [
    "G = lambda cm: [\n",
    "    1 - np.sum(\n",
    "        [(np.square(\n",
    "            cm[i, j] / (np.sum(cm[:, j]) if np.sum(cm[:, j]) > 0 else 1))\n",
    "         ) for i in range(cm.shape[0])]\n",
    "    ) for j in range(cm.shape[1])]\n",
    "gini = lambda cm: np.sum(np.multiply(G(cm), np.sum(cm, axis=0))) / np.sum(cm)\n",
    "purity = lambda cm, tar: np.sum(np.amax(cm, axis=0)) / tar.shape[0]\n",
    "\n",
    "def soln(data, target, k):\n",
    "    gm = GaussianMixture(k, covariance_type='diag')\n",
    "    gm.fit(data)\n",
    "    yp = gm.predict(data)\n",
    "    probab = gm.predict_proba(data)\n",
    "    cm = confusion_matrix(target, yp)\n",
    "    print(\"Purity: \", purity(cm, target))\n",
    "    print(\"Gini index: \", gini(cm))\n",
    "    return probab"
   ]
  },
  {
   "cell_type": "markdown",
   "metadata": {},
   "source": [
    "## MNIST\n"
   ]
  },
  {
   "cell_type": "code",
   "execution_count": 12,
   "metadata": {
    "ExecuteTime": {
     "end_time": "2018-02-17T00:09:02.531192Z",
     "start_time": "2018-02-17T00:08:27.470986Z"
    }
   },
   "outputs": [
    {
     "name": "stdout",
     "output_type": "stream",
     "text": [
      "Purity:  0.452766666667\n",
      "Gini index:  0.638914211609\n"
     ]
    },
    {
     "data": {
      "text/plain": [
       "array([[ 0.,  0.,  0., ...,  0.,  0.,  0.],\n",
       "       [ 0.,  1.,  0., ...,  0.,  0.,  0.],\n",
       "       [ 0.,  0.,  0., ...,  0.,  0.,  0.],\n",
       "       ..., \n",
       "       [ 0.,  0.,  0., ...,  0.,  0.,  0.],\n",
       "       [ 1.,  0.,  0., ...,  0.,  0.,  0.],\n",
       "       [ 0.,  0.,  1., ...,  0.,  0.,  0.]])"
      ]
     },
     "execution_count": 12,
     "metadata": {},
     "output_type": "execute_result"
    }
   ],
   "source": [
    "X, y = mnist_reader.load_mnist('../Data/fashion-mnist/data/fashion')\n",
    "soln(X, y, 10)"
   ]
  },
  {
   "cell_type": "markdown",
   "metadata": {},
   "source": [
    "### Spambase Dataset"
   ]
  },
  {
   "cell_type": "code",
   "execution_count": 14,
   "metadata": {
    "ExecuteTime": {
     "end_time": "2018-02-17T00:10:10.529841Z",
     "start_time": "2018-02-17T00:10:10.227603Z"
    }
   },
   "outputs": [
    {
     "name": "stdout",
     "output_type": "stream",
     "text": [
      "Purity:  0.748532927624\n",
      "Gini index:  0.333201665874\n"
     ]
    },
    {
     "data": {
      "text/plain": [
       "array([[  2.81882501e-031,   1.00000000e+000],\n",
       "       [  7.65098921e-049,   1.00000000e+000],\n",
       "       [  7.80732148e-226,   1.00000000e+000],\n",
       "       ..., \n",
       "       [  1.82453177e-030,   1.00000000e+000],\n",
       "       [  1.00000000e+000,   8.47259191e-077],\n",
       "       [  2.89580818e-031,   1.00000000e+000]])"
      ]
     },
     "execution_count": 14,
     "metadata": {},
     "output_type": "execute_result"
    }
   ],
   "source": [
    "import numpy as np\n",
    "with open('../Data/spambase.data') as f:\n",
    "    spam_data = []\n",
    "    target = []\n",
    "    for line in f.readlines():\n",
    "        target.append(int(line[-2]))\n",
    "        line = line[:-3].strip().split(',')\n",
    "        spam_data.append(list(map(float, line)))\n",
    "    target = np.array(target)\n",
    "\n",
    "soln(spam_data, target, 2)"
   ]
  },
  {
   "cell_type": "code",
   "execution_count": null,
   "metadata": {},
   "outputs": [],
   "source": []
  }
 ],
 "metadata": {
  "kernelspec": {
   "display_name": "Python 3",
   "language": "python",
   "name": "python3"
  },
  "language_info": {
   "codemirror_mode": {
    "name": "ipython",
    "version": 3
   },
   "file_extension": ".py",
   "mimetype": "text/x-python",
   "name": "python",
   "nbconvert_exporter": "python",
   "pygments_lexer": "ipython3",
   "version": "3.6.4"
  },
  "toc": {
   "nav_menu": {},
   "number_sections": true,
   "sideBar": true,
   "skip_h1_title": false,
   "toc_cell": false,
   "toc_position": {},
   "toc_section_display": "block",
   "toc_window_display": false
  },
  "varInspector": {
   "cols": {
    "lenName": 16,
    "lenType": 16,
    "lenVar": 40
   },
   "kernels_config": {
    "python": {
     "delete_cmd_postfix": "",
     "delete_cmd_prefix": "del ",
     "library": "var_list.py",
     "varRefreshCmd": "print(var_dic_list())"
    },
    "r": {
     "delete_cmd_postfix": ") ",
     "delete_cmd_prefix": "rm(",
     "library": "var_list.r",
     "varRefreshCmd": "cat(var_dic_list()) "
    }
   },
   "types_to_exclude": [
    "module",
    "function",
    "builtin_function_or_method",
    "instance",
    "_Feature"
   ],
   "window_display": false
  }
 },
 "nbformat": 4,
 "nbformat_minor": 2
}
