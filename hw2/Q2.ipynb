{
 "cells": [
  {
   "cell_type": "code",
   "execution_count": 1,
   "metadata": {
    "ExecuteTime": {
     "end_time": "2018-02-21T22:49:34.582560Z",
     "start_time": "2018-02-21T22:49:21.764146Z"
    }
   },
   "outputs": [
    {
     "ename": "ModuleNotFoundError",
     "evalue": "No module named 'mnist_reader'",
     "output_type": "error",
     "traceback": [
      "\u001b[0;31m---------------------------------------------------------------------------\u001b[0m",
      "\u001b[0;31mModuleNotFoundError\u001b[0m                       Traceback (most recent call last)",
      "\u001b[0;32m<ipython-input-1-8bde579b22cb>\u001b[0m in \u001b[0;36m<module>\u001b[0;34m()\u001b[0m\n\u001b[1;32m     10\u001b[0m \u001b[0;32mimport\u001b[0m \u001b[0msys\u001b[0m\u001b[0;34m\u001b[0m\u001b[0m\n\u001b[1;32m     11\u001b[0m \u001b[0msys\u001b[0m\u001b[0;34m.\u001b[0m\u001b[0mpath\u001b[0m\u001b[0;34m.\u001b[0m\u001b[0mappend\u001b[0m\u001b[0;34m(\u001b[0m\u001b[0;34m'../data/fashion-mnist/utils'\u001b[0m\u001b[0;34m)\u001b[0m\u001b[0;34m\u001b[0m\u001b[0m\n\u001b[0;32m---> 12\u001b[0;31m \u001b[0;32mimport\u001b[0m \u001b[0mmnist_reader\u001b[0m\u001b[0;34m\u001b[0m\u001b[0m\n\u001b[0m",
      "\u001b[0;31mModuleNotFoundError\u001b[0m: No module named 'mnist_reader'"
     ]
    }
   ],
   "source": [
    "from sklearn.metrics.pairwise import cosine_distances, euclidean_distances\n",
    "from sklearn.metrics import pairwise_distances_argmin, pairwise_distances\n",
    "from sklearn.metrics import confusion_matrix\n",
    "from sklearn.datasets import fetch_20newsgroups\n",
    "from sklearn.feature_extraction.text import TfidfVectorizer\n",
    "import numpy as np\n",
    "import scipy\n",
    "import random\n",
    "\n",
    "import sys\n",
    "sys.path.append('../data/fashion-mnist/utils')\n",
    "import mnist_reader"
   ]
  },
  {
   "cell_type": "code",
   "execution_count": null,
   "metadata": {
    "ExecuteTime": {
     "end_time": "2018-02-21T22:49:34.584309Z",
     "start_time": "2018-02-21T22:49:21.222Z"
    }
   },
   "outputs": [],
   "source": [
    "def clusters(data, k):\n",
    "    rng = np.random.RandomState()\n",
    "    i = rng.permutation(data.shape[0])[:k]\n",
    "    centroids = data[i]\n",
    "    perf = []\n",
    "    iters = 0\n",
    "    metrics = ['cosine', 'euclidean']\n",
    "    metric = metrics[random.randint(0, 1)]\n",
    "    print('chosen metric: {}'.format(metric))\n",
    "    while True:\n",
    "        iters += 1\n",
    "\n",
    "        labels = pairwise_distances_argmin(data, centroids, metric=metric)\n",
    "        \n",
    "        new_centers = np.array([data[labels == i].mean(0) for i in range(k)]).reshape(k, -1)\n",
    "\n",
    "        if scipy.sparse.issparse(data): \n",
    "            perf.append(np.linalg.norm([data[i].toarray() - new_centers[j] for i, j in enumerate(labels)]))\n",
    "\n",
    "        else:            \n",
    "            perf.append(\n",
    "                np.linalg.norm(\n",
    "                    [data[i] - new_centers[j] for i, j in enumerate(labels)]))\n",
    "        \n",
    "        if scipy.sparse.issparse(centroids):\n",
    "            centroids = centroids.toarray()\n",
    "        \n",
    "        if np.allclose(centroids, new_centers):\n",
    "            break\n",
    "\n",
    "        centroids = new_centers\n",
    "\n",
    "    print(\"#iterations\", iters)\n",
    "    return centroids, labels, perf"
   ]
  },
  {
   "cell_type": "code",
   "execution_count": null,
   "metadata": {
    "ExecuteTime": {
     "end_time": "2018-02-21T22:49:34.590783Z",
     "start_time": "2018-02-21T22:49:23.630Z"
    }
   },
   "outputs": [],
   "source": [
    "# G = lambda cm: [1 - np.sum([((cm[i, j] / np.sum(cm[:, j]))**2) for i in range(cm.shape[0])]) for j in range(cm.shape[1])]\n",
    "G = lambda cm: [\n",
    "    1 - np.sum(\n",
    "        [(np.square(\n",
    "            cm[i, j] / (np.sum(cm[:, j]) if np.sum(cm[:, j]) > 0 else 1))\n",
    "         ) for i in range(cm.shape[0])]\n",
    "    ) for j in range(cm.shape[1])]\n",
    "gini = lambda cm: np.sum(np.multiply(G(cm), np.sum(cm, axis=0))) / np.sum(cm)\n",
    "purity = lambda cm, tar: np.sum(np.amax(cm, axis=0)) / tar.shape[0]"
   ]
  },
  {
   "cell_type": "code",
   "execution_count": null,
   "metadata": {
    "ExecuteTime": {
     "end_time": "2018-02-21T22:49:34.592817Z",
     "start_time": "2018-02-21T22:49:23.900Z"
    }
   },
   "outputs": [],
   "source": [
    "def soln(x, y, k):\n",
    "    print('K: {}'.format(k))\n",
    "    centers, labels, perf = clusters(x, k)\n",
    "    cm = confusion_matrix(y, labels)\n",
    "    print(\"Purity: \", purity(cm, y))\n",
    "    print(\"Gini index: \", gini(cm))\n",
    "    print('Obj func: {}'.format(perf[-5:]))\n",
    "    return centers, labels, perf, cm"
   ]
  },
  {
   "cell_type": "markdown",
   "metadata": {},
   "source": [
    "## 20 News Group"
   ]
  },
  {
   "cell_type": "code",
   "execution_count": 4,
   "metadata": {
    "ExecuteTime": {
     "end_time": "2018-02-21T22:52:24.192116Z",
     "start_time": "2018-02-21T22:49:52.193592Z"
    }
   },
   "outputs": [
    {
     "name": "stderr",
     "output_type": "stream",
     "text": [
      "Downloading 20news dataset. This may take a few minutes.\n",
      "Downloading dataset from https://ndownloader.figshare.com/files/5975967 (14 MB)\n"
     ]
    }
   ],
   "source": [
    "newsgroups = fetch_20newsgroups(subset='all', data_home='../data')\n",
    "target = newsgroups.target\n",
    "vectorizer = TfidfVectorizer(stop_words=\"english\")\n",
    "ngvectors = vectorizer.fit_transform(newsgroups.data)"
   ]
  },
  {
   "cell_type": "code",
   "execution_count": 3,
   "metadata": {
    "ExecuteTime": {
     "end_time": "2018-02-21T22:49:48.761656Z",
     "start_time": "2018-02-21T22:49:48.747476Z"
    }
   },
   "outputs": [
    {
     "ename": "NameError",
     "evalue": "name 'ngvectors' is not defined",
     "output_type": "error",
     "traceback": [
      "\u001b[0;31m---------------------------------------------------------------------------\u001b[0m",
      "\u001b[0;31mNameError\u001b[0m                                 Traceback (most recent call last)",
      "\u001b[0;32m<ipython-input-3-0f98cd851444>\u001b[0m in \u001b[0;36m<module>\u001b[0;34m()\u001b[0m\n\u001b[0;32m----> 1\u001b[0;31m \u001b[0mngvectors\u001b[0m\u001b[0;34m.\u001b[0m\u001b[0mshape\u001b[0m\u001b[0;34m\u001b[0m\u001b[0m\n\u001b[0m",
      "\u001b[0;31mNameError\u001b[0m: name 'ngvectors' is not defined"
     ]
    }
   ],
   "source": [
    "ngvectors.shape"
   ]
  },
  {
   "cell_type": "code",
   "execution_count": 133,
   "metadata": {
    "ExecuteTime": {
     "end_time": "2018-02-14T15:38:35.409349Z",
     "start_time": "2018-02-14T15:10:12.045506Z"
    }
   },
   "outputs": [
    {
     "name": "stdout",
     "output_type": "stream",
     "text": [
      "K: 20\n",
      "chosen metric: euclidean\n",
      "#iterations 52\n",
      "Purity:  0.367717287488\n",
      "Gini index:  0.730819575015\n",
      "Obj func: [134.96710817913927, 134.96710094309879, 134.96708711301116, 134.96707984742162, 134.96707984742162]\n"
     ]
    }
   ],
   "source": [
    "c, l, p, cm = soln(ngvectors, newsgroups.target, 20)"
   ]
  },
  {
   "cell_type": "code",
   "execution_count": 134,
   "metadata": {
    "ExecuteTime": {
     "end_time": "2018-02-14T15:55:29.438853Z",
     "start_time": "2018-02-14T15:38:35.411769Z"
    }
   },
   "outputs": [
    {
     "name": "stdout",
     "output_type": "stream",
     "text": [
      "K: 10\n",
      "chosen metric: cosine\n",
      "#iterations 31\n",
      "Purity:  0.386872545898\n",
      "Gini index:  0.726574700747\n",
      "Obj func: [135.64887111673173, 135.6488753702111, 135.64879383406677, 135.64880641206219, 135.64880641206219]\n"
     ]
    }
   ],
   "source": [
    "c, l, p, cm = soln(ngvectors, newsgroups.target, 10)"
   ]
  },
  {
   "cell_type": "code",
   "execution_count": 135,
   "metadata": {
    "ExecuteTime": {
     "end_time": "2018-02-14T16:32:34.954769Z",
     "start_time": "2018-02-14T15:55:29.441763Z"
    }
   },
   "outputs": [
    {
     "name": "stdout",
     "output_type": "stream",
     "text": [
      "K: 40\n",
      "chosen metric: cosine\n",
      "#iterations 62\n",
      "Purity:  0.476069192402\n",
      "Gini index:  0.641495454795\n",
      "Obj func: [134.25909158817001, 134.25900297364382, 134.25897148589087, 134.25894834016066, 134.25894834016066]\n"
     ]
    }
   ],
   "source": [
    "c, l, p, cm = soln(ngvectors, newsgroups.target, 40)"
   ]
  },
  {
   "cell_type": "markdown",
   "metadata": {},
   "source": [
    "## Mnist"
   ]
  },
  {
   "cell_type": "code",
   "execution_count": 136,
   "metadata": {
    "ExecuteTime": {
     "end_time": "2018-02-14T16:32:34.987062Z",
     "start_time": "2018-02-14T16:32:34.957387Z"
    }
   },
   "outputs": [],
   "source": [
    "from sklearn.datasets import fetch_mldata\n",
    "mnist = fetch_mldata('MNIST original', data_home='../data')"
   ]
  },
  {
   "cell_type": "code",
   "execution_count": 137,
   "metadata": {
    "ExecuteTime": {
     "end_time": "2018-02-14T16:34:29.193664Z",
     "start_time": "2018-02-14T16:32:34.989429Z"
    }
   },
   "outputs": [
    {
     "name": "stdout",
     "output_type": "stream",
     "text": [
      "K: 10\n",
      "chosen metric: euclidean\n",
      "#iterations 98\n",
      "Purity:  0.595428571429\n",
      "Gini index:  0.543803130425\n",
      "Obj func: [423106.75526926608, 423106.74472603935, 423106.74031963485, 423106.7381509837, 423106.7381509837]\n"
     ]
    }
   ],
   "source": [
    "c, l, p, cm = soln(mnist.data, mnist.target, 10)"
   ]
  },
  {
   "cell_type": "code",
   "execution_count": 138,
   "metadata": {
    "ExecuteTime": {
     "end_time": "2018-02-14T16:35:41.626144Z",
     "start_time": "2018-02-14T16:34:29.196850Z"
    }
   },
   "outputs": [
    {
     "name": "stdout",
     "output_type": "stream",
     "text": [
      "K: 5\n",
      "chosen metric: euclidean\n",
      "#iterations 63\n",
      "Purity:  0.4525\n",
      "Gini index:  0.658289734215\n",
      "Obj func: [444529.92737302074, 444529.91112125898, 444529.90505611605, 444529.90308944322, 444529.90308944322]\n"
     ]
    }
   ],
   "source": [
    "c, l, p, cm = soln(mnist.data, mnist.target, 5)"
   ]
  },
  {
   "cell_type": "code",
   "execution_count": 139,
   "metadata": {
    "ExecuteTime": {
     "end_time": "2018-02-14T16:37:21.327922Z",
     "start_time": "2018-02-14T16:35:41.629185Z"
    }
   },
   "outputs": [
    {
     "name": "stdout",
     "output_type": "stream",
     "text": [
      "K: 20\n",
      "chosen metric: cosine\n",
      "#iterations 62\n",
      "Purity:  0.718671428571\n",
      "Gini index:  0.402852887298\n",
      "Obj func: [401523.49779512844, 401523.42243242241, 401522.32981694868, 401522.51741590869, 401522.51741590869]\n"
     ]
    }
   ],
   "source": [
    "c, l, p, cm = soln(mnist.data, mnist.target, 20)"
   ]
  },
  {
   "cell_type": "markdown",
   "metadata": {},
   "source": [
    "## Fashion Dataset"
   ]
  },
  {
   "cell_type": "code",
   "execution_count": 140,
   "metadata": {
    "ExecuteTime": {
     "end_time": "2018-02-14T16:37:21.849247Z",
     "start_time": "2018-02-14T16:37:21.331058Z"
    }
   },
   "outputs": [],
   "source": [
    "fashion_data, fashion_target = load_mnist('../data/fashion-mnist/data/fashion')"
   ]
  },
  {
   "cell_type": "code",
   "execution_count": 141,
   "metadata": {
    "ExecuteTime": {
     "end_time": "2018-02-14T16:38:19.304036Z",
     "start_time": "2018-02-14T16:37:21.851450Z"
    }
   },
   "outputs": [
    {
     "name": "stdout",
     "output_type": "stream",
     "text": [
      "K: 10\n",
      "chosen metric: cosine\n",
      "#iterations 41\n",
      "Purity:  0.63265\n",
      "Gini index:  0.478215041929\n",
      "Obj func: [383939.18737842166, 383939.64148891938, 383938.64848397503, 383939.7345072708, 383939.7345072708]\n"
     ]
    }
   ],
   "source": [
    "c, l, p, cm = soln(fashion_data, fashion_target, 10)"
   ]
  },
  {
   "cell_type": "code",
   "execution_count": 142,
   "metadata": {
    "ExecuteTime": {
     "end_time": "2018-02-14T16:38:51.356982Z",
     "start_time": "2018-02-14T16:38:19.306794Z"
    }
   },
   "outputs": [
    {
     "name": "stdout",
     "output_type": "stream",
     "text": [
      "K: 5\n",
      "chosen metric: cosine\n",
      "#iterations 23\n",
      "Purity:  0.373416666667\n",
      "Gini index:  0.698165064973\n",
      "Obj func: [415577.87146307511, 415575.81634824304, 415575.70072308817, 415575.80282513966, 415575.80282513966]\n"
     ]
    }
   ],
   "source": [
    "c, l, p, cm = soln(fashion_data, fashion_target, 5)"
   ]
  },
  {
   "cell_type": "code",
   "execution_count": 143,
   "metadata": {
    "ExecuteTime": {
     "end_time": "2018-02-14T16:40:58.339652Z",
     "start_time": "2018-02-14T16:38:51.360796Z"
    }
   },
   "outputs": [
    {
     "name": "stdout",
     "output_type": "stream",
     "text": [
      "K: 20\n",
      "chosen metric: euclidean\n",
      "#iterations 123\n",
      "Purity:  0.663333333333\n",
      "Gini index:  0.436879249509\n",
      "Obj func: [322881.14453569247, 322881.14057779952, 322881.13734229526, 322881.13559198001, 322881.13559198001]\n"
     ]
    }
   ],
   "source": [
    "c, l, p, cm = soln(fashion_data, fashion_target, 20)"
   ]
  }
 ],
 "metadata": {
  "kernelspec": {
   "display_name": "Python 3",
   "language": "python",
   "name": "python3"
  }
 },
 "nbformat": 4,
 "nbformat_minor": 2
}
