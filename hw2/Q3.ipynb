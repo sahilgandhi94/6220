{
 "cells": [
  {
   "cell_type": "code",
   "execution_count": 2,
   "metadata": {
    "ExecuteTime": {
     "end_time": "2018-02-16T22:42:37.659334Z",
     "start_time": "2018-02-16T22:42:37.448429Z"
    }
   },
   "outputs": [],
   "source": [
    "import numpy as np\n",
    "import matplotlib.pyplot as plt\n",
    "from scipy.stats import multivariate_normal\n",
    "\n",
    "gauss2 = np.loadtxt('../Data/2gaussian.txt')\n",
    "gauss3 = np.loadtxt('../Data/3gaussian.txt')"
   ]
  },
  {
   "cell_type": "code",
   "execution_count": 55,
   "metadata": {
    "ExecuteTime": {
     "end_time": "2018-02-16T23:54:37.679245Z",
     "start_time": "2018-02-16T23:54:37.548255Z"
    }
   },
   "outputs": [],
   "source": [
    "prob = lambda x, mu, sigma, w: w*multivariate_normal.pdf(x, mu, sigma)\n",
    "def e(x, params, k):\n",
    "    members = [[] for i in range(x.shape[0])]\n",
    "    for i in range(x.shape[0]):\n",
    "        for j in range(k):\n",
    "            members[i].append(prob(x[i], params['mu'][j], params['sigma'][j], params['w'][j]))\n",
    "        members[i] = members[i]/sum(members[i])\n",
    "#     print('mem', members)\n",
    "#     members = np.array(members)\n",
    "    ll = sum(np.log(np.sum(members, axis = 1)))\n",
    "    return np.array(members), ll\n",
    "\n",
    "def m(x, params, members, k):\n",
    "    ns = np.sum(members, axis=0)\n",
    "#     print('members ', members)\n",
    "#     print('nk ', ns)\n",
    "    params['w'] = np.divide(ns, len(x))\n",
    "    params['mu'] = [\n",
    "        np.divide(np.sum(np.multiply(members.T[i].reshape(-1, 1), x), axis=0), ns[i]) for i in range(k)]\n",
    "    params['sigma'] = [\n",
    "        np.divide(np.dot((x - params['mu'][i]).T,np.multiply(members.T[i].reshape(-1, 1),(x - params['mu'][i]))), np.sum(members, axis=0)[i]) for i in range(k)\n",
    "    ]\n",
    "    return params\n",
    "\n",
    "def em(x, params, k, threshold=1e-8):\n",
    "    iter = 0\n",
    "    ll_lst = list()\n",
    "    while True:\n",
    "        iter+=1\n",
    "        mem, ll = e(x, params, k)\n",
    "        params = m(x, params, mem, k)\n",
    "#         print(iter, ll, params)\n",
    "        if iter > 2 and np.isclose(ll_lst[-1], ll, atol=threshold):\n",
    "            break\n",
    "        ll_lst.append(ll)\n",
    "    print('#iters: {}'.format(iter))\n",
    "    print('params: \\n{}'.format(params))"
   ]
  },
  {
   "cell_type": "markdown",
   "metadata": {},
   "source": [
    "### Two Gaussian"
   ]
  },
  {
   "cell_type": "code",
   "execution_count": 57,
   "metadata": {
    "ExecuteTime": {
     "end_time": "2018-02-16T23:55:26.644100Z",
     "start_time": "2018-02-16T23:55:18.251288Z"
    }
   },
   "outputs": [
    {
     "name": "stdout",
     "output_type": "stream",
     "text": [
      "#iters: 3\n",
      "params: \n",
      "{'w': array([ 0.33115045,  0.66884955]), 'mu': [array([ 2.97295552,  3.05438516]), array([ 7.00172864,  3.97692683])], 'sigma': [array([[ 0.9761496 ,  0.03037211],\n",
      "       [ 0.03037211,  2.95470502]]), array([[ 0.99523386,  0.50847154],\n",
      "       [ 0.50847154,  1.01013246]])]}\n"
     ]
    }
   ],
   "source": [
    "initial = {\n",
    "    'w': [0.4, 0.6],\n",
    "    'mu': [[2.8, 2.9], [6.8, 3.8]],\n",
    "    'sigma': [[[1.000, 0.023], [0.023, 2.877]],\n",
    "               [[1.000, 0.483], [0.423, 0.997]]]}\n",
    "em(gauss2, initial, 2)"
   ]
  },
  {
   "cell_type": "markdown",
   "metadata": {},
   "source": [
    "### Three Gaussian"
   ]
  },
  {
   "cell_type": "code",
   "execution_count": 58,
   "metadata": {
    "ExecuteTime": {
     "end_time": "2018-02-16T23:58:01.959830Z",
     "start_time": "2018-02-16T23:57:41.707993Z"
    }
   },
   "outputs": [
    {
     "name": "stdout",
     "output_type": "stream",
     "text": [
      "#iters: 3\n",
      "params: \n",
      "{'w': array([ 0.21704004,  0.29702647,  0.48593349]), 'mu': [array([ 3.08685134,  3.1852099 ]), array([ 7.03245271,  4.02116763]), array([ 5.03627814,  7.02134354])], 'sigma': [array([[ 1.06291983,  0.1129919 ],\n",
      "       [ 0.1129919 ,  3.6613992 ]]), array([[ 0.97190725,  0.49385651],\n",
      "       [ 0.49385651,  0.99423992]]), array([[ 0.94932301,  0.16781069],\n",
      "       [ 0.16781069,  0.94784999]])]}\n"
     ]
    }
   ],
   "source": [
    "initial = {\n",
    "    'w': [0.3, 0.3, 0.4],\n",
    "    'mu': [[3.00, 3.00], [7.00, 4.00], [5.0, 7.0]],\n",
    "    'sigma': [[[1.000, 0.023], [0.023, 3.387]],\n",
    "              [[0.900, 0.500], [0.500, 0.900]],\n",
    "              [[0.900, 0.180], [0.180, 0.900]],]}\n",
    "em(gauss3, initial, 3)"
   ]
  },
  {
   "cell_type": "code",
   "execution_count": null,
   "metadata": {},
   "outputs": [],
   "source": []
  }
 ],
 "metadata": {
  "kernelspec": {
   "display_name": "Python 3",
   "language": "python",
   "name": "python3"
  },
  "language_info": {
   "codemirror_mode": {
    "name": "ipython",
    "version": 3
   },
   "file_extension": ".py",
   "mimetype": "text/x-python",
   "name": "python",
   "nbconvert_exporter": "python",
   "pygments_lexer": "ipython3",
   "version": "3.6.4"
  },
  "toc": {
   "nav_menu": {},
   "number_sections": true,
   "sideBar": true,
   "skip_h1_title": false,
   "toc_cell": false,
   "toc_position": {},
   "toc_section_display": "block",
   "toc_window_display": false
  },
  "varInspector": {
   "cols": {
    "lenName": 16,
    "lenType": 16,
    "lenVar": 40
   },
   "kernels_config": {
    "python": {
     "delete_cmd_postfix": "",
     "delete_cmd_prefix": "del ",
     "library": "var_list.py",
     "varRefreshCmd": "print(var_dic_list())"
    },
    "r": {
     "delete_cmd_postfix": ") ",
     "delete_cmd_prefix": "rm(",
     "library": "var_list.r",
     "varRefreshCmd": "cat(var_dic_list()) "
    }
   },
   "types_to_exclude": [
    "module",
    "function",
    "builtin_function_or_method",
    "instance",
    "_Feature"
   ],
   "window_display": false
  }
 },
 "nbformat": 4,
 "nbformat_minor": 2
}
